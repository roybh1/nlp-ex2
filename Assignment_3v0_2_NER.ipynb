{
  "cells": [
    {
      "cell_type": "markdown",
      "metadata": {
        "id": "k-WJBimYDLJS"
      },
      "source": [
        "# Natural Language Processing\n",
        "![](https://i.imgur.com/qkg2E2D.png)\n",
        "\n",
        "## Assignment 002 - NER Tagger\n",
        "\n",
        "> Notebook by:\n",
        "> - NLP Course Stuff\n",
        "## Revision History\n",
        "\n",
        "| Version | Date       | User        | Content / Changes                                                   |\n",
        "|---------|------------|-------------|---------------------------------------------------------------------|\n",
        "| 0.1.000 | 29/05/2025 | course staff| First version                                                       |\n",
        "| 0.2.000 | 09/06/2025 | course staff| Second version                                                       |"
      ]
    },
    {
      "cell_type": "markdown",
      "metadata": {
        "id": "Z-fCqGh9ybgm"
      },
      "source": [
        "## Overview\n",
        "In this assignment, you will build a complete training and testing pipeline for a neural sequential tagger for named entities using LSTM.\n",
        "\n",
        "## Dataset\n",
        "You will work with the ReCoNLL 2003 dataset, a corrected version of the [CoNLL 2003 dataset](https://www.clips.uantwerpen.be/conll2003/ner/):\n",
        "\n",
        "**Click on those links so you have access to the data!**\n",
        "- [Train data](https://drive.google.com/file/d/1CqEGoLPVKau3gvVrdG6ORyfOEr1FSZGf/view?usp=sharing)\n",
        "\n",
        "- [Dev data](https://drive.google.com/file/d/1rdUida-j3OXcwftITBlgOh8nURhAYUDw/view?usp=sharing)\n",
        "\n",
        "- [Test data](https://drive.google.com/file/d/137Ht40OfflcsE6BIYshHbT5b2iIJVaDx/view?usp=sharing)\n",
        "\n",
        "As you will see, the annotated texts are labeled according to the `IOB` annotation scheme (more on this below), for 3 entity types: Person, Organization, Location.\n",
        "\n",
        "## Your Implementation\n",
        "\n",
        "Please create a local copy of this template Colab's Notebook:\n",
        "\n",
        "[![Open In Colab](https://colab.research.google.com/assets/colab-badge.svg)](https://colab.research.google.com/drive/1KGkObwUn5QQm_v0nB0nAUlB4YrwThuzl#scrollTo=Z-fCqGh9ybgm)\n",
        "\n",
        "The assignment's instructions are there; follow the notebook.\n",
        "\n",
        "## Submission\n",
        "- **Notebook Link**: Add the URL to your assignment's notebook in the `notebook_link.txt` file, following the format provided in the example.\n",
        "- **Access**: Ensure the link has edit permissions enabled to allow modifications if needed.\n",
        "- **Deadline**: <font color='green'>16/06/2025</font>.\n",
        "- **Platform**: Continue using GitHub for submissions. Push your project to the team repository and monitor the test results under the actions section.\n",
        "\n",
        "Good Luck 🤗\n"
      ]
    },
    {
      "cell_type": "markdown",
      "metadata": {
        "id": "VOy8IghquR6x"
      },
      "source": [
        "<!-- ## NER schemes:  \n",
        "\n",
        "> `IO`: is the simplest scheme that can be applied to this task. In this scheme, each token from the dataset is assigned one of two tags: an inside tag (`I`) and an outside tag (`O`). The `I` tag is for named entities, whereas the `O` tag is for normal words. This scheme has a limitation, as it cannot correctly encode consecutive entities of the same type.\n",
        "\n",
        "> `IOB`: This scheme is also referred to in the literature as BIO and has been adopted by the Conference on Computational Natural Language Learning (CoNLL) [1]. It assigns a tag to each word in the text, determining whether it is the beginning (`B`) of a known named entity, inside (`I`) it, or outside (`O`) of any known named entities.\n",
        "\n",
        "> `IOE`: This scheme works nearly identically to `IOB`, but it indicates the end of the entity (`E` tag) instead of its beginning.\n",
        "\n",
        "> `IOBES`: An alternative to the IOB scheme is `IOBES`, which increases the amount of information related to the boundaries of named entities. In addition to tagging words at the beginning (`B`), inside (`I`), end (`E`), and outside (`O`) of a named entity. It also labels single-token entities with the tag `S`.\n",
        "\n",
        "> `BI`: This scheme tags entities in a similar method to `IOB`. Additionally, it labels the beginning of non-entity words with the tag B-O and the rest as I-O.\n",
        "\n",
        "> `IE`: This scheme works exactly like `IOE` with the distinction that it labels the end of non-entity words with the tag `E-O` and the rest as `I-O`.\n",
        "\n",
        "> `BIES`: This scheme encodes the entities similar to `IOBES`. In addition, it also encodes the non-entity words using the same method. It uses `B-O` to tag the beginning of non-entity words, `I-O` to tag the inside of non-entity words, and `S-O` for single non-entity tokens that exist between two entities. -->\n",
        "\n",
        "\n",
        "## NER Schemes\n",
        "\n",
        "### IO\n",
        "- **Description**: The simplest scheme for named entity recognition (NER).\n",
        "- **Tags**:\n",
        "\t- `I`: Inside a named entity.\n",
        "\t- `O`: Outside any named entity.\n",
        "- **Limitation**: Cannot correctly encode consecutive entities of the same type.\n",
        "\n",
        "### IOB (BIO)\n",
        "- **Description**: Adopted by the Conference on Computational Natural Language Learning (CoNLL).\n",
        "- **Tags**:\n",
        "\t- `B`: Beginning of a named entity.\n",
        "\t- `I`: Inside a named entity.\n",
        "\t- `O`: Outside any named entity.\n",
        "- **Advantage**: Can encode the boundaries of consecutive entities.\n",
        "\n",
        "### IOE\n",
        "- **Description**: Similar to IOB, but indicates the end of an entity.\n",
        "- **Tags**:\n",
        "\t- `I`: Inside a named entity.\n",
        "\t- `O`: Outside any named entity.\n",
        "\t- `E`: End of a named entity.\n",
        "- **Advantage**: Focuses on the end boundary of entities.\n",
        "\n",
        "### IOBES\n",
        "- **Description**: An extension of IOB with additional boundary information.\n",
        "- **Tags**:\n",
        "\t- `B`: Beginning of a named entity.\n",
        "\t- `I`: Inside a named entity.\n",
        "\t- `O`: Outside any named entity.\n",
        "\t- `E`: End of a named entity.\n",
        "\t- `S`: Single-token named entity.\n",
        "- **Advantage**: Provides more detailed boundary information for named entities.\n",
        "\n",
        "### BI\n",
        "- **Description**: Tags entities similarly to IOB and labels the beginning of non-entity words.\n",
        "- **Tags**:\n",
        "\t- `B`: Beginning of a named entity.\n",
        "\t- `I`: Inside a named entity.\n",
        "\t- `B-O`: Beginning of a non-entity word.\n",
        "\t- `I-O`: Inside a non-entity word.\n",
        "- **Advantage**: Distinguishes the beginning of non-entity sequences.\n",
        "\n",
        "### IE\n",
        "- **Description**: Similar to IOE but for non-entity words.\n",
        "- **Tags**:\n",
        "\t- `I`: Inside a named entity.\n",
        "\t- `O`: Outside any named entity.\n",
        "\t- `E`: End of a named entity.\n",
        "\t- `E-O`: End of a non-entity word.\n",
        "\t- `I-O`: Inside a non-entity word.\n",
        "- **Advantage**: Highlights the end of non-entity sequences.\n",
        "\n",
        "### BIES\n",
        "- **Description**: Encodes both entities and non-entity words using the IOBES method.\n",
        "- **Tags**:\n",
        "\t- `B`: Beginning of a named entity.\n",
        "\t- `I`: Inside a named entity.\n",
        "\t- `O`: Outside any named entity.\n",
        "\t- `E`: End of a named entity.\n",
        "\t- `S`: Single-token named entity.\n",
        "\t- `B-O`: Beginning of a non-entity word.\n",
        "\t- `I-O`: Inside a non-entity word.\n",
        "\t- `S-O`: Single non-entity token.\n",
        "- **Advantage**: Comprehensive encoding for both entities and non-entities.\n",
        "\n",
        "\n"
      ]
    },
    {
      "cell_type": "code",
      "execution_count": 74,
      "metadata": {
        "id": "bRwONXCzi28v"
      },
      "outputs": [
        {
          "name": "stderr",
          "output_type": "stream",
          "text": [
            "2055.44s - pydevd: Sending message related to process being replaced timed-out after 5 seconds\n"
          ]
        },
        {
          "name": "stdout",
          "output_type": "stream",
          "text": [
            "mkdir: data: File exists\n"
          ]
        },
        {
          "name": "stderr",
          "output_type": "stream",
          "text": [
            "2060.76s - pydevd: Sending message related to process being replaced timed-out after 5 seconds\n",
            "2069.10s - pydevd: Sending message related to process being replaced timed-out after 5 seconds\n",
            "2077.02s - pydevd: Sending message related to process being replaced timed-out after 5 seconds\n"
          ]
        }
      ],
      "source": [
        "!mkdir data\n",
        "# Fetch data\n",
        "# train_link = 'https://drive.google.com/file/d/1CqEGoLPVKau3gvVrdG6ORyfOEr1FSZGf/view?usp=sharing'\n",
        "# dev_link   = 'https://drive.google.com/file/d/1rdUida-j3OXcwftITBlgOh8nURhAYUDw/view?usp=sharing'\n",
        "# test_link  = 'https://drive.google.com/file/d/137Ht40OfflcsE6BIYshHbT5b2iIJVaDx/view?usp=sharing'\n",
        "\n",
        "!wget -q --no-check-certificate 'https://docs.google.com/uc?export=download&id=1CqEGoLPVKau3gvVrdG6ORyfOEr1FSZGf' -O data/train.txt\n",
        "!wget -q --no-check-certificate 'https://docs.google.com/uc?export=download&id=1rdUida-j3OXcwftITBlgOh8nURhAYUDw' -O data/dev.txt\n",
        "!wget -q --no-check-certificate 'https://docs.google.com/uc?export=download&id=137Ht40OfflcsE6BIYshHbT5b2iIJVaDx' -O data/test.txt\n"
      ]
    },
    {
      "cell_type": "code",
      "execution_count": 75,
      "metadata": {
        "id": "5QNUSyEwvWqn"
      },
      "outputs": [],
      "source": [
        "# Any additional needed libraries\n",
        "# !pip install --q"
      ]
    },
    {
      "cell_type": "code",
      "execution_count": 76,
      "metadata": {
        "id": "3enPCGBF8FlX"
      },
      "outputs": [],
      "source": [
        "# Standard Library Imports\n",
        "import os\n",
        "import copy\n",
        "import random\n",
        "import warnings\n",
        "from collections import defaultdict\n",
        "from typing import Optional\n",
        "\n",
        "# ML\n",
        "import numpy as np\n",
        "import scipy as sp\n",
        "import pandas as pd\n",
        "\n",
        "# Visual\n",
        "import matplotlib\n",
        "import seaborn as sns\n",
        "from tqdm import tqdm\n",
        "from tabulate import tabulate\n",
        "import matplotlib.pyplot as plt\n",
        "from IPython.display import display\n",
        "\n",
        "# DL\n",
        "import torch as th\n",
        "import torch.nn as nn\n",
        "from torch.optim import Adam\n",
        "from torch.utils.data import DataLoader, Dataset\n",
        "\n",
        "# Metrics\n",
        "from sklearn import metrics\n",
        "from sklearn.metrics import accuracy_score , roc_auc_score, classification_report, confusion_matrix, precision_recall_fscore_support\n"
      ]
    },
    {
      "cell_type": "code",
      "execution_count": 77,
      "metadata": {
        "id": "ZUM4WJ9PwF0x"
      },
      "outputs": [],
      "source": [
        "SEED = 42\n",
        "# Set the random seed for Python\n",
        "random.seed(SEED)\n",
        "\n",
        "# Set the random seed for numpy\n",
        "np.random.seed(SEED)\n",
        "\n",
        "# Set the random seed for pytorch\n",
        "th.manual_seed(SEED)\n",
        "\n",
        "# If using CUDA (for GPU operations)\n",
        "th.cuda.manual_seed(SEED)\n",
        "\n",
        "# Set up the device\n",
        "# TO DO ----------------------------------------------------------------------\n",
        "DEVICE = \"mps\"\n",
        "# TO DO ----------------------------------------------------------------------\n",
        "#assert DEVICE == \"cuda\"\n",
        "\n",
        "DataType = list[tuple[list[str],list[str]]]"
      ]
    },
    {
      "cell_type": "markdown",
      "metadata": {
        "id": "f-1shPaJ0z1B"
      },
      "source": [
        "# Part 1 - Dataset Preparation"
      ]
    },
    {
      "cell_type": "markdown",
      "metadata": {
        "id": "5ul2Y3vuPoV8"
      },
      "source": [
        "## Step 1: Read Data\n",
        "Write a function for reading the data from a single file (of the ones that are provided above).   \n",
        "- The function recieves a filepath\n",
        "- The funtion encodes every sentence individually using a pair of lists, one list contains the words and one list contains the tags.\n",
        "- Each list pair will be added to a general list (data), which will be returned back from the function.\n",
        "\n",
        "Example output:\n",
        "```\n",
        "[\n",
        "\t(['At','Trent','Bridge',':'],['O','B-LOC','I-LOC ','O']),\n",
        "\t([...],[...]),\n",
        "\t...\n",
        "]\n",
        "```"
      ]
    },
    {
      "cell_type": "code",
      "execution_count": 78,
      "metadata": {
        "id": "prgzgtt8Jw4Y"
      },
      "outputs": [],
      "source": [
        "def read_data(filepath:str) -> DataType:\n",
        "\t\"\"\"\n",
        "\tRead data from a single file.\n",
        "\tThe function recieves a filepath\n",
        "\tThe funtion encodes every sentence using a pair of lists, one list contains the words and one list contains the tags.\n",
        "\t:param filepath: path to the file\n",
        "\t:return: data as a list of tuples\n",
        "\t\"\"\"\n",
        "\tdata = []\n",
        "\twords = []\n",
        "\ttags = []\n",
        "\n",
        "\twith open(filepath, 'r', encoding='utf-8') as f:\n",
        "\t\tfor line in f:\n",
        "\t\t\tline = line.strip()\n",
        "\t\t\tif line == \"\":\n",
        "\t\t\t\tif words:\n",
        "\t\t\t\t\tdata.append((words, tags))\n",
        "\t\t\t\t\twords = []\n",
        "\t\t\t\t\ttags = []\n",
        "\t\t\telse:\n",
        "\t\t\t\tparts = line.split()\n",
        "\t\t\t\tif len(parts) >= 2:\n",
        "\t\t\t\t\tword = parts[0]\n",
        "\t\t\t\t\ttag = parts[-1]\n",
        "\t\t\t\t\twords.append(word)\n",
        "\t\t\t\t\ttags.append(tag)\n",
        "\n",
        "\t\t# Add the final sentence if the file doesn't end with a newline\n",
        "\t\tif words:\n",
        "\t\t\tdata.append((words, tags))\n",
        "\n",
        "\treturn data"
      ]
    },
    {
      "cell_type": "code",
      "execution_count": 79,
      "metadata": {
        "colab": {
          "base_uri": "https://localhost:8080/"
        },
        "id": "yURR0GmX2i8M",
        "outputId": "3d1a4449-c417-4bf4-f086-0c982fbb3c9f"
      },
      "outputs": [],
      "source": [
        "train = read_data(\"data/train.txt\")\n",
        "dev = read_data(\"data/dev.txt\")\n",
        "test = read_data(\"data/test.txt\")"
      ]
    },
    {
      "cell_type": "markdown",
      "metadata": {
        "id": "IuGwk6OwRWGS"
      },
      "source": [
        "## Step 2: Create Vocab\n",
        "\n",
        "The `Vocab` class will serve as a dictionary that maps words and tags into IDs. Ensure that you include special tokens to handle out-of-vocabulary words and padding.\n",
        "\n",
        "### Your Task\n",
        "1. **Define Special Tokens**: Define special tokens such as `PAD_TOKEN` and `UNK_TOKEN` and assign them unique IDs.\n",
        "2. **Initialize Dictionaries**: Populate the word and tag dictionaries based on the training set.\n",
        "\n",
        "*Note: You may change the `Vocab` class as needed.*"
      ]
    },
    {
      "cell_type": "code",
      "execution_count": 80,
      "metadata": {
        "id": "6rKIB5o_vQO8"
      },
      "outputs": [],
      "source": [
        "# Initinize ids for special tokens\n",
        "PAD_TOKEN = -1\n",
        "UNK_TOKEN = -2\n",
        "\n",
        "class Vocab:\n",
        "\tdef __init__(self, train: DataType):\n",
        "\t\t\"\"\"\n",
        "\t\tInitialize a Vocab instance.\n",
        "\t\t:param train: train data\n",
        "\t\t\"\"\"\n",
        "\t\tself.word2id = {\"__unk__\": UNK_TOKEN, \"__pad__\": PAD_TOKEN}\n",
        "\t\tself.id2word = {UNK_TOKEN: \"__unk__\", PAD_TOKEN: \"__pad__\"}\n",
        "\t\tself.n_words = 2\n",
        "\n",
        "\t\tself.tag2id = {}\n",
        "\t\tself.id2tag = {}\n",
        "\t\tself.n_tags = 0\n",
        "\n",
        "\t\tfor words, tags in train:\n",
        "\t\t\tfor word in words:\n",
        "\t\t\t\tif word not in self.word2id:\n",
        "\t\t\t\t\tself.word2id[word] = self.n_words\n",
        "\t\t\t\t\tself.id2word[self.n_words] = word\n",
        "\t\t\t\t\tself.n_words += 1\n",
        "\t\t\tfor tag in tags:\n",
        "\t\t\t\tif tag not in self.tag2id:\n",
        "\t\t\t\t\tself.tag2id[tag] = self.n_tags\n",
        "\t\t\t\t\tself.id2tag[self.n_tags] = tag\n",
        "\t\t\t\t\tself.n_tags += 1    \n",
        "\n",
        "\tdef __len__(self):\n",
        "\t\treturn self.n_words\n",
        "\n",
        "\tdef index_tags(self, tags: list[str]) -> list[int]:\n",
        "\t\t\"\"\"\n",
        "\t\tConvert tags to Ids.\n",
        "\t\t:param tags: list of tags\n",
        "\t\t:return: list of Ids\n",
        "\t\t\"\"\"\n",
        "\t\ttag_indexes = [self.tag2id[t] for t in tags]\n",
        "\t\treturn tag_indexes\n",
        "\n",
        "\tdef index_words(self, words: list[str]) -> list[int]:\n",
        "\t\t\"\"\"\n",
        "\t\tConvert words to Ids.\n",
        "\t\t:param words: list of words\n",
        "\t\t:return: list of Ids\n",
        "\t\t\"\"\"\n",
        "\t\tword_indexes = [self.word2id[w] if w in self.word2id else self.word2id[\"__unk__\"] for w in words]\n",
        "\t\treturn word_indexes"
      ]
    },
    {
      "cell_type": "code",
      "execution_count": 81,
      "metadata": {
        "colab": {
          "base_uri": "https://localhost:8080/"
        },
        "id": "0H2D2zSR4GQ9",
        "outputId": "9c16a220-07c5-40f0-e5f0-b7554d19dc1b"
      },
      "outputs": [],
      "source": [
        "vocab = Vocab(train)\n"
      ]
    },
    {
      "cell_type": "markdown",
      "metadata": {
        "id": "iDKYryfKfNdh"
      },
      "source": [
        "## Step 3: Prepare Data\n",
        "Write a function `prepare_data` that takes one of the [train, dev, test] and the `Vocab` instance, for converting each pair of (words, tags) to a pair of indexes. Additionally, the function should pad the sequences to the maximum length sequence **of the given split**.\n",
        "\n",
        "Note: Vocabulary is based only on the train set.\n",
        "\n",
        "### Your Task\n",
        "1. Convert each pair of (words, tags) to a pair of indexes using the Vocab instance.\n",
        "2. Pad the sequences to the maximum length of the sequences in the given split."
      ]
    },
    {
      "cell_type": "code",
      "execution_count": 82,
      "metadata": {
        "id": "noIY3zWKvhBd"
      },
      "outputs": [],
      "source": [
        "def prepare_data(data: DataType, vocab: Vocab):\n",
        "\tdata_sequences = []\n",
        "\tPAD_WORD_ID = vocab.word2id[\"__pad__\"]\n",
        "\tPAD_TAG_ID = vocab.tag2id.get(\"O\", 0)  # Default to \"O\" if no padding tag defined\n",
        "\t\n",
        "\tmax_len = max(len(words) for words, _ in data)\n",
        "\n",
        "\tfor words, tags in data:\n",
        "\t\tword_ids = vocab.index_words(words)\n",
        "\t\ttag_ids = vocab.index_tags(tags)\n",
        "\n",
        "\t\t# Padding\n",
        "\t\tpadding_len = max_len - len(words)\n",
        "\t\tword_ids += [PAD_WORD_ID] * padding_len\n",
        "\t\ttag_ids += [PAD_TAG_ID] * padding_len\n",
        "\n",
        "\t\tdata_sequences.append((word_ids, tag_ids))\n",
        "\n",
        "\treturn data_sequences    "
      ]
    },
    {
      "cell_type": "code",
      "execution_count": 83,
      "metadata": {
        "id": "Y4mryWuq6rox"
      },
      "outputs": [],
      "source": [
        "train_sequences = prepare_data(train, vocab)\n",
        "dev_sequences = prepare_data(dev, vocab)\n",
        "test_sequences = prepare_data(test, vocab)\n"
      ]
    },
    {
      "cell_type": "markdown",
      "metadata": {
        "id": "aSR-qJnIQGUJ"
      },
      "source": [
        "### Your Task\n",
        "Print the number of OOV in dev and test sets:"
      ]
    },
    {
      "cell_type": "code",
      "execution_count": 84,
      "metadata": {
        "id": "QaXaJe5wrGhl"
      },
      "outputs": [],
      "source": [
        "def count_oov(sequences) -> int:\n",
        "\t\"\"\"\n",
        "\tCount the number of OOV words.\n",
        "\t:param sequences: list of sequences\n",
        "\t:return: number of OOV words\n",
        "\t\"\"\"\n",
        "\toov = 0\n",
        "\n",
        "\tfor word_ids, _ in sequences:\n",
        "\t\toov += sum(1 for wid in word_ids if wid == UNK_TOKEN)\n",
        "\n",
        "\treturn oov"
      ]
    },
    {
      "cell_type": "markdown",
      "metadata": {
        "id": "QxC7SyD0EaMF"
      },
      "source": [
        "## Step 4: Dataloaders\n",
        "Create dataloaders for each split in the dataset. They should return the samples as Tensors.\n",
        "\n",
        "**Hint** - you can create a Dataset to support this part.\n",
        "\n",
        "For the training set, use shuffling, and for the dev and test, not."
      ]
    },
    {
      "cell_type": "code",
      "execution_count": 85,
      "metadata": {
        "id": "vpMZ1C15t4Ra"
      },
      "outputs": [
        {
          "name": "stdout",
          "output_type": "stream",
          "text": [
            "torch.Size([16, 58])\n",
            "torch.Size([16, 58])\n"
          ]
        }
      ],
      "source": [
        "class SequenceDataset(Dataset):\n",
        "\tdef __init__(self, sequences):\n",
        "\t\t\"\"\"\n",
        "\t\tDataset wrapping a list of (word_ids, tag_ids) pairs.\n",
        "\t\t:param sequences: list of (word_ids, tag_ids)\n",
        "\t\t\"\"\"\n",
        "\t\tself.sequences = sequences\n",
        "\n",
        "\tdef __len__(self):\n",
        "\t\treturn len(self.sequences)\n",
        "\n",
        "\tdef __getitem__(self, idx):\n",
        "\t\tword_ids, tag_ids = self.sequences[idx]\n",
        "\t\tword_ids = th.tensor(word_ids, dtype=th.long)\n",
        "\t\ttag_ids = th.tensor(tag_ids, dtype=th.long)\n",
        "\t\treturn word_ids, tag_ids\n",
        "\n",
        "def prepare_data_loader(sequences, batch_size: int, train: bool = True):\n",
        "\t\"\"\"\n",
        "\tCreate a DataLoader from a list of sequences.\n",
        "\t:param sequences: list of (word_ids, tag_ids)\n",
        "\t:param batch_size: batch size\n",
        "\t:param train: whether to shuffle the dataloader\n",
        "\t:return: PyTorch DataLoader\n",
        "\t\"\"\"\n",
        "\tdataset = SequenceDataset(sequences)\n",
        "\tdataloader = DataLoader(dataset, batch_size=batch_size, shuffle=train)\n",
        "\treturn dataloader\n",
        "\n",
        "\n",
        "data_loader_train = prepare_data_loader(train_sequences, batch_size=16)\n",
        "for batch in data_loader_train:\n",
        "\tinputs, labels = batch\n",
        "\tprint(inputs.shape)\n",
        "\tprint(labels.shape)\n",
        "\tbreak\n"
      ]
    },
    {
      "cell_type": "code",
      "execution_count": 86,
      "metadata": {
        "colab": {
          "base_uri": "https://localhost:8080/"
        },
        "id": "YWhK-O-suA93",
        "outputId": "cc7dfd7d-696f-4d63-8923-5a64ea851e4d"
      },
      "outputs": [],
      "source": [
        "BATCH_SIZE = 16\n",
        "dl_train = prepare_data_loader(train_sequences, batch_size=BATCH_SIZE)\n",
        "dl_dev = prepare_data_loader(dev_sequences, batch_size=BATCH_SIZE, train=False)\n",
        "dl_test = prepare_data_loader(test_sequences, batch_size=BATCH_SIZE, train=False)"
      ]
    },
    {
      "cell_type": "markdown",
      "metadata": {
        "id": "aUsgtdW869JH"
      },
      "source": [
        "# Part 2 - NER Model Training"
      ]
    },
    {
      "cell_type": "markdown",
      "metadata": {
        "id": "UccfiRRtiEet"
      },
      "source": [
        "## Step 1: Implement Model\n",
        "\n",
        "Write NERNet, a PyTorch Module for labeling words with NER tags.\n",
        "\n",
        "> `input_size`: the size of the vocabulary  \n",
        "`embedding_size`: the size of the embeddings  \n",
        "`hidden_size`: the LSTM hidden size  \n",
        "`output_size`: the number tags we are predicting for  \n",
        "`n_layers`: the number of layers we want to use in LSTM  \n",
        "`directions`: could 1 or 2, indicating unidirectional or bidirectional LSTM, respectively  \n",
        "\n",
        "<br>  \n",
        "\n",
        "The input for your forward function should be a single sentence tensor.\n",
        "\n",
        "*Note: the embeddings in this section are learned embedding. That means that you don't need to use pretrained embedding like the one used in the last excersie. You will use them in part 5.*\n",
        "\n",
        "*Note: You may change the NERNet class.*"
      ]
    },
    {
      "cell_type": "code",
      "execution_count": 87,
      "metadata": {
        "id": "Ke1LyUQNyQaM"
      },
      "outputs": [],
      "source": [
        "class NERNet(nn.Module):\n",
        "\tdef __init__(self, input_size: int, embedding_size: int, hidden_size: int, output_size: int, n_layers: int, directions: int):\n",
        "\t\t\"\"\"\n",
        "\t\tInitialize a NERNet instance.\n",
        "\t\t:param input_size: the size of the vocabulary\n",
        "\t\t:param embedding_size: the size of the embeddings\n",
        "\t\t:param hidden_size: the LSTM hidden size\n",
        "\t\t:param output_size: the number tags we are predicting for\n",
        "\t\t:param directions: could be 1 or 2, indicating unidirectional or bidirectional LSTM, respectively\n",
        "\t\t:param n_layers: the number of layers we want to use in LSTM\n",
        "\t\t\"\"\"\n",
        "\t\tsuper(NERNet, self).__init__()\n",
        "\t\t# TO DO ----------------------------------------------------------------------\n",
        "\t\tself.embedding = nn.Embedding(input_size, embedding_size)\n",
        "\t\tself.lstm = nn.LSTM(embedding_size, hidden_size, num_layers=n_layers, bidirectional=directions == 2, batch_first=True)\n",
        "\t\tself.fc = nn.Linear(hidden_size, output_size)\n",
        "\t\tself.dropout = nn.Dropout(0.5)\n",
        "\t\tself.init_weights()\n",
        "\n",
        "\tdef init_weights(self):\n",
        "\t\tself.embedding.weight.data.uniform_(-0.1, 0.1)\n",
        "\t\tself.fc.weight.data.uniform_(-0.1, 0.1)\n",
        "\t\tself.fc.bias.data.zero_()\n",
        "  \n",
        "\n",
        "\t\t# TO DO ----------------------------------------------------------------------\n",
        "\n",
        "\tdef forward(self, input_sentence):\n",
        "\t\t# TO DO ----------------------------------------------------------------------\n",
        "\t\t# input_sentence: (batch_size, seq_len)\n",
        "\t\t\n",
        "\t\tembed = self.embedding(input_sentence)\n",
        "\t\tembed = self.dropout(embed)\n",
        "\t\tlstm_out, _ = self.lstm(embed)\n",
        "\t\toutput = self.fc(lstm_out)\n",
        "\t\toutput = output.view(output.shape[0], -1, output.shape[2])\n",
        "\n",
        "\t\t# TO DO ----------------------------------------------------------------------\n",
        "\t\treturn output\n"
      ]
    },
    {
      "cell_type": "code",
      "execution_count": 88,
      "metadata": {},
      "outputs": [],
      "source": [
        "class NERNet(nn.Module):\n",
        "\tdef __init__(self, input_size: int, embedding_size: int, hidden_size: int, output_size: int, n_layers: int, directions: int):\n",
        "\t\t\"\"\"\n",
        "\t\tInitialize a NERNet instance.\n",
        "\t\t:param input_size: the size of the vocabulary\n",
        "\t\t:param embedding_size: the size of the embeddings\n",
        "\t\t:param hidden_size: the LSTM hidden size\n",
        "\t\t:param output_size: the number tags we are predicting for\n",
        "\t\t:param directions: could be 1 or 2, indicating unidirectional or bidirectional LSTM, respectively\n",
        "\t\t:param n_layers: the number of layers we want to use in LSTM\n",
        "\t\t\"\"\"\n",
        "\t\tsuper(NERNet, self).__init__()\n",
        "\t\t# TO DO ----------------------------------------------------------------------\n",
        "\t\tself.embedding = nn.Embedding(input_size, embedding_size)\n",
        "\t\tself.lstm = nn.LSTM(embedding_size, hidden_size, num_layers=n_layers, bidirectional=directions == 2, batch_first=True)\n",
        "\t\tself.fc = nn.Linear(hidden_size, output_size)\n",
        "\t\tself.dropout = nn.Dropout(0.5)\n",
        "\t\tself.init_weights()\n",
        "\n",
        "\tdef init_weights(self):\n",
        "\t\tself.embedding.weight.data.uniform_(-0.1, 0.1)\n",
        "\t\tself.fc.weight.data.uniform_(-0.1, 0.1)\n",
        "\t\tself.fc.bias.data.zero_()\n",
        "  \n",
        "\n",
        "\t\t# TO DO ----------------------------------------------------------------------\n",
        "\n",
        "\tdef forward(self, input_sentence):\n",
        "\t\t# TO DO ----------------------------------------------------------------------\n",
        "\t\t# input_sentence: (batch_size, seq_len)\n",
        "\t\t\n",
        "\t\tembed = self.embedding(input_sentence)\n",
        "\t\tembed = self.dropout(embed)\n",
        "\t\tlstm_out, _ = self.lstm(embed)\n",
        "\t\toutput = self.fc(lstm_out)\n",
        "\t\toutput = output.view(output.shape[0], -1, output.shape[2])\n",
        "\n",
        "\t\t# TO DO ----------------------------------------------------------------------\n",
        "\t\treturn output\n"
      ]
    },
    {
      "cell_type": "code",
      "execution_count": 89,
      "metadata": {},
      "outputs": [],
      "source": [
        "class NERNet(nn.Module):\n",
        "\tdef __init__(self, input_size: int, embedding_size: int, hidden_size: int, output_size: int, n_layers: int, directions: int):\n",
        "\t\t\"\"\"\n",
        "\t\tInitialize a NERNet instance.\n",
        "\t\t:param input_size: the size of the vocabulary\n",
        "\t\t:param embedding_size: the size of the embeddings\n",
        "\t\t:param hidden_size: the LSTM hidden size\n",
        "\t\t:param output_size: the number tags we are predicting for\n",
        "\t\t:param directions: could be 1 or 2, indicating unidirectional or bidirectional LSTM, respectively\n",
        "\t\t:param n_layers: the number of layers we want to use in LSTM\n",
        "\t\t\"\"\"\n",
        "\t\tsuper(NERNet, self).__init__()\n",
        "\t\t# TO DO ----------------------------------------------------------------------\n",
        "\t\tself.embedding = nn.Embedding(input_size, embedding_size)\n",
        "\t\tself.lstm = nn.LSTM(embedding_size, hidden_size, num_layers=n_layers, bidirectional=directions == 2, batch_first=True)\n",
        "\t\tself.fc = nn.Linear(hidden_size, output_size)\n",
        "\t\tself.dropout = nn.Dropout(0.5)\n",
        "\t\tself.init_weights()\n",
        "\n",
        "\tdef init_weights(self):\n",
        "\t\tself.embedding.weight.data.uniform_(-0.1, 0.1)\n",
        "\t\tself.fc.weight.data.uniform_(-0.1, 0.1)\n",
        "\t\tself.fc.bias.data.zero_()\n",
        "  \n",
        "\n",
        "\t\t# TO DO ----------------------------------------------------------------------\n",
        "\n",
        "\tdef forward(self, input_sentence):\n",
        "\t\t# TO DO ----------------------------------------------------------------------\n",
        "\t\t# input_sentence: (batch_size, seq_len)\n",
        "\t\t\n",
        "\t\tembed = self.embedding(input_sentence)\n",
        "\t\tembed = self.dropout(embed)\n",
        "\t\tlstm_out, _ = self.lstm(embed)\n",
        "\t\toutput = self.fc(lstm_out)\n",
        "\t\toutput = output.view(output.shape[0], -1, output.shape[2])\n",
        "\n",
        "\t\t# TO DO ----------------------------------------------------------------------\n",
        "\t\treturn output\n"
      ]
    },
    {
      "cell_type": "code",
      "execution_count": 90,
      "metadata": {},
      "outputs": [],
      "source": [
        "class NERNet(nn.Module):\n",
        "\tdef __init__(self, input_size: int, embedding_size: int, hidden_size: int, output_size: int, n_layers: int, directions: int):\n",
        "\t\t\"\"\"\n",
        "\t\tInitialize a NERNet instance.\n",
        "\t\t:param input_size: the size of the vocabulary\n",
        "\t\t:param embedding_size: the size of the embeddings\n",
        "\t\t:param hidden_size: the LSTM hidden size\n",
        "\t\t:param output_size: the number tags we are predicting for\n",
        "\t\t:param directions: could be 1 or 2, indicating unidirectional or bidirectional LSTM, respectively\n",
        "\t\t:param n_layers: the number of layers we want to use in LSTM\n",
        "\t\t\"\"\"\n",
        "\t\tsuper(NERNet, self).__init__()\n",
        "\t\t# TO DO ----------------------------------------------------------------------\n",
        "\t\tself.embedding = nn.Embedding(input_size, embedding_size)\n",
        "\t\tself.lstm = nn.LSTM(embedding_size, hidden_size, num_layers=n_layers, bidirectional=directions == 2, batch_first=True)\n",
        "\t\tself.fc = nn.Linear(hidden_size, output_size)\n",
        "\t\tself.dropout = nn.Dropout(0.5)\n",
        "\t\tself.init_weights()\n",
        "\n",
        "\tdef init_weights(self):\n",
        "\t\tself.embedding.weight.data.uniform_(-0.1, 0.1)\n",
        "\t\tself.fc.weight.data.uniform_(-0.1, 0.1)\n",
        "\t\tself.fc.bias.data.zero_()\n",
        "  \n",
        "\n",
        "\t\t# TO DO ----------------------------------------------------------------------\n",
        "\n",
        "\tdef forward(self, input_sentence):\n",
        "\t\t# TO DO ----------------------------------------------------------------------\n",
        "\t\t# input_sentence: (batch_size, seq_len)\n",
        "\t\t\n",
        "\t\tembed = self.embedding(input_sentence)\n",
        "\t\tembed = self.dropout(embed)\n",
        "\t\tlstm_out, _ = self.lstm(embed)\n",
        "\t\toutput = self.fc(lstm_out)\n",
        "\t\toutput = output.view(output.shape[0], -1, output.shape[2])\n",
        "\n",
        "\t\t# TO DO ----------------------------------------------------------------------\n",
        "\t\treturn output\n"
      ]
    },
    {
      "cell_type": "code",
      "execution_count": 91,
      "metadata": {},
      "outputs": [],
      "source": [
        "class NERNet(nn.Module):\n",
        "\tdef __init__(self, input_size: int, embedding_size: int, hidden_size: int, output_size: int, n_layers: int, directions: int):\n",
        "\t\t\"\"\"\n",
        "\t\tInitialize a NERNet instance.\n",
        "\t\t:param input_size: the size of the vocabulary\n",
        "\t\t:param embedding_size: the size of the embeddings\n",
        "\t\t:param hidden_size: the LSTM hidden size\n",
        "\t\t:param output_size: the number tags we are predicting for\n",
        "\t\t:param directions: could be 1 or 2, indicating unidirectional or bidirectional LSTM, respectively\n",
        "\t\t:param n_layers: the number of layers we want to use in LSTM\n",
        "\t\t\"\"\"\n",
        "\t\tsuper(NERNet, self).__init__()\n",
        "\t\t# TO DO ----------------------------------------------------------------------\n",
        "\t\tself.embedding = nn.Embedding(input_size, embedding_size)\n",
        "\t\tself.lstm = nn.LSTM(embedding_size, hidden_size, num_layers=n_layers, bidirectional=directions == 2, batch_first=True)\n",
        "\t\tself.fc = nn.Linear(hidden_size, output_size)\n",
        "\t\tself.dropout = nn.Dropout(0.5)\n",
        "\t\tself.init_weights()\n",
        "\n",
        "\tdef init_weights(self):\n",
        "\t\tself.embedding.weight.data.uniform_(-0.1, 0.1)\n",
        "\t\tself.fc.weight.data.uniform_(-0.1, 0.1)\n",
        "\t\tself.fc.bias.data.zero_()\n",
        "  \n",
        "\n",
        "\t\t# TO DO ----------------------------------------------------------------------\n",
        "\n",
        "\tdef forward(self, input_sentence):\n",
        "\t\t# TO DO ----------------------------------------------------------------------\n",
        "\t\t# input_sentence: (batch_size, seq_len)\n",
        "\t\t\n",
        "\t\tembed = self.embedding(input_sentence)\n",
        "\t\tembed = self.dropout(embed)\n",
        "\t\tlstm_out, _ = self.lstm(embed)\n",
        "\t\toutput = self.fc(lstm_out)\n",
        "\t\toutput = output.view(output.shape[0], -1, output.shape[2])\n",
        "\n",
        "\t\t# TO DO ----------------------------------------------------------------------\n",
        "\t\treturn output\n"
      ]
    },
    {
      "cell_type": "code",
      "execution_count": 92,
      "metadata": {},
      "outputs": [],
      "source": [
        "class NERNet(nn.Module):\n",
        "\tdef __init__(self, input_size: int, embedding_size: int, hidden_size: int, output_size: int, n_layers: int, directions: int):\n",
        "\t\t\"\"\"\n",
        "\t\tInitialize a NERNet instance.\n",
        "\t\t:param input_size: the size of the vocabulary\n",
        "\t\t:param embedding_size: the size of the embeddings\n",
        "\t\t:param hidden_size: the LSTM hidden size\n",
        "\t\t:param output_size: the number tags we are predicting for\n",
        "\t\t:param directions: could be 1 or 2, indicating unidirectional or bidirectional LSTM, respectively\n",
        "\t\t:param n_layers: the number of layers we want to use in LSTM\n",
        "\t\t\"\"\"\n",
        "\t\tsuper(NERNet, self).__init__()\n",
        "\t\t# TO DO ----------------------------------------------------------------------\n",
        "\t\tself.embedding = nn.Embedding(input_size, embedding_size)\n",
        "\t\tself.lstm = nn.LSTM(embedding_size, hidden_size, num_layers=n_layers, bidirectional=directions == 2, batch_first=True)\n",
        "\t\tself.fc = nn.Linear(hidden_size, output_size)\n",
        "\t\tself.dropout = nn.Dropout(0.5)\n",
        "\t\tself.init_weights()\n",
        "\n",
        "\tdef init_weights(self):\n",
        "\t\tself.embedding.weight.data.uniform_(-0.1, 0.1)\n",
        "\t\tself.fc.weight.data.uniform_(-0.1, 0.1)\n",
        "\t\tself.fc.bias.data.zero_()\n",
        "  \n",
        "\n",
        "\t\t# TO DO ----------------------------------------------------------------------\n",
        "\n",
        "\tdef forward(self, input_sentence):\n",
        "\t\t# TO DO ----------------------------------------------------------------------\n",
        "\t\t# input_sentence: (batch_size, seq_len)\n",
        "\t\t\n",
        "\t\tembed = self.embedding(input_sentence)\n",
        "\t\tembed = self.dropout(embed)\n",
        "\t\tlstm_out, _ = self.lstm(embed)\n",
        "\t\toutput = self.fc(lstm_out)\n",
        "\t\toutput = output.view(output.shape[0], -1, output.shape[2])\n",
        "\n",
        "\t\t# TO DO ----------------------------------------------------------------------\n",
        "\t\treturn output\n"
      ]
    },
    {
      "cell_type": "code",
      "execution_count": 93,
      "metadata": {},
      "outputs": [],
      "source": [
        "class NERNet(nn.Module):\n",
        "\tdef __init__(self, input_size: int, embedding_size: int, hidden_size: int, output_size: int, n_layers: int, directions: int):\n",
        "\t\t\"\"\"\n",
        "\t\tInitialize a NERNet instance.\n",
        "\t\t:param input_size: the size of the vocabulary\n",
        "\t\t:param embedding_size: the size of the embeddings\n",
        "\t\t:param hidden_size: the LSTM hidden size\n",
        "\t\t:param output_size: the number tags we are predicting for\n",
        "\t\t:param directions: could be 1 or 2, indicating unidirectional or bidirectional LSTM, respectively\n",
        "\t\t:param n_layers: the number of layers we want to use in LSTM\n",
        "\t\t\"\"\"\n",
        "\t\tsuper(NERNet, self).__init__()\n",
        "\t\t# TO DO ----------------------------------------------------------------------\n",
        "\t\tself.embedding = nn.Embedding(input_size, embedding_size)\n",
        "\t\tself.lstm = nn.LSTM(embedding_size, hidden_size, num_layers=n_layers, bidirectional=directions == 2, batch_first=True)\n",
        "\t\tself.fc = nn.Linear(hidden_size*directions, output_size)\n",
        "\t\tself.dropout = nn.Dropout(0.5)\n",
        "\t\tself.init_weights()\n",
        "\n",
        "\tdef init_weights(self):\n",
        "\t\tself.embedding.weight.data.uniform_(-0.1, 0.1)\n",
        "\t\tself.fc.weight.data.uniform_(-0.1, 0.1)\n",
        "\t\tself.fc.bias.data.zero_()\n",
        "  \n",
        "\n",
        "\t\t# TO DO ----------------------------------------------------------------------\n",
        "\n",
        "\tdef forward(self, input_sentence):\n",
        "\t\t# TO DO ----------------------------------------------------------------------\n",
        "\t\t# input_sentence: (batch_size, seq_len)\n",
        "\t\t\n",
        "\t\tembed = self.embedding(input_sentence)\n",
        "\t\tembed = self.dropout(embed)\n",
        "\t\tlstm_out, _ = self.lstm(embed)\n",
        "\t\toutput = self.fc(lstm_out)\n",
        "\t\toutput = output.view(output.shape[0], -1, output.shape[2])\n",
        "\n",
        "\t\t# TO DO ----------------------------------------------------------------------\n",
        "\t\treturn output\n"
      ]
    },
    {
      "cell_type": "code",
      "execution_count": 94,
      "metadata": {
        "colab": {
          "base_uri": "https://localhost:8080/"
        },
        "id": "0nrbHIei19s5",
        "outputId": "99ef66ba-8b8f-4109-b464-bb18b132824f"
      },
      "outputs": [
        {
          "data": {
            "text/plain": [
              "NERNet(\n",
              "  (embedding): Embedding(7163, 300)\n",
              "  (lstm): LSTM(300, 800, num_layers=2, batch_first=True)\n",
              "  (fc): Linear(in_features=800, out_features=7, bias=True)\n",
              "  (dropout): Dropout(p=0.5, inplace=False)\n",
              ")"
            ]
          },
          "execution_count": 94,
          "metadata": {},
          "output_type": "execute_result"
        }
      ],
      "source": [
        "model = NERNet(vocab.n_words, embedding_size=300, hidden_size=800, output_size=vocab.n_tags, n_layers=2, directions=1)\n",
        "model.to(DEVICE)"
      ]
    },
    {
      "cell_type": "markdown",
      "metadata": {
        "id": "dEGSQdeUkTP8"
      },
      "source": [
        "## Step 2: Training Loop\n",
        "\n",
        "Write a training loop, which takes a model (instance of NERNet), number of epochs to train on, and the train&dev datasets.  \n",
        "\n",
        "The function will return the `loss` and `accuracy` durring training.  \n",
        "(If you're using a different/additional metrics, return them too)\n",
        "\n",
        "The loss is always CrossEntropyLoss and the optimizer is always Adam.\n",
        "Make sure to use `tqdm` while iterating on `n_epochs`.\n"
      ]
    },
    {
      "cell_type": "code",
      "execution_count": 95,
      "metadata": {
        "id": "avkHfjT3k0HM"
      },
      "outputs": [],
      "source": [
        "\n",
        "\n",
        "def train_loop(model: NERNet, n_epochs: int, dataloader_train, dataloader_dev):\n",
        "\t\"\"\"\n",
        "\tTrain a model.\n",
        "\t:param model: model instance\n",
        "\t:param n_epochs: number of epochs to train on\n",
        "\t:param dataloader_train: train dataloader\n",
        "\t:param dataloader_dev: dev dataloader\n",
        "\t:return: loss and accuracy during training\n",
        "\t\"\"\"\n",
        "\t# Optimizer (ADAM is a fancy version of SGD)\n",
        "\toptimizer = Adam(model.parameters(), lr=0.0001)\n",
        "\tloss_fn = nn.CrossEntropyLoss()\n",
        "\t# Record\n",
        "\tmetrics = {'loss': {'train': [], 'dev': []}, 'accuracy': {'train': [], 'dev': []}}\n",
        "\n",
        "\t# Move model to device\n",
        "\tmodel.to(DEVICE)\n",
        "\n",
        "\t## TO DO ----------------------------------------------------------------------\n",
        "\ttqdm_epochs = tqdm(range(n_epochs), desc=\"Epochs\",colour=\"green\")\n",
        "\ttotal_loss = 0\n",
        "\ttotal_correct = 0\n",
        "\ttotal_samples = 0\n",
        "\tall_preds = []\n",
        "\tall_labels = []\n",
        "\tfor epoch in tqdm_epochs:\n",
        "\t\tfor batch in dataloader_train:\n",
        "\t\t\tinputs, labels = batch\n",
        "\n",
        "\t\t\tinputs = inputs.to(DEVICE)\n",
        "\t\t\tlabels = labels.to(DEVICE)\n",
        "\t\t\toptimizer.zero_grad()\t\n",
        "\t\t\toutputs = model(inputs)\n",
        "\t\t\toutputs_flat = outputs.view(-1, outputs.shape[2])\n",
        "\t\t\tlabels_flat = labels.view(-1)\n",
        "\t\t\tloss = loss_fn(outputs_flat, labels_flat)\n",
        "\t\t\tloss.backward()\n",
        "\t\t\toptimizer.step()\n",
        "\t\t\ttotal_loss += loss.item()\n",
        "\t\t\tpreds = outputs.argmax(dim=2)  # shape (B, T)\n",
        "\t\t\ttotal_correct += (preds == labels).sum().item()\n",
        "\t\t\ttotal_samples += labels.size(0)\n",
        "\t\t\tall_preds.extend(outputs.argmax(dim=1).cpu().numpy())\n",
        "\t\t\tall_labels.extend(labels.cpu().numpy())\n",
        "\t# TO DO ----------------------------------------------------------------------\n",
        "\tmetrics['loss']['train'].append(total_loss / len(dataloader_train))\n",
        "\tmetrics['accuracy']['train'].append(total_correct / total_samples)\n",
        "\t\n",
        "\n",
        "\treturn metrics"
      ]
    },
    {
      "cell_type": "code",
      "execution_count": 96,
      "metadata": {
        "colab": {
          "base_uri": "https://localhost:8080/"
        },
        "id": "2KC1nYSi18PV",
        "outputId": "e60e0f2f-e0d0-453a-e462-cc747297fe71"
      },
      "outputs": [
        {
          "name": "stderr",
          "output_type": "stream",
          "text": [
            "Epochs: 100%|\u001b[32m██████████\u001b[0m| 5/5 [00:22<00:00,  4.53s/it]\n"
          ]
        },
        {
          "data": {
            "text/plain": [
              "{'loss': {'train': [1.467423477768898], 'dev': []},\n",
              " 'accuracy': {'train': [54.4864], 'dev': []}}"
            ]
          },
          "execution_count": 96,
          "metadata": {},
          "output_type": "execute_result"
        }
      ],
      "source": [
        "metrics = train_loop(model, n_epochs=5, dataloader_train=dl_train, dataloader_dev=dl_dev)\n",
        "metrics"
      ]
    },
    {
      "cell_type": "markdown",
      "metadata": {
        "id": "T9C9su31_r7F"
      },
      "source": [
        "<br><br><br><br><br><br>"
      ]
    },
    {
      "cell_type": "markdown",
      "metadata": {
        "id": "OqSMEZDK9OPY"
      },
      "source": [
        "# Part 3 - Evaluation"
      ]
    },
    {
      "cell_type": "markdown",
      "metadata": {
        "id": "baN1c_B7lTjb"
      },
      "source": [
        "\n",
        "## Step 1: Evaluation Function\n",
        "\n",
        "Write an evaluation loop for a trained model using the dev and test datasets. This function will print the `Recall`, `Precision`, and `F1` scores and plot a `Confusion Matrix`.\n",
        "\n",
        "Perform this evaluation twice:\n",
        "1. For all labels (7 labels in total).\n",
        "2. For all labels except \"O\" (6 labels in total)."
      ]
    },
    {
      "cell_type": "markdown",
      "metadata": {
        "id": "K6MhtYgh7hDO"
      },
      "source": [
        "## Metrics and Display\n",
        "\n",
        "### Metrics\n",
        "- **Recall**: True Positive Rate (TPR), also known as Recall.\n",
        "- **Precision**: The opposite of False Positive Rate (FPR), also known as Precision.\n",
        "- **F1 Score**: The harmonic mean of Precision and Recall.\n",
        "\n",
        "*Note*: For all these metrics, use **weighted** averaging:\n",
        "Calculate metrics for each label, and find their average weighted by support. Refer to the [sklearn documentation](https://scikit-learn.org/stable/modules/generated/sklearn.metrics.precision_recall_fscore_support.html#sklearn.metrics.precision_recall_fscore_support) for more details.\n",
        "\n",
        "### Display\n",
        "1. Print the `Recall`, `Precision`, and `F1` scores in a tabulated format.\n",
        "2. Display a `Confusion Matrix` plot:\n",
        "\t- Rows represent the predicted labels.\n",
        "\t- Columns represent the true labels.\n",
        "\t- Include a title for the plot, axis names, and the names of the tags on the X-axis."
      ]
    },
    {
      "cell_type": "code",
      "execution_count": 110,
      "metadata": {
        "id": "iyQAjGaqmd8U"
      },
      "outputs": [],
      "source": [
        "from sklearn.metrics import f1_score, precision_score, recall_score\n",
        "\n",
        "\n",
        "def evaluate(model: NERNet, title: str, dataloader: DataLoader, vocab: Vocab):\n",
        "\t\"\"\"\n",
        "\tEvaluate a trained model on the given dataset.\n",
        "\t:param model: model instance\n",
        "\t:param title: title for the plot\n",
        "\t:param dataloader: dataloader\n",
        "\t:param vocab: Vocab instance\n",
        "\t:return: Dictionary of evaluation results\n",
        "\t\"\"\"\n",
        "\tresults = {}\n",
        "\ttotal_correct = 0\n",
        "\ttotal_samples = 0\n",
        "\tall_preds = []\n",
        "\tall_labels = []\n",
        "\tfor batch in dataloader:\n",
        "\t\tinputs, labels = batch\n",
        "\t\tinputs = inputs.to(DEVICE)\n",
        "\t\tlabels = labels.to(DEVICE)\n",
        "\t\toutputs = model(inputs)\n",
        "\t\tpreds = outputs.argmax(dim=2)  # shape (B, T)\n",
        "\t\ttotal_correct += (preds == labels).sum().item()\n",
        "\t\ttotal_samples += labels.size(0)\n",
        "\t\tall_preds.extend(outputs.argmax(dim=1).cpu().numpy())\n",
        "\t\tall_labels.extend(labels.cpu().numpy())\n",
        "\t\n",
        "\tresults['total_correct'] = total_correct\n",
        "\tresults['total_samples'] = total_samples\n",
        "\tresults['all_preds'] = all_preds\n",
        "\n",
        "\tf1 = f1_score(all_labels, all_preds, average='weighted')\n",
        "\tprecision = precision_score(all_labels, all_preds, average='weighted')\n",
        "\trecall = recall_score(all_labels, all_preds, average='weighted')\n",
        "\t\n",
        "\treturn results"
      ]
    },
    {
      "cell_type": "markdown",
      "metadata": {
        "id": "trn5-50FyGoF"
      },
      "source": [
        "## Step 2: Train & Evaluate on Dev Set"
      ]
    },
    {
      "cell_type": "markdown",
      "metadata": {
        "id": "LQSXqWNOmqG4"
      },
      "source": [
        "Train and evaluate (on the dev set) a few models, all with `embedding_size=300` and `N_EPOCHS=5` (for fairness and computational reasons), and with the following hyper parameters (you may use that as captions for the models as well):\n",
        "\n",
        "- Model 1: (hidden_size: 500, n_layers: 1, directions: 1)\n",
        "- Model 2: (hidden_size: 500, n_layers: 2, directions: 1)\n",
        "- Model 3: (hidden_size: 500, n_layers: 3, directions: 1)\n",
        "- Model 4: (hidden_size: 500, n_layers: 1, directions: 2)\n",
        "- Model 5: (hidden_size: 500, n_layers: 2, directions: 2)\n",
        "- Model 6: (hidden_size: 500, n_layers: 3, directions: 2)\n",
        "- Model 7: (hidden_size: 800, n_layers: 1, directions: 2)\n",
        "- Model 8: (hidden_size: 800, n_layers: 2, directions: 2)\n",
        "- Model 9: (hidden_size: 800, n_layers: 3, directions: 2)\n",
        "\n",
        "\n"
      ]
    },
    {
      "cell_type": "code",
      "execution_count": 111,
      "metadata": {
        "id": "U3RcWmNAsoTj"
      },
      "outputs": [],
      "source": [
        "N_EPOCHS = 5\n",
        "EMB_DIM = 300"
      ]
    },
    {
      "cell_type": "markdown",
      "metadata": {
        "id": "OCaaeKV2CZF-"
      },
      "source": [
        "Here is an example (random numbers) of the display of the results):"
      ]
    },
    {
      "cell_type": "code",
      "execution_count": 112,
      "metadata": {
        "colab": {
          "base_uri": "https://localhost:8080/"
        },
        "id": "Im49dRJeCjdv",
        "outputId": "ab1ac65b-bd21-441a-9058-d4704d66daef"
      },
      "outputs": [
        {
          "name": "stdout",
          "output_type": "stream",
          "text": [
            "+----+-----------+---------------+------------+--------------+----------+-------------+--------+---------------+------------------+-----------+\n",
            "|    | N_MODEL   |   HIDDEN_SIZE |   N_LAYERS |   DIRECTIONS |   RECALL |   PERCISION |     F1 |   RECALL_WO_O |   PERCISION_WO_O |   F1_WO_O |\n",
            "|----+-----------+---------------+------------+--------------+----------+-------------+--------+---------------+------------------+-----------|\n",
            "|  0 | model_1   |        0.7132 |     0.7608 |       0.5613 |   0.7710 |      0.4938 | 0.5227 |        0.4275 |           0.0254 |    0.1079 |\n",
            "|  1 | model_2   |        0.6364 |     0.3144 |       0.5086 |   0.9076 |      0.2493 | 0.4104 |        0.7556 |           0.2288 |    0.0770 |\n",
            "|  2 | model_3   |        0.1612 |     0.9297 |       0.8081 |   0.6334 |      0.8715 | 0.8037 |        0.1866 |           0.8926 |    0.5393 |\n",
            "|  3 | model_4   |        0.8961 |     0.3180 |       0.1101 |   0.2279 |      0.4271 | 0.8180 |        0.8607 |           0.0070 |    0.5107 |\n",
            "|  4 | model_5   |        0.2221 |     0.1199 |       0.3376 |   0.9429 |      0.3232 | 0.5188 |        0.7030 |           0.3636 |    0.9718 |\n",
            "|  5 | model_6   |        0.2518 |     0.4972 |       0.3009 |   0.2848 |      0.0369 | 0.6096 |        0.5027 |           0.0515 |    0.2786 |\n",
            "|  6 | model_7   |        0.2396 |     0.1449 |       0.4895 |   0.9857 |      0.2421 | 0.6721 |        0.7616 |           0.2376 |    0.7282 |\n",
            "|  7 | model_8   |        0.6323 |     0.6335 |       0.5358 |   0.0903 |      0.8353 | 0.3208 |        0.1865 |           0.0408 |    0.5909 |\n",
            "|  8 | model_9   |        0.0166 |     0.5121 |       0.2265 |   0.6452 |      0.1744 | 0.6909 |        0.3867 |           0.9367 |    0.1375 |\n",
            "+----+-----------+---------------+------------+--------------+----------+-------------+--------+---------------+------------------+-----------+\n"
          ]
        }
      ],
      "source": [
        "# Example:\n",
        "results_acc = np.random.rand(9, 10)\n",
        "columns = ['N_MODEL','HIDDEN_SIZE','N_LAYERS','DIRECTIONS','RECALL','PERCISION','F1','RECALL_WO_O','PERCISION_WO_O','F1_WO_O']\n",
        "df = pd.DataFrame(results_acc, columns=columns)\n",
        "df.N_MODEL = [f'model_{n}' for n in range(1,10)]\n",
        "print(tabulate(df, headers='keys', tablefmt='psql',floatfmt=\".4f\"))"
      ]
    },
    {
      "cell_type": "code",
      "execution_count": 113,
      "metadata": {
        "colab": {
          "base_uri": "https://localhost:8080/",
          "height": 1000
        },
        "id": "MWJREQ236dzV",
        "outputId": "324df2e8-f677-4235-fb61-50724ddf0ef5"
      },
      "outputs": [
        {
          "name": "stderr",
          "output_type": "stream",
          "text": [
            "Epochs: 100%|\u001b[32m██████████\u001b[0m| 5/5 [00:08<00:00,  1.68s/it]\n"
          ]
        },
        {
          "ename": "ValueError",
          "evalue": "multiclass-multioutput is not supported",
          "output_type": "error",
          "traceback": [
            "\u001b[31m---------------------------------------------------------------------------\u001b[39m",
            "\u001b[31mValueError\u001b[39m                                Traceback (most recent call last)",
            "\u001b[36mCell\u001b[39m\u001b[36m \u001b[39m\u001b[32mIn[113]\u001b[39m\u001b[32m, line 20\u001b[39m\n\u001b[32m     18\u001b[39m \tmodel.to(DEVICE)\n\u001b[32m     19\u001b[39m \tresults = train_loop(model, n_epochs=N_EPOCHS, dataloader_train=dl_train, dataloader_dev=dl_dev)\n\u001b[32m---> \u001b[39m\u001b[32m20\u001b[39m \tresults_dev_eval = \u001b[43mevaluate\u001b[49m\u001b[43m(\u001b[49m\u001b[43mmodel\u001b[49m\u001b[43m,\u001b[49m\u001b[43m \u001b[49m\u001b[43mmodel_name\u001b[49m\u001b[43m,\u001b[49m\u001b[43m \u001b[49m\u001b[43mdl_dev\u001b[49m\u001b[43m,\u001b[49m\u001b[43m \u001b[49m\u001b[43mvocab\u001b[49m\u001b[43m)\u001b[49m\n\u001b[32m     21\u001b[39m \tresults_dev.append(results_dev_eval)\n\u001b[32m     24\u001b[39m \u001b[38;5;66;03m# TO DO ----------------------------------------------------------------------\u001b[39;00m\n\u001b[32m     25\u001b[39m \n\u001b[32m     26\u001b[39m \u001b[38;5;66;03m# Print results in tabulated format\u001b[39;00m\n",
            "\u001b[36mCell\u001b[39m\u001b[36m \u001b[39m\u001b[32mIn[110]\u001b[39m\u001b[32m, line 33\u001b[39m, in \u001b[36mevaluate\u001b[39m\u001b[34m(model, title, dataloader, vocab)\u001b[39m\n\u001b[32m     30\u001b[39m results[\u001b[33m'\u001b[39m\u001b[33mtotal_samples\u001b[39m\u001b[33m'\u001b[39m] = total_samples\n\u001b[32m     31\u001b[39m results[\u001b[33m'\u001b[39m\u001b[33mall_preds\u001b[39m\u001b[33m'\u001b[39m] = all_preds\n\u001b[32m---> \u001b[39m\u001b[32m33\u001b[39m f1 = \u001b[43mf1_score\u001b[49m\u001b[43m(\u001b[49m\u001b[43mall_labels\u001b[49m\u001b[43m,\u001b[49m\u001b[43m \u001b[49m\u001b[43mall_preds\u001b[49m\u001b[43m,\u001b[49m\u001b[43m \u001b[49m\u001b[43maverage\u001b[49m\u001b[43m=\u001b[49m\u001b[33;43m'\u001b[39;49m\u001b[33;43mweighted\u001b[39;49m\u001b[33;43m'\u001b[39;49m\u001b[43m)\u001b[49m\n\u001b[32m     34\u001b[39m precision = precision_score(all_labels, all_preds, average=\u001b[33m'\u001b[39m\u001b[33mweighted\u001b[39m\u001b[33m'\u001b[39m)\n\u001b[32m     35\u001b[39m recall = recall_score(all_labels, all_preds, average=\u001b[33m'\u001b[39m\u001b[33mweighted\u001b[39m\u001b[33m'\u001b[39m)\n",
            "\u001b[36mFile \u001b[39m\u001b[32m~/Documents/school/nlp/nlp-ex2/.venv/lib/python3.11/site-packages/sklearn/utils/_param_validation.py:218\u001b[39m, in \u001b[36mvalidate_params.<locals>.decorator.<locals>.wrapper\u001b[39m\u001b[34m(*args, **kwargs)\u001b[39m\n\u001b[32m    212\u001b[39m \u001b[38;5;28;01mtry\u001b[39;00m:\n\u001b[32m    213\u001b[39m     \u001b[38;5;28;01mwith\u001b[39;00m config_context(\n\u001b[32m    214\u001b[39m         skip_parameter_validation=(\n\u001b[32m    215\u001b[39m             prefer_skip_nested_validation \u001b[38;5;129;01mor\u001b[39;00m global_skip_validation\n\u001b[32m    216\u001b[39m         )\n\u001b[32m    217\u001b[39m     ):\n\u001b[32m--> \u001b[39m\u001b[32m218\u001b[39m         \u001b[38;5;28;01mreturn\u001b[39;00m \u001b[43mfunc\u001b[49m\u001b[43m(\u001b[49m\u001b[43m*\u001b[49m\u001b[43margs\u001b[49m\u001b[43m,\u001b[49m\u001b[43m \u001b[49m\u001b[43m*\u001b[49m\u001b[43m*\u001b[49m\u001b[43mkwargs\u001b[49m\u001b[43m)\u001b[49m\n\u001b[32m    219\u001b[39m \u001b[38;5;28;01mexcept\u001b[39;00m InvalidParameterError \u001b[38;5;28;01mas\u001b[39;00m e:\n\u001b[32m    220\u001b[39m     \u001b[38;5;66;03m# When the function is just a wrapper around an estimator, we allow\u001b[39;00m\n\u001b[32m    221\u001b[39m     \u001b[38;5;66;03m# the function to delegate validation to the estimator, but we replace\u001b[39;00m\n\u001b[32m    222\u001b[39m     \u001b[38;5;66;03m# the name of the estimator by the name of the function in the error\u001b[39;00m\n\u001b[32m    223\u001b[39m     \u001b[38;5;66;03m# message to avoid confusion.\u001b[39;00m\n\u001b[32m    224\u001b[39m     msg = re.sub(\n\u001b[32m    225\u001b[39m         \u001b[33mr\u001b[39m\u001b[33m\"\u001b[39m\u001b[33mparameter of \u001b[39m\u001b[33m\\\u001b[39m\u001b[33mw+ must be\u001b[39m\u001b[33m\"\u001b[39m,\n\u001b[32m    226\u001b[39m         \u001b[33mf\u001b[39m\u001b[33m\"\u001b[39m\u001b[33mparameter of \u001b[39m\u001b[38;5;132;01m{\u001b[39;00mfunc.\u001b[34m__qualname__\u001b[39m\u001b[38;5;132;01m}\u001b[39;00m\u001b[33m must be\u001b[39m\u001b[33m\"\u001b[39m,\n\u001b[32m    227\u001b[39m         \u001b[38;5;28mstr\u001b[39m(e),\n\u001b[32m    228\u001b[39m     )\n",
            "\u001b[36mFile \u001b[39m\u001b[32m~/Documents/school/nlp/nlp-ex2/.venv/lib/python3.11/site-packages/sklearn/metrics/_classification.py:1465\u001b[39m, in \u001b[36mf1_score\u001b[39m\u001b[34m(y_true, y_pred, labels, pos_label, average, sample_weight, zero_division)\u001b[39m\n\u001b[32m   1285\u001b[39m \u001b[38;5;129m@validate_params\u001b[39m(\n\u001b[32m   1286\u001b[39m     {\n\u001b[32m   1287\u001b[39m         \u001b[33m\"\u001b[39m\u001b[33my_true\u001b[39m\u001b[33m\"\u001b[39m: [\u001b[33m\"\u001b[39m\u001b[33marray-like\u001b[39m\u001b[33m\"\u001b[39m, \u001b[33m\"\u001b[39m\u001b[33msparse matrix\u001b[39m\u001b[33m\"\u001b[39m],\n\u001b[32m   (...)\u001b[39m\u001b[32m   1312\u001b[39m     zero_division=\u001b[33m\"\u001b[39m\u001b[33mwarn\u001b[39m\u001b[33m\"\u001b[39m,\n\u001b[32m   1313\u001b[39m ):\n\u001b[32m   1314\u001b[39m \u001b[38;5;250m    \u001b[39m\u001b[33;03m\"\"\"Compute the F1 score, also known as balanced F-score or F-measure.\u001b[39;00m\n\u001b[32m   1315\u001b[39m \n\u001b[32m   1316\u001b[39m \u001b[33;03m    The F1 score can be interpreted as a harmonic mean of the precision and\u001b[39;00m\n\u001b[32m   (...)\u001b[39m\u001b[32m   1463\u001b[39m \u001b[33;03m    array([0.66666667, 1.        , 0.66666667])\u001b[39;00m\n\u001b[32m   1464\u001b[39m \u001b[33;03m    \"\"\"\u001b[39;00m\n\u001b[32m-> \u001b[39m\u001b[32m1465\u001b[39m     \u001b[38;5;28;01mreturn\u001b[39;00m \u001b[43mfbeta_score\u001b[49m\u001b[43m(\u001b[49m\n\u001b[32m   1466\u001b[39m \u001b[43m        \u001b[49m\u001b[43my_true\u001b[49m\u001b[43m,\u001b[49m\n\u001b[32m   1467\u001b[39m \u001b[43m        \u001b[49m\u001b[43my_pred\u001b[49m\u001b[43m,\u001b[49m\n\u001b[32m   1468\u001b[39m \u001b[43m        \u001b[49m\u001b[43mbeta\u001b[49m\u001b[43m=\u001b[49m\u001b[32;43m1\u001b[39;49m\u001b[43m,\u001b[49m\n\u001b[32m   1469\u001b[39m \u001b[43m        \u001b[49m\u001b[43mlabels\u001b[49m\u001b[43m=\u001b[49m\u001b[43mlabels\u001b[49m\u001b[43m,\u001b[49m\n\u001b[32m   1470\u001b[39m \u001b[43m        \u001b[49m\u001b[43mpos_label\u001b[49m\u001b[43m=\u001b[49m\u001b[43mpos_label\u001b[49m\u001b[43m,\u001b[49m\n\u001b[32m   1471\u001b[39m \u001b[43m        \u001b[49m\u001b[43maverage\u001b[49m\u001b[43m=\u001b[49m\u001b[43maverage\u001b[49m\u001b[43m,\u001b[49m\n\u001b[32m   1472\u001b[39m \u001b[43m        \u001b[49m\u001b[43msample_weight\u001b[49m\u001b[43m=\u001b[49m\u001b[43msample_weight\u001b[49m\u001b[43m,\u001b[49m\n\u001b[32m   1473\u001b[39m \u001b[43m        \u001b[49m\u001b[43mzero_division\u001b[49m\u001b[43m=\u001b[49m\u001b[43mzero_division\u001b[49m\u001b[43m,\u001b[49m\n\u001b[32m   1474\u001b[39m \u001b[43m    \u001b[49m\u001b[43m)\u001b[49m\n",
            "\u001b[36mFile \u001b[39m\u001b[32m~/Documents/school/nlp/nlp-ex2/.venv/lib/python3.11/site-packages/sklearn/utils/_param_validation.py:191\u001b[39m, in \u001b[36mvalidate_params.<locals>.decorator.<locals>.wrapper\u001b[39m\u001b[34m(*args, **kwargs)\u001b[39m\n\u001b[32m    189\u001b[39m global_skip_validation = get_config()[\u001b[33m\"\u001b[39m\u001b[33mskip_parameter_validation\u001b[39m\u001b[33m\"\u001b[39m]\n\u001b[32m    190\u001b[39m \u001b[38;5;28;01mif\u001b[39;00m global_skip_validation:\n\u001b[32m--> \u001b[39m\u001b[32m191\u001b[39m     \u001b[38;5;28;01mreturn\u001b[39;00m \u001b[43mfunc\u001b[49m\u001b[43m(\u001b[49m\u001b[43m*\u001b[49m\u001b[43margs\u001b[49m\u001b[43m,\u001b[49m\u001b[43m \u001b[49m\u001b[43m*\u001b[49m\u001b[43m*\u001b[49m\u001b[43mkwargs\u001b[49m\u001b[43m)\u001b[49m\n\u001b[32m    193\u001b[39m func_sig = signature(func)\n\u001b[32m    195\u001b[39m \u001b[38;5;66;03m# Map *args/**kwargs to the function signature\u001b[39;00m\n",
            "\u001b[36mFile \u001b[39m\u001b[32m~/Documents/school/nlp/nlp-ex2/.venv/lib/python3.11/site-packages/sklearn/metrics/_classification.py:1658\u001b[39m, in \u001b[36mfbeta_score\u001b[39m\u001b[34m(y_true, y_pred, beta, labels, pos_label, average, sample_weight, zero_division)\u001b[39m\n\u001b[32m   1477\u001b[39m \u001b[38;5;129m@validate_params\u001b[39m(\n\u001b[32m   1478\u001b[39m     {\n\u001b[32m   1479\u001b[39m         \u001b[33m\"\u001b[39m\u001b[33my_true\u001b[39m\u001b[33m\"\u001b[39m: [\u001b[33m\"\u001b[39m\u001b[33marray-like\u001b[39m\u001b[33m\"\u001b[39m, \u001b[33m\"\u001b[39m\u001b[33msparse matrix\u001b[39m\u001b[33m\"\u001b[39m],\n\u001b[32m   (...)\u001b[39m\u001b[32m   1506\u001b[39m     zero_division=\u001b[33m\"\u001b[39m\u001b[33mwarn\u001b[39m\u001b[33m\"\u001b[39m,\n\u001b[32m   1507\u001b[39m ):\n\u001b[32m   1508\u001b[39m \u001b[38;5;250m    \u001b[39m\u001b[33;03m\"\"\"Compute the F-beta score.\u001b[39;00m\n\u001b[32m   1509\u001b[39m \n\u001b[32m   1510\u001b[39m \u001b[33;03m    The F-beta score is the weighted harmonic mean of precision and recall,\u001b[39;00m\n\u001b[32m   (...)\u001b[39m\u001b[32m   1655\u001b[39m \u001b[33;03m    0.128\u001b[39;00m\n\u001b[32m   1656\u001b[39m \u001b[33;03m    \"\"\"\u001b[39;00m\n\u001b[32m-> \u001b[39m\u001b[32m1658\u001b[39m     _, _, f, _ = \u001b[43mprecision_recall_fscore_support\u001b[49m\u001b[43m(\u001b[49m\n\u001b[32m   1659\u001b[39m \u001b[43m        \u001b[49m\u001b[43my_true\u001b[49m\u001b[43m,\u001b[49m\n\u001b[32m   1660\u001b[39m \u001b[43m        \u001b[49m\u001b[43my_pred\u001b[49m\u001b[43m,\u001b[49m\n\u001b[32m   1661\u001b[39m \u001b[43m        \u001b[49m\u001b[43mbeta\u001b[49m\u001b[43m=\u001b[49m\u001b[43mbeta\u001b[49m\u001b[43m,\u001b[49m\n\u001b[32m   1662\u001b[39m \u001b[43m        \u001b[49m\u001b[43mlabels\u001b[49m\u001b[43m=\u001b[49m\u001b[43mlabels\u001b[49m\u001b[43m,\u001b[49m\n\u001b[32m   1663\u001b[39m \u001b[43m        \u001b[49m\u001b[43mpos_label\u001b[49m\u001b[43m=\u001b[49m\u001b[43mpos_label\u001b[49m\u001b[43m,\u001b[49m\n\u001b[32m   1664\u001b[39m \u001b[43m        \u001b[49m\u001b[43maverage\u001b[49m\u001b[43m=\u001b[49m\u001b[43maverage\u001b[49m\u001b[43m,\u001b[49m\n\u001b[32m   1665\u001b[39m \u001b[43m        \u001b[49m\u001b[43mwarn_for\u001b[49m\u001b[43m=\u001b[49m\u001b[43m(\u001b[49m\u001b[33;43m\"\u001b[39;49m\u001b[33;43mf-score\u001b[39;49m\u001b[33;43m\"\u001b[39;49m\u001b[43m,\u001b[49m\u001b[43m)\u001b[49m\u001b[43m,\u001b[49m\n\u001b[32m   1666\u001b[39m \u001b[43m        \u001b[49m\u001b[43msample_weight\u001b[49m\u001b[43m=\u001b[49m\u001b[43msample_weight\u001b[49m\u001b[43m,\u001b[49m\n\u001b[32m   1667\u001b[39m \u001b[43m        \u001b[49m\u001b[43mzero_division\u001b[49m\u001b[43m=\u001b[49m\u001b[43mzero_division\u001b[49m\u001b[43m,\u001b[49m\n\u001b[32m   1668\u001b[39m \u001b[43m    \u001b[49m\u001b[43m)\u001b[49m\n\u001b[32m   1669\u001b[39m     \u001b[38;5;28;01mreturn\u001b[39;00m f\n",
            "\u001b[36mFile \u001b[39m\u001b[32m~/Documents/school/nlp/nlp-ex2/.venv/lib/python3.11/site-packages/sklearn/utils/_param_validation.py:191\u001b[39m, in \u001b[36mvalidate_params.<locals>.decorator.<locals>.wrapper\u001b[39m\u001b[34m(*args, **kwargs)\u001b[39m\n\u001b[32m    189\u001b[39m global_skip_validation = get_config()[\u001b[33m\"\u001b[39m\u001b[33mskip_parameter_validation\u001b[39m\u001b[33m\"\u001b[39m]\n\u001b[32m    190\u001b[39m \u001b[38;5;28;01mif\u001b[39;00m global_skip_validation:\n\u001b[32m--> \u001b[39m\u001b[32m191\u001b[39m     \u001b[38;5;28;01mreturn\u001b[39;00m \u001b[43mfunc\u001b[49m\u001b[43m(\u001b[49m\u001b[43m*\u001b[49m\u001b[43margs\u001b[49m\u001b[43m,\u001b[49m\u001b[43m \u001b[49m\u001b[43m*\u001b[49m\u001b[43m*\u001b[49m\u001b[43mkwargs\u001b[49m\u001b[43m)\u001b[49m\n\u001b[32m    193\u001b[39m func_sig = signature(func)\n\u001b[32m    195\u001b[39m \u001b[38;5;66;03m# Map *args/**kwargs to the function signature\u001b[39;00m\n",
            "\u001b[36mFile \u001b[39m\u001b[32m~/Documents/school/nlp/nlp-ex2/.venv/lib/python3.11/site-packages/sklearn/metrics/_classification.py:1971\u001b[39m, in \u001b[36mprecision_recall_fscore_support\u001b[39m\u001b[34m(y_true, y_pred, beta, labels, pos_label, average, warn_for, sample_weight, zero_division)\u001b[39m\n\u001b[32m   1802\u001b[39m \u001b[38;5;250m\u001b[39m\u001b[33;03m\"\"\"Compute precision, recall, F-measure and support for each class.\u001b[39;00m\n\u001b[32m   1803\u001b[39m \n\u001b[32m   1804\u001b[39m \u001b[33;03mThe precision is the ratio ``tp / (tp + fp)`` where ``tp`` is the number of\u001b[39;00m\n\u001b[32m   (...)\u001b[39m\u001b[32m   1968\u001b[39m \u001b[33;03m array([2, 2, 2]))\u001b[39;00m\n\u001b[32m   1969\u001b[39m \u001b[33;03m\"\"\"\u001b[39;00m\n\u001b[32m   1970\u001b[39m _check_zero_division(zero_division)\n\u001b[32m-> \u001b[39m\u001b[32m1971\u001b[39m labels = \u001b[43m_check_set_wise_labels\u001b[49m\u001b[43m(\u001b[49m\u001b[43my_true\u001b[49m\u001b[43m,\u001b[49m\u001b[43m \u001b[49m\u001b[43my_pred\u001b[49m\u001b[43m,\u001b[49m\u001b[43m \u001b[49m\u001b[43maverage\u001b[49m\u001b[43m,\u001b[49m\u001b[43m \u001b[49m\u001b[43mlabels\u001b[49m\u001b[43m,\u001b[49m\u001b[43m \u001b[49m\u001b[43mpos_label\u001b[49m\u001b[43m)\u001b[49m\n\u001b[32m   1973\u001b[39m \u001b[38;5;66;03m# Calculate tp_sum, pred_sum, true_sum ###\u001b[39;00m\n\u001b[32m   1974\u001b[39m samplewise = average == \u001b[33m\"\u001b[39m\u001b[33msamples\u001b[39m\u001b[33m\"\u001b[39m\n",
            "\u001b[36mFile \u001b[39m\u001b[32m~/Documents/school/nlp/nlp-ex2/.venv/lib/python3.11/site-packages/sklearn/metrics/_classification.py:1737\u001b[39m, in \u001b[36m_check_set_wise_labels\u001b[39m\u001b[34m(y_true, y_pred, average, labels, pos_label)\u001b[39m\n\u001b[32m   1734\u001b[39m     \u001b[38;5;28;01mraise\u001b[39;00m \u001b[38;5;167;01mValueError\u001b[39;00m(\u001b[33m\"\u001b[39m\u001b[33maverage has to be one of \u001b[39m\u001b[33m\"\u001b[39m + \u001b[38;5;28mstr\u001b[39m(average_options))\n\u001b[32m   1736\u001b[39m y_true, y_pred = attach_unique(y_true, y_pred)\n\u001b[32m-> \u001b[39m\u001b[32m1737\u001b[39m y_type, y_true, y_pred = \u001b[43m_check_targets\u001b[49m\u001b[43m(\u001b[49m\u001b[43my_true\u001b[49m\u001b[43m,\u001b[49m\u001b[43m \u001b[49m\u001b[43my_pred\u001b[49m\u001b[43m)\u001b[49m\n\u001b[32m   1738\u001b[39m \u001b[38;5;66;03m# Convert to Python primitive type to avoid NumPy type / Python str\u001b[39;00m\n\u001b[32m   1739\u001b[39m \u001b[38;5;66;03m# comparison. See https://github.com/numpy/numpy/issues/6784\u001b[39;00m\n\u001b[32m   1740\u001b[39m present_labels = _tolist(unique_labels(y_true, y_pred))\n",
            "\u001b[36mFile \u001b[39m\u001b[32m~/Documents/school/nlp/nlp-ex2/.venv/lib/python3.11/site-packages/sklearn/metrics/_classification.py:117\u001b[39m, in \u001b[36m_check_targets\u001b[39m\u001b[34m(y_true, y_pred)\u001b[39m\n\u001b[32m    115\u001b[39m \u001b[38;5;66;03m# No metrics support \"multiclass-multioutput\" format\u001b[39;00m\n\u001b[32m    116\u001b[39m \u001b[38;5;28;01mif\u001b[39;00m y_type \u001b[38;5;129;01mnot\u001b[39;00m \u001b[38;5;129;01min\u001b[39;00m [\u001b[33m\"\u001b[39m\u001b[33mbinary\u001b[39m\u001b[33m\"\u001b[39m, \u001b[33m\"\u001b[39m\u001b[33mmulticlass\u001b[39m\u001b[33m\"\u001b[39m, \u001b[33m\"\u001b[39m\u001b[33mmultilabel-indicator\u001b[39m\u001b[33m\"\u001b[39m]:\n\u001b[32m--> \u001b[39m\u001b[32m117\u001b[39m     \u001b[38;5;28;01mraise\u001b[39;00m \u001b[38;5;167;01mValueError\u001b[39;00m(\u001b[33m\"\u001b[39m\u001b[38;5;132;01m{0}\u001b[39;00m\u001b[33m is not supported\u001b[39m\u001b[33m\"\u001b[39m.format(y_type))\n\u001b[32m    119\u001b[39m \u001b[38;5;28;01mif\u001b[39;00m y_type \u001b[38;5;129;01min\u001b[39;00m [\u001b[33m\"\u001b[39m\u001b[33mbinary\u001b[39m\u001b[33m\"\u001b[39m, \u001b[33m\"\u001b[39m\u001b[33mmulticlass\u001b[39m\u001b[33m\"\u001b[39m]:\n\u001b[32m    120\u001b[39m     xp, _ = get_namespace(y_true, y_pred)\n",
            "\u001b[31mValueError\u001b[39m: multiclass-multioutput is not supported"
          ]
        }
      ],
      "source": [
        "# Define models with their hyperparameters\n",
        "models = {\n",
        "\t'Model1': {'embedding_size': EMB_DIM, 'hidden_size': 500, 'n_layers': 1, 'directions': 1},\n",
        "\t# 'Model2': {'embedding_size': EMB_DIM, 'hidden_size': 500, 'n_layers': 2, 'directions': 1},\n",
        "\t# 'Model3': {'embedding_size': EMB_DIM, 'hidden_size': 500, 'n_layers': 3, 'directions': 1},\n",
        "\t# 'Model4': {'embedding_size': EMB_DIM, 'hidden_size': 500, 'n_layers': 1, 'directions': 2},\n",
        "\t# 'Model5': {'embedding_size': EMB_DIM, 'hidden_size': 500, 'n_layers': 2, 'directions': 2},\n",
        "\t# 'Model6': {'embedding_size': EMB_DIM, 'hidden_size': 500, 'n_layers': 3, 'directions': 2},\n",
        "\t# 'Model7': {'embedding_size': EMB_DIM, 'hidden_size': 800, 'n_layers': 1, 'directions': 2},\n",
        "\t# 'Model8': {'embedding_size': EMB_DIM, 'hidden_size': 800, 'n_layers': 2, 'directions': 2},\n",
        "\t# 'Model9': {'embedding_size': EMB_DIM, 'hidden_size': 800, 'n_layers': 3, 'directions': 2},\n",
        "}\n",
        "\n",
        "# TO DO ----------------------------------------------------------------------\n",
        "results_dev = []\n",
        "for model_name, model_params in models.items():\n",
        "\tmodel = NERNet(**model_params, input_size=vocab.n_words, output_size=vocab.n_tags)\n",
        "\tmodel.to(DEVICE)\n",
        "\tresults = train_loop(model, n_epochs=N_EPOCHS, dataloader_train=dl_train, dataloader_dev=dl_dev)\n",
        "\tresults_dev_eval = evaluate(model, model_name, dl_dev, vocab)\n",
        "\tresults_dev.append(results_dev_eval)\n",
        " \n",
        "\t\n",
        "# TO DO ----------------------------------------------------------------------\n",
        "\n",
        "# Print results in tabulated format\n",
        "print(tabulate(results_dev, headers='keys', tablefmt='psql', floatfmt=\".4f\"))"
      ]
    },
    {
      "cell_type": "code",
      "execution_count": 101,
      "metadata": {},
      "outputs": [],
      "source": [
        "class NERNet(nn.Module):\n",
        "\tdef __init__(self, input_size: int, embedding_size: int, hidden_size: int, output_size: int, n_layers: int, directions: int):\n",
        "\t\t\"\"\"\n",
        "\t\tInitialize a NERNet instance.\n",
        "\t\t:param input_size: the size of the vocabulary\n",
        "\t\t:param embedding_size: the size of the embeddings\n",
        "\t\t:param hidden_size: the LSTM hidden size\n",
        "\t\t:param output_size: the number tags we are predicting for\n",
        "\t\t:param directions: could be 1 or 2, indicating unidirectional or bidirectional LSTM, respectively\n",
        "\t\t:param n_layers: the number of layers we want to use in LSTM\n",
        "\t\t\"\"\"\n",
        "\t\tsuper(NERNet, self).__init__()\n",
        "\t\t# TO DO ----------------------------------------------------------------------\n",
        "\t\tself.embedding = nn.Embedding(input_size, embedding_size)\n",
        "\t\tself.lstm = nn.LSTM(embedding_size, hidden_size, num_layers=n_layers, bidirectional=directions == 2, batch_first=True)\n",
        "\t\tself.fc = nn.Linear(hidden_size, output_size)\n",
        "\t\tself.dropout = nn.Dropout(0.5)\n",
        "\t\tself.init_weights()\n",
        "\n",
        "\tdef init_weights(self):\n",
        "\t\tself.embedding.weight.data.uniform_(-0.1, 0.1)\n",
        "\t\tself.fc.weight.data.uniform_(-0.1, 0.1)\n",
        "\t\tself.fc.bias.data.zero_()\n",
        "  \n",
        "\n",
        "\t\t# TO DO ----------------------------------------------------------------------\n",
        "\n",
        "\tdef forward(self, input_sentence):\n",
        "\t\t# TO DO ----------------------------------------------------------------------\n",
        "\t\t# input_sentence: (batch_size, seq_len)\n",
        "\t\t\n",
        "\t\tembed = self.embedding(input_sentence)\n",
        "\t\tembed = self.dropout(embed)\n",
        "\t\tlstm_out, _ = self.lstm(embed)\n",
        "\t\toutput = self.fc(lstm_out)\n",
        "\t\toutput = output.view(output.shape[0], -1, output.shape[2])\n",
        "\n",
        "\t\t# TO DO ----------------------------------------------------------------------\n",
        "\t\treturn output\n"
      ]
    },
    {
      "cell_type": "code",
      "execution_count": 102,
      "metadata": {},
      "outputs": [],
      "source": [
        "class NERNet(nn.Module):\n",
        "\tdef __init__(self, input_size: int, embedding_size: int, hidden_size: int, output_size: int, n_layers: int, directions: int):\n",
        "\t\t\"\"\"\n",
        "\t\tInitialize a NERNet instance.\n",
        "\t\t:param input_size: the size of the vocabulary\n",
        "\t\t:param embedding_size: the size of the embeddings\n",
        "\t\t:param hidden_size: the LSTM hidden size\n",
        "\t\t:param output_size: the number tags we are predicting for\n",
        "\t\t:param directions: could be 1 or 2, indicating unidirectional or bidirectional LSTM, respectively\n",
        "\t\t:param n_layers: the number of layers we want to use in LSTM\n",
        "\t\t\"\"\"\n",
        "\t\tsuper(NERNet, self).__init__()\n",
        "\t\t# TO DO ----------------------------------------------------------------------\n",
        "\t\tself.embedding = nn.Embedding(input_size, embedding_size)\n",
        "\t\tself.lstm = nn.LSTM(embedding_size, hidden_size, num_layers=n_layers, bidirectional=directions == 2, batch_first=True)\n",
        "\t\tself.fc = nn.Linear(hidden_size, output_size)\n",
        "\t\tself.dropout = nn.Dropout(0.5)\n",
        "\t\tself.init_weights()\n",
        "\n",
        "\tdef init_weights(self):\n",
        "\t\tself.embedding.weight.data.uniform_(-0.1, 0.1)\n",
        "\t\tself.fc.weight.data.uniform_(-0.1, 0.1)\n",
        "\t\tself.fc.bias.data.zero_()\n",
        "  \n",
        "\n",
        "\t\t# TO DO ----------------------------------------------------------------------\n",
        "\n",
        "\tdef forward(self, input_sentence):\n",
        "\t\t# TO DO ----------------------------------------------------------------------\n",
        "\t\t# input_sentence: (batch_size, seq_len)\n",
        "\t\t\n",
        "\t\tembed = self.embedding(input_sentence)\n",
        "\t\tembed = self.dropout(embed)\n",
        "\t\tlstm_out, _ = self.lstm(embed)\n",
        "\t\toutput = self.fc(lstm_out)\n",
        "\t\toutput = output.view(output.shape[0], -1, output.shape[2])\n",
        "\n",
        "\t\t# TO DO ----------------------------------------------------------------------\n",
        "\t\treturn output\n"
      ]
    },
    {
      "cell_type": "markdown",
      "metadata": {
        "id": "U4o5joZgA1YE"
      },
      "source": [
        "## Step 3: Evaluate on Test Set\n",
        "Evaluate your models on the test set and save the results as a CSV. Add this file to your repo for submission."
      ]
    },
    {
      "cell_type": "code",
      "execution_count": 103,
      "metadata": {
        "colab": {
          "base_uri": "https://localhost:8080/",
          "height": 1000
        },
        "id": "gTNmBU6hycZl",
        "outputId": "927f1a50-7c13-4239-efa3-44010dc32eb1"
      },
      "outputs": [
        {
          "name": "stdout",
          "output_type": "stream",
          "text": [
            "+-----------+---------------+------------+--------------+----------+-------------+------+---------------+------------------+-----------+\n",
            "| N_MODEL   | HIDDEN_SIZE   | N_LAYERS   | DIRECTIONS   | RECALL   | PERCISION   | F1   | RECALL_WO_O   | PERCISION_WO_O   | F1_WO_O   |\n",
            "|-----------+---------------+------------+--------------+----------+-------------+------+---------------+------------------+-----------|\n",
            "+-----------+---------------+------------+--------------+----------+-------------+------+---------------+------------------+-----------+\n"
          ]
        }
      ],
      "source": [
        "results = pd.DataFrame(columns=columns)\n",
        "file_name = \"NER_results.csv\"\n",
        "# TO DO ----------------------------------------------------------------------\n",
        "\n",
        "# TO DO ----------------------------------------------------------------------\n",
        "print(tabulate(results, headers='keys', tablefmt='psql',floatfmt=\".4f\"))\n"
      ]
    },
    {
      "cell_type": "markdown",
      "metadata": {
        "id": "8Y4U4eHmShw8"
      },
      "source": [
        "## Step 4 - best model\n",
        "Decide which model performs the best, write its configuration, train it for 5 more epochs and evaluate it on the test set."
      ]
    },
    {
      "cell_type": "code",
      "execution_count": 104,
      "metadata": {
        "colab": {
          "base_uri": "https://localhost:8080/",
          "height": 1000
        },
        "id": "M3TnKYqmSvds",
        "outputId": "96a3fd41-c10c-466c-b685-a37896f68c8a"
      },
      "outputs": [],
      "source": [
        "best_model_cfg = {'embedding_size':EMB_DIM, 'hidden_size': -1, 'n_layers': -1, 'directions': -1}\n",
        "# TO DO ----------------------------------------------------------------------\n",
        "\n",
        "# TO DO ----------------------------------------------------------------------"
      ]
    },
    {
      "cell_type": "markdown",
      "metadata": {
        "id": "rsCfk8caB3iU"
      },
      "source": [
        "<br><br><br><br><br>"
      ]
    },
    {
      "cell_type": "markdown",
      "metadata": {
        "id": "nF_jrCkpCVUD"
      },
      "source": [
        "# Part 4 - Pretrained Embeddings"
      ]
    },
    {
      "cell_type": "markdown",
      "metadata": {
        "id": "UM74r0_8nk5s"
      },
      "source": [
        "\n",
        "\n",
        "To prepare for this task, please read [this discussion](https://discuss.pytorch.org/t/can-we-use-pre-trained-word-embeddings-for-weight-initialization-in-nn-embedding/1222).\n",
        "\n",
        "**TIP**: Ensure that the vectors are aligned with the IDs in your vocabulary. In other words, make sure that the word with ID 0 corresponds to the first vector in the GloVe matrix used to initialize `nn.Embedding`.\n",
        "\n"
      ]
    },
    {
      "cell_type": "markdown",
      "metadata": {
        "id": "A6rrSb-bFoTa"
      },
      "source": [
        "## Step 1: Get Data"
      ]
    },
    {
      "cell_type": "markdown",
      "metadata": {
        "id": "dscQwqxvBP5-"
      },
      "source": [
        "\n",
        "\n",
        "Download the GloVe embeddings from [this link](https://nlp.stanford.edu/projects/glove/). Use the 300-dimensional vectors from `glove.6B.zip`.\n",
        "\n"
      ]
    },
    {
      "cell_type": "code",
      "execution_count": 105,
      "metadata": {
        "colab": {
          "base_uri": "https://localhost:8080/"
        },
        "id": "gbY3bBiH_9E8",
        "outputId": "60134955-2398-4cce-d3bd-e67a784a13cb"
      },
      "outputs": [],
      "source": [
        "# TO DO ----------------------------------------------------------------------\n",
        "\n",
        "# TO DO ----------------------------------------------------------------------"
      ]
    },
    {
      "cell_type": "markdown",
      "metadata": {
        "id": "eBLEK9R3Fxye"
      },
      "source": [
        "## Step 2: Inject Embeddings"
      ]
    },
    {
      "cell_type": "markdown",
      "metadata": {
        "id": "xH8ybhqY_8US"
      },
      "source": [
        "Then intialize the `nn.Embedding` module in your `NERNet` with these embeddings, so that you can start your training with pre-trained vectors."
      ]
    },
    {
      "cell_type": "code",
      "execution_count": 106,
      "metadata": {
        "id": "OXSEIjfe9DSy"
      },
      "outputs": [],
      "source": [
        "def get_emb_matrix(filepath: str, vocab: Vocab) -> np.ndarray:\n",
        "\temb_matrix = np.zeros((len(vocab.word2id), 300))\n",
        "\t# TO DO ----------------------------------------------------------------------\n",
        "\n",
        "\t# TO DO ----------------------------------------------------------------------\n",
        "\treturn emb_matrix"
      ]
    },
    {
      "cell_type": "code",
      "execution_count": 107,
      "metadata": {
        "id": "I56mqREnVRey"
      },
      "outputs": [],
      "source": [
        "def initialize_from_pretrained_emb(model: NERNet, emb_matrix: np.ndarray):\n",
        "\t\"\"\"\n",
        "\tInject the pretrained embeddings into the model.\n",
        "\t:param model: model instance\n",
        "\t:param emb_matrix: pretrained embeddings\n",
        "\t\"\"\"\n",
        "\t# TO DO ----------------------------------------------------------------------\n",
        "\n",
        "\t# TO DO ----------------------------------------------------------------------"
      ]
    },
    {
      "cell_type": "code",
      "execution_count": 108,
      "metadata": {
        "id": "lf0byP9y_9jG"
      },
      "outputs": [
        {
          "ename": "NameError",
          "evalue": "name 'VOCAB_SIZE' is not defined",
          "output_type": "error",
          "traceback": [
            "\u001b[31m---------------------------------------------------------------------------\u001b[39m",
            "\u001b[31mNameError\u001b[39m                                 Traceback (most recent call last)",
            "\u001b[36mCell\u001b[39m\u001b[36m \u001b[39m\u001b[32mIn[108]\u001b[39m\u001b[32m, line 4\u001b[39m\n\u001b[32m      2\u001b[39m emb_file = \u001b[33m'\u001b[39m\u001b[33mglove.6B.300d.txt\u001b[39m\u001b[33m'\u001b[39m\n\u001b[32m      3\u001b[39m emb_matrix = get_emb_matrix(emb_file, vocab)\n\u001b[32m----> \u001b[39m\u001b[32m4\u001b[39m ner_glove = NERNet(input_size=\u001b[43mVOCAB_SIZE\u001b[49m, embedding_size=EMB_DIM, hidden_size=\u001b[32m500\u001b[39m, output_size=NUM_TAGS, n_layers=\u001b[32m1\u001b[39m, directions=\u001b[32m1\u001b[39m)\n\u001b[32m      5\u001b[39m initialize_from_pretrained_emb(ner_glove, emb_matrix)\n",
            "\u001b[31mNameError\u001b[39m: name 'VOCAB_SIZE' is not defined"
          ]
        }
      ],
      "source": [
        "# Read embeddings and inject them to a model\n",
        "emb_file = 'glove.6B.300d.txt'\n",
        "emb_matrix = get_emb_matrix(emb_file, vocab)\n",
        "ner_glove = NERNet(input_size=VOCAB_SIZE, embedding_size=EMB_DIM, hidden_size=500, output_size=NUM_TAGS, n_layers=1, directions=1)\n",
        "initialize_from_pretrained_emb(ner_glove, emb_matrix)"
      ]
    },
    {
      "cell_type": "markdown",
      "metadata": {
        "id": "JElogtlHF4DN"
      },
      "source": [
        "## Step 3: Evaluate on Test Set"
      ]
    },
    {
      "cell_type": "markdown",
      "metadata": {
        "id": "Obm_WN4_ALmM"
      },
      "source": [
        "Same as the evaluation process before, please display:\n",
        "\n",
        "1. Print a `RECALL-PERCISION-F1` scores in a tabulate format.\n",
        "2. Display a `confusion matrix` plot: where the predicted labels are the rows, and the true labels are the columns.\n",
        "\n",
        "Make sure to use the title for the plot, axis names, and the names of the tags on the X-axis.\n",
        "\n",
        "Make sure to download and upload this CSV as well."
      ]
    },
    {
      "cell_type": "code",
      "execution_count": null,
      "metadata": {
        "id": "c7Xw3h6mAhRw"
      },
      "outputs": [],
      "source": [
        "results = pd.DataFrame(columns=columns)\n",
        "file_name = \"NER_results_glove.csv\"\n",
        "# TO DO ----------------------------------------------------------------------\n",
        "\n",
        "# TO DO ----------------------------------------------------------------------\n",
        "print(tabulate(results, headers='keys', tablefmt='psql',floatfmt=\".4f\"))"
      ]
    },
    {
      "cell_type": "markdown",
      "metadata": {
        "id": "c5XrhAdNXShg"
      },
      "source": [
        "## Step 4 - best model\n",
        "Decide which model performs the best, write its configuration, train it for 5 more epochs and evaluate it on the test set."
      ]
    },
    {
      "cell_type": "code",
      "execution_count": null,
      "metadata": {
        "id": "QHI_ECNwXR-7"
      },
      "outputs": [],
      "source": [
        "best_model_glove_cfg = {'embedding_size':EMB_DIM, 'hidden_size': -1, 'n_layers': -1, 'directions': -1}\n",
        "# TO DO ----------------------------------------------------------------------\n",
        "\n",
        "# TO DO ----------------------------------------------------------------------"
      ]
    },
    {
      "cell_type": "markdown",
      "metadata": {
        "id": "z5vt-crDKzwA"
      },
      "source": [
        "# Part 5 - Error Analysis"
      ]
    },
    {
      "cell_type": "markdown",
      "metadata": {
        "id": "su5BqB2nKz6K"
      },
      "source": [
        "In this part, you'll analyze the errors made by your best model to understand its strengths and weaknesses."
      ]
    },
    {
      "cell_type": "markdown",
      "metadata": {
        "id": "s0YbktMuK0P1"
      },
      "source": [
        "## Step 1: Extract Predictions\n",
        "\n",
        "First, let's extract predictions from your best model on the test set:"
      ]
    },
    {
      "cell_type": "code",
      "execution_count": null,
      "metadata": {
        "id": "kP4tEV8HK-Bt"
      },
      "outputs": [],
      "source": [
        "def get_predictions(model, dataloader, vocab, PAD_TOKEN, DEVICE):\n",
        "\t\"\"\"\n",
        "\tGet predictions from the model on a dataloader.\n",
        "\n",
        "\tReturns:\n",
        "\t\t- true_tags_list: List of lists of true tag strings\n",
        "\t\t- pred_tags_list: List of lists of predicted tag strings\n",
        "\t\t- words_list: List of lists of words\n",
        "\t\"\"\"\n",
        "\timport torch\n",
        "\n",
        "\tmodel.eval()\n",
        "\ttrue_tags_list = []\n",
        "\tpred_tags_list = []\n",
        "\twords_list = []\n",
        "\n",
        "\twith torch.no_grad():\n",
        "\t\t# Handle different dataloader output formats\n",
        "\t\tfor batch in dataloader:\n",
        "\t\t\t# Unpack based on actual dataloader output\n",
        "\t\t\tif len(batch) == 3:  # (input_ids, casing_features, labels)\n",
        "\t\t\t\tinput_ids, casing_features, labels = batch\n",
        "\t\t\t\t# Move tensors to device\n",
        "\t\t\t\tinput_ids = input_ids.to(DEVICE)\n",
        "\t\t\t\tcasing_features = casing_features.to(DEVICE)\n",
        "\t\t\t\tlabels = labels.to(DEVICE)\n",
        "\n",
        "\t\t\t\t# Get model predictions\n",
        "\t\t\t\toutputs = model(input_ids, casing_features)\n",
        "\t\t\telse:  # (input_ids, labels)\n",
        "\t\t\t\tinput_ids, labels = batch\n",
        "\t\t\t\t# Move tensors to device\n",
        "\t\t\t\tinput_ids = input_ids.to(DEVICE)\n",
        "\t\t\t\tlabels = labels.to(DEVICE)\n",
        "\n",
        "\t\t\t\t# Get model predictions\n",
        "\t\t\t\toutputs = model(input_ids)\n",
        "\n",
        "\t\t\t_, predicted = torch.max(outputs, 2)\n",
        "\n",
        "\t\t\t# Process each sequence in the batch\n",
        "\t\t\tfor i in range(input_ids.size(0)):\n",
        "\t\t\t\t# Get sequence length (ignoring padding)\n",
        "\t\t\t\tseq_len = (input_ids[i] != PAD_TOKEN).sum().item()\n",
        "\n",
        "\t\t\t\t# Convert ids to tag strings and words\n",
        "\t\t\t\ttrue_tags = [vocab.id2tag[tag.item()] for tag in labels[i][:seq_len]]\n",
        "\t\t\t\tpred_tags = [vocab.id2tag[tag.item()] for tag in predicted[i][:seq_len]]\n",
        "\t\t\t\twords = [vocab.id2word[word.item()] for word in input_ids[i][:seq_len]]\n",
        "\n",
        "\t\t\t\ttrue_tags_list.append(true_tags)\n",
        "\t\t\t\tpred_tags_list.append(pred_tags)\n",
        "\t\t\t\twords_list.append(words)\n",
        "\n",
        "\treturn true_tags_list, pred_tags_list, words_list"
      ]
    },
    {
      "cell_type": "markdown",
      "metadata": {
        "id": "Aclr0JGILAcQ"
      },
      "source": [
        "## Step 2: Implement Simple Error Analysis\n",
        "\n",
        "Now, implement a function to analyze the errors in predictions:"
      ]
    },
    {
      "cell_type": "code",
      "execution_count": null,
      "metadata": {
        "id": "IZZqT0vELC_A"
      },
      "outputs": [],
      "source": [
        "def simple_analyze_errors(true_tags, pred_tags, words):\n",
        "\t\"\"\"\n",
        "\tAnalyze errors in NER predictions.\n",
        "\n",
        "\tArgs:\n",
        "\t\ttrue_tags: List of true tag sequences\n",
        "\t\tpred_tags: List of predicted tag sequences\n",
        "\t\twords: List of word sequences\n",
        "\n",
        "\tReturns:\n",
        "\t\tdict: Error statistics and examples\n",
        "\t\"\"\"\n",
        "\t# TODO: Implement error analysis\n",
        "\t# 1. Initialize error categories\n",
        "\t# 2. Process each sequence to identify errors\n",
        "\t# 3. Categorize errors and collect examples\n",
        "\t# 4. Return statistics and examples\n",
        "\n",
        "\t# Placeholder\n",
        "\treturn {\n",
        "\t\t'total_entities': 0,\n",
        "\t\t'correct_entities': 0,\n",
        "\t\t'accuracy': 0.0,\n",
        "\t\t'error_counts': {},\n",
        "\t\t'error_examples': {}\n",
        "\t}"
      ]
    },
    {
      "cell_type": "markdown",
      "metadata": {
        "id": "26q-EgUULFat"
      },
      "source": [
        "## Step 3: Helper Functions\n",
        "\n",
        "Implement these helper functions to extract entities and check for overlapping spans:"
      ]
    },
    {
      "cell_type": "code",
      "execution_count": null,
      "metadata": {
        "id": "iIcVbJPXLI5C"
      },
      "outputs": [],
      "source": [
        "def get_entities_simple(tags):\n",
        "\t\"\"\"\n",
        "\tExtract entities from a sequence of tags.\n",
        "\tReturns list of (start_idx, end_idx, entity_type) tuples.\n",
        "\t\"\"\"\n",
        "\t# TODO: Implement entity extraction\n",
        "\treturn []\n",
        "\n",
        "def has_overlap(start1, end1, start2, end2):\n",
        "\t\"\"\"Check if two spans overlap\"\"\"\n",
        "\t# TODO: Implement overlap checking\n",
        "\treturn False"
      ]
    },
    {
      "cell_type": "markdown",
      "metadata": {
        "id": "BhJmRicNLLYa"
      },
      "source": [
        "## Step 4: Visualization and Analysis\n",
        "\n",
        "Create a function to display the error analysis results:"
      ]
    },
    {
      "cell_type": "code",
      "execution_count": null,
      "metadata": {
        "id": "HeyN_NRWLN9j"
      },
      "outputs": [],
      "source": [
        "def print_error_analysis(analysis):\n",
        "\t\"\"\"Print a summary of the error analysis results\"\"\"\n",
        "\t# TODO: Implement printing function to show:\n",
        "\t# 1. Basic statistics (total entities, correct entities, accuracy)\n",
        "\t# 2. Error counts by category\n",
        "\t# 3. Examples of each error type\n",
        "\t# 4. Suggestions for improvement based on findings\n",
        "\tpass"
      ]
    },
    {
      "cell_type": "markdown",
      "metadata": {
        "id": "XFDfxsPhLV98"
      },
      "source": [
        "## Step 5: Improvement Suggestions\n",
        "\n",
        "Based on your error analysis, suggest at least three specific improvements to your model. Consider:\n",
        "\n",
        "1. What types of errors are most common?\n",
        "2. Are there patterns in the errors (e.g., specific entity types, contexts)?\n",
        "3. What techniques might address these specific error types?\n",
        "\n",
        "Write your suggestions in 3-5 sentences for each improvement."
      ]
    },
    {
      "cell_type": "code",
      "execution_count": null,
      "metadata": {
        "id": "grl9rhhsLWp2"
      },
      "outputs": [],
      "source": [
        "# Example usage\n",
        "if __name__ == \"__main__\":\n",
        "\t# Sample data for testing\n",
        "\ttrue_tags = [\n",
        "\t\t['O', 'B-PER', 'I-PER', 'O', 'B-LOC', 'I-LOC', 'O'],\n",
        "\t\t['B-ORG', 'I-ORG', 'O', 'B-PER', 'O']\n",
        "\t]\n",
        "\n",
        "\tpred_tags = [\n",
        "\t\t['O', 'B-PER', 'O', 'O', 'B-ORG', 'I-ORG', 'O'],\n",
        "\t\t['B-ORG', 'I-ORG', 'I-ORG', 'B-PER', 'O']\n",
        "\t]\n",
        "\n",
        "\twords = [\n",
        "\t\t['The', 'John', 'Smith', 'visited', 'New', 'York', 'yesterday'],\n",
        "\t\t['Google', 'Inc', 'hired', 'Alice', 'recently']\n",
        "\t]\n",
        "\n",
        "\t# Run the error analysis\n",
        "\tanalysis = simple_analyze_errors(true_tags_list, pred_tags_list, words_list)\n",
        "\tprint_error_analysis(analysis)\n",
        "\n",
        "\t# TODO: Write your improvement suggestions here"
      ]
    },
    {
      "cell_type": "markdown",
      "metadata": {
        "id": "8cUiLd_gCRO_"
      },
      "source": [
        "# Testing\n",
        "Copy the content of the **tests.py** file from the repo and paste below. This will create the results.json file and download it to your machine."
      ]
    },
    {
      "cell_type": "code",
      "execution_count": null,
      "metadata": {
        "id": "UMVrbY0SCRja"
      },
      "outputs": [],
      "source": [
        "####################\n",
        "# PLACE TESTS HERE #\n",
        "train_ds = read_data(\"data/train.txt\")\n",
        "dev_ds = read_data(\"data/dev.txt\")\n",
        "test_ds = read_data(\"data/test.txt\")\n",
        "def test_read_data():\n",
        "\tresult = {\n",
        "\t\t'lengths': (len(train_ds), len(dev_ds), len(test_ds)),\n",
        "\t}\n",
        "\treturn result\n",
        "\n",
        "vocab = Vocab(train_ds)\n",
        "def test_vocab():\n",
        "\tsent = vocab.index_words([\"I\", \"am\", \"Spongebob\"])\n",
        "\treturn {\n",
        "\t\t'length': vocab.n_words,\n",
        "\t\t'tag2id_length': len(vocab.tag2id),\n",
        "\t\t\"Spongebob\": sent[2]\n",
        "\t}\n",
        "\n",
        "train_sequences = prepare_data(train_ds, vocab)\n",
        "dev_sequences = prepare_data(dev_ds, vocab)\n",
        "test_sequences = prepare_data(test_ds, vocab)\n",
        "\n",
        "def test_count_oov():\n",
        "\treturn {\n",
        "\t\t'dev_oov': count_oov(dev_sequences),\n",
        "\t\t'test_oov': count_oov(test_sequences)\n",
        "\t}\n",
        "\n",
        "BATCH_SIZE = 16\n",
        "dl_train = prepare_data_loader(train_sequences, batch_size=BATCH_SIZE)\n",
        "dl_dev = prepare_data_loader(dev_sequences, batch_size=BATCH_SIZE, train=False)\n",
        "dl_test = prepare_data_loader(test_sequences, batch_size=BATCH_SIZE, train=False)\n",
        "\n",
        "def test_prepare_data_loader():\n",
        "\treturn {\n",
        "\t\t'lengths': (len(dl_train), len(dl_dev), len(dl_test))\n",
        "\t}\n",
        "\n",
        "\n",
        "def test_NERNet():\n",
        "\t# Extract best model configuration\n",
        "\thidden_size = best_model_cfg['hidden_size']\n",
        "\tn_layers = best_model_cfg['n_layers']\n",
        "\tdirections = best_model_cfg['directions']\n",
        "\n",
        "\n",
        "\t# Create model\n",
        "\tbest_model = NERNet(vocab.n_words, embedding_size=300, hidden_size=hidden_size, output_size=vocab.n_tags, n_layers=n_layers, directions=directions)\n",
        "\tbest_model.to(DEVICE)\n",
        "\n",
        "\t# Train model and evaluate\n",
        "\t_ = train_loop(best_model, n_epochs=10, dataloader_train=dl_train, dataloader_dev=dl_dev)\n",
        "\tresults = evaluate(best_model, title=\"\", dataloader=dl_test, vocab=vocab)\n",
        "\n",
        "\treturn {\n",
        "\t\t'f1': results['F1'],\n",
        "\t\t'f1_wo_o': results['F1_WO_O'],\n",
        "\t}\n",
        "\n",
        "def test_glove():\n",
        "\t# Get embeddings\n",
        "\temb_file = 'glove.6B.300d.txt'\n",
        "\temb_matrix = get_emb_matrix(emb_file, vocab)\n",
        "\n",
        "\t# Extract best model configuration\n",
        "\thidden_size = best_model_glove_cfg['hidden_size']\n",
        "\tn_layers = best_model_glove_cfg['n_layers']\n",
        "\tdirections = best_model_glove_cfg['directions']\n",
        "\n",
        "\t# Create model\n",
        "\tbest_model = NERNet(vocab.n_words, embedding_size=300, hidden_size=hidden_size, output_size=vocab.n_tags, n_layers=n_layers, directions=directions)\n",
        "\tbest_model.to(DEVICE)\n",
        "\tinitialize_from_pretrained_emb(ner_glove, emb_matrix)\n",
        "\n",
        "\t# Train model and evaluate\n",
        "\t_ = train_loop(best_model, n_epochs=10, dataloader_train=dl_train, dataloader_dev=dl_dev)\n",
        "\tresults = evaluate(best_model, title=\"\", dataloader=dl_test, vocab=vocab)\n",
        "\n",
        "\treturn {\n",
        "\t\t'f1': results['F1'],\n",
        "\t\t'f1_wo_o': results['F1_WO_O'],\n",
        "\t}\n",
        "\n",
        "TESTS = [\n",
        "\ttest_read_data,\n",
        "\ttest_vocab,\n",
        "\ttest_count_oov,\n",
        "\ttest_prepare_data_loader,\n",
        "\ttest_NERNet,\n",
        "\ttest_glove\n",
        "]\n",
        "\n",
        "# Run tests and save results\n",
        "res = {}\n",
        "for test in TESTS:\n",
        "\ttry:\n",
        "\t\tcur_res = test()\n",
        "\t\tres.update({test.__name__: cur_res})\n",
        "\texcept Exception as e:\n",
        "\t\tres.update({test.__name__: repr(e)})\n",
        "\n",
        "with open('results.json', 'w') as f:\n",
        "\tjson.dump(res, f, indent=2)\n",
        "\n",
        "# Download the results.json file\n",
        "files.download('results.json')\n",
        "\n",
        "####################\n"
      ]
    }
  ],
  "metadata": {
    "accelerator": "GPU",
    "colab": {
      "provenance": []
    },
    "kernelspec": {
      "display_name": ".venv",
      "language": "python",
      "name": "python3"
    },
    "language_info": {
      "codemirror_mode": {
        "name": "ipython",
        "version": 3
      },
      "file_extension": ".py",
      "mimetype": "text/x-python",
      "name": "python",
      "nbconvert_exporter": "python",
      "pygments_lexer": "ipython3",
      "version": "3.11.11"
    }
  },
  "nbformat": 4,
  "nbformat_minor": 0
}
