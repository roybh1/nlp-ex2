{
  "cells": [
    {
      "cell_type": "markdown",
      "metadata": {
        "id": "k-WJBimYDLJS"
      },
      "source": [
        "# Natural Language Processing\n",
        "![](https://i.imgur.com/qkg2E2D.png)\n",
        "\n",
        "## Assignment 002 - NER Tagger\n",
        "\n",
        "> Notebook by:\n",
        "> - NLP Course Stuff\n",
        "## Revision History\n",
        "\n",
        "| Version | Date       | User        | Content / Changes                                                   |\n",
        "|---------|------------|-------------|---------------------------------------------------------------------|\n",
        "| 0.1.000 | 29/05/2025 | course staff| First version                                                       |\n",
        "| 0.2.000 | 09/06/2025 | course staff| Second version                                                       |"
      ]
    },
    {
      "cell_type": "markdown",
      "metadata": {
        "id": "Z-fCqGh9ybgm"
      },
      "source": [
        "## Overview\n",
        "In this assignment, you will build a complete training and testing pipeline for a neural sequential tagger for named entities using LSTM.\n",
        "\n",
        "## Dataset\n",
        "You will work with the ReCoNLL 2003 dataset, a corrected version of the [CoNLL 2003 dataset](https://www.clips.uantwerpen.be/conll2003/ner/):\n",
        "\n",
        "**Click on those links so you have access to the data!**\n",
        "- [Train data](https://drive.google.com/file/d/1CqEGoLPVKau3gvVrdG6ORyfOEr1FSZGf/view?usp=sharing)\n",
        "\n",
        "- [Dev data](https://drive.google.com/file/d/1rdUida-j3OXcwftITBlgOh8nURhAYUDw/view?usp=sharing)\n",
        "\n",
        "- [Test data](https://drive.google.com/file/d/137Ht40OfflcsE6BIYshHbT5b2iIJVaDx/view?usp=sharing)\n",
        "\n",
        "As you will see, the annotated texts are labeled according to the `IOB` annotation scheme (more on this below), for 3 entity types: Person, Organization, Location.\n",
        "\n",
        "## Your Implementation\n",
        "\n",
        "Please create a local copy of this template Colab's Notebook:\n",
        "\n",
        "[![Open In Colab](https://colab.research.google.com/assets/colab-badge.svg)](https://colab.research.google.com/drive/1KGkObwUn5QQm_v0nB0nAUlB4YrwThuzl#scrollTo=Z-fCqGh9ybgm)\n",
        "\n",
        "The assignment's instructions are there; follow the notebook.\n",
        "\n",
        "## Submission\n",
        "- **Notebook Link**: Add the URL to your assignment's notebook in the `notebook_link.txt` file, following the format provided in the example.\n",
        "- **Access**: Ensure the link has edit permissions enabled to allow modifications if needed.\n",
        "- **Deadline**: <font color='green'>16/06/2025</font>.\n",
        "- **Platform**: Continue using GitHub for submissions. Push your project to the team repository and monitor the test results under the actions section.\n",
        "\n",
        "Good Luck 🤗\n"
      ]
    },
    {
      "cell_type": "markdown",
      "metadata": {
        "id": "VOy8IghquR6x"
      },
      "source": [
        "<!-- ## NER schemes:  \n",
        "\n",
        "> `IO`: is the simplest scheme that can be applied to this task. In this scheme, each token from the dataset is assigned one of two tags: an inside tag (`I`) and an outside tag (`O`). The `I` tag is for named entities, whereas the `O` tag is for normal words. This scheme has a limitation, as it cannot correctly encode consecutive entities of the same type.\n",
        "\n",
        "> `IOB`: This scheme is also referred to in the literature as BIO and has been adopted by the Conference on Computational Natural Language Learning (CoNLL) [1]. It assigns a tag to each word in the text, determining whether it is the beginning (`B`) of a known named entity, inside (`I`) it, or outside (`O`) of any known named entities.\n",
        "\n",
        "> `IOE`: This scheme works nearly identically to `IOB`, but it indicates the end of the entity (`E` tag) instead of its beginning.\n",
        "\n",
        "> `IOBES`: An alternative to the IOB scheme is `IOBES`, which increases the amount of information related to the boundaries of named entities. In addition to tagging words at the beginning (`B`), inside (`I`), end (`E`), and outside (`O`) of a named entity. It also labels single-token entities with the tag `S`.\n",
        "\n",
        "> `BI`: This scheme tags entities in a similar method to `IOB`. Additionally, it labels the beginning of non-entity words with the tag B-O and the rest as I-O.\n",
        "\n",
        "> `IE`: This scheme works exactly like `IOE` with the distinction that it labels the end of non-entity words with the tag `E-O` and the rest as `I-O`.\n",
        "\n",
        "> `BIES`: This scheme encodes the entities similar to `IOBES`. In addition, it also encodes the non-entity words using the same method. It uses `B-O` to tag the beginning of non-entity words, `I-O` to tag the inside of non-entity words, and `S-O` for single non-entity tokens that exist between two entities. -->\n",
        "\n",
        "\n",
        "## NER Schemes\n",
        "\n",
        "### IO\n",
        "- **Description**: The simplest scheme for named entity recognition (NER).\n",
        "- **Tags**:\n",
        "    - `I`: Inside a named entity.\n",
        "    - `O`: Outside any named entity.\n",
        "- **Limitation**: Cannot correctly encode consecutive entities of the same type.\n",
        "\n",
        "### IOB (BIO)\n",
        "- **Description**: Adopted by the Conference on Computational Natural Language Learning (CoNLL).\n",
        "- **Tags**:\n",
        "    - `B`: Beginning of a named entity.\n",
        "    - `I`: Inside a named entity.\n",
        "    - `O`: Outside any named entity.\n",
        "- **Advantage**: Can encode the boundaries of consecutive entities.\n",
        "\n",
        "### IOE\n",
        "- **Description**: Similar to IOB, but indicates the end of an entity.\n",
        "- **Tags**:\n",
        "    - `I`: Inside a named entity.\n",
        "    - `O`: Outside any named entity.\n",
        "    - `E`: End of a named entity.\n",
        "- **Advantage**: Focuses on the end boundary of entities.\n",
        "\n",
        "### IOBES\n",
        "- **Description**: An extension of IOB with additional boundary information.\n",
        "- **Tags**:\n",
        "    - `B`: Beginning of a named entity.\n",
        "    - `I`: Inside a named entity.\n",
        "    - `O`: Outside any named entity.\n",
        "    - `E`: End of a named entity.\n",
        "    - `S`: Single-token named entity.\n",
        "- **Advantage**: Provides more detailed boundary information for named entities.\n",
        "\n",
        "### BI\n",
        "- **Description**: Tags entities similarly to IOB and labels the beginning of non-entity words.\n",
        "- **Tags**:\n",
        "    - `B`: Beginning of a named entity.\n",
        "    - `I`: Inside a named entity.\n",
        "    - `B-O`: Beginning of a non-entity word.\n",
        "    - `I-O`: Inside a non-entity word.\n",
        "- **Advantage**: Distinguishes the beginning of non-entity sequences.\n",
        "\n",
        "### IE\n",
        "- **Description**: Similar to IOE but for non-entity words.\n",
        "- **Tags**:\n",
        "    - `I`: Inside a named entity.\n",
        "    - `O`: Outside any named entity.\n",
        "    - `E`: End of a named entity.\n",
        "    - `E-O`: End of a non-entity word.\n",
        "    - `I-O`: Inside a non-entity word.\n",
        "- **Advantage**: Highlights the end of non-entity sequences.\n",
        "\n",
        "### BIES\n",
        "- **Description**: Encodes both entities and non-entity words using the IOBES method.\n",
        "- **Tags**:\n",
        "    - `B`: Beginning of a named entity.\n",
        "    - `I`: Inside a named entity.\n",
        "    - `O`: Outside any named entity.\n",
        "    - `E`: End of a named entity.\n",
        "    - `S`: Single-token named entity.\n",
        "    - `B-O`: Beginning of a non-entity word.\n",
        "    - `I-O`: Inside a non-entity word.\n",
        "    - `S-O`: Single non-entity token.\n",
        "- **Advantage**: Comprehensive encoding for both entities and non-entities.\n",
        "\n",
        "\n"
      ]
    },
    {
      "cell_type": "code",
      "execution_count": 1,
      "metadata": {
        "id": "bRwONXCzi28v"
      },
      "outputs": [
        {
          "name": "stdout",
          "output_type": "stream",
          "text": [
            "mkdir: data: File exists\n"
          ]
        }
      ],
      "source": [
        "!mkdir data\n",
        "# Fetch data\n",
        "# train_link = 'https://drive.google.com/file/d/1CqEGoLPVKau3gvVrdG6ORyfOEr1FSZGf/view?usp=sharing'\n",
        "# dev_link   = 'https://drive.google.com/file/d/1rdUida-j3OXcwftITBlgOh8nURhAYUDw/view?usp=sharing'\n",
        "# test_link  = 'https://drive.google.com/file/d/137Ht40OfflcsE6BIYshHbT5b2iIJVaDx/view?usp=sharing'\n",
        "\n",
        "# !wget -q --no-check-certificate 'https://docs.google.com/uc?export=download&id=1CqEGoLPVKau3gvVrdG6ORyfOEr1FSZGf' -O data/train.txt\n",
        "# !wget -q --no-check-certificate 'https://docs.google.com/uc?export=download&id=1rdUida-j3OXcwftITBlgOh8nURhAYUDw' -O data/dev.txt\n",
        "# !wget -q --no-check-certificate 'https://docs.google.com/uc?export=download&id=137Ht40OfflcsE6BIYshHbT5b2iIJVaDx' -O data/test.txt\n"
      ]
    },
    {
      "cell_type": "code",
      "execution_count": 2,
      "metadata": {
        "id": "5QNUSyEwvWqn"
      },
      "outputs": [],
      "source": [
        "# Any additional needed libraries\n",
        "# !pip install --q"
      ]
    },
    {
      "cell_type": "code",
      "execution_count": 3,
      "metadata": {
        "id": "3enPCGBF8FlX"
      },
      "outputs": [],
      "source": [
        "# Standard Library Imports\n",
        "import os\n",
        "import copy\n",
        "import random\n",
        "import warnings\n",
        "from collections import defaultdict\n",
        "from typing import Optional\n",
        "\n",
        "# ML\n",
        "import numpy as np\n",
        "import scipy as sp\n",
        "import pandas as pd\n",
        "\n",
        "# Visual\n",
        "import matplotlib\n",
        "import seaborn as sns\n",
        "from tqdm import tqdm\n",
        "from tabulate import tabulate\n",
        "import matplotlib.pyplot as plt\n",
        "from IPython.display import display\n",
        "\n",
        "# DL\n",
        "import torch as th\n",
        "import torch.nn as nn\n",
        "from torch.optim import Adam\n",
        "from torch.utils.data import DataLoader, Dataset\n",
        "\n",
        "# Metrics\n",
        "from sklearn import metrics\n",
        "from sklearn.metrics import accuracy_score , roc_auc_score, classification_report, confusion_matrix, precision_recall_fscore_support\n"
      ]
    },
    {
      "cell_type": "code",
      "execution_count": 4,
      "metadata": {
        "id": "ZUM4WJ9PwF0x"
      },
      "outputs": [],
      "source": [
        "SEED = 42\n",
        "# Set the random seed for Python\n",
        "random.seed(SEED)\n",
        "\n",
        "# Set the random seed for numpy\n",
        "np.random.seed(SEED)\n",
        "\n",
        "# Set the random seed for pytorch\n",
        "th.manual_seed(SEED)\n",
        "\n",
        "# If using CUDA (for GPU operations)\n",
        "th.cuda.manual_seed(SEED)\n",
        "\n",
        "# Set up the device\n",
        "# TO DO ----------------------------------------------------------------------\n",
        "DEVICE = \"mps\"\n",
        "# TO DO ----------------------------------------------------------------------\n",
        "#assert DEVICE == \"cuda\"\n",
        "\n",
        "DataType = list[tuple[list[str],list[str]]]"
      ]
    },
    {
      "cell_type": "markdown",
      "metadata": {
        "id": "f-1shPaJ0z1B"
      },
      "source": [
        "# Part 1 - Dataset Preparation"
      ]
    },
    {
      "cell_type": "markdown",
      "metadata": {
        "id": "5ul2Y3vuPoV8"
      },
      "source": [
        "## Step 1: Read Data\n",
        "Write a function for reading the data from a single file (of the ones that are provided above).   \n",
        "- The function recieves a filepath\n",
        "- The funtion encodes every sentence individually using a pair of lists, one list contains the words and one list contains the tags.\n",
        "- Each list pair will be added to a general list (data), which will be returned back from the function.\n",
        "\n",
        "Example output:\n",
        "```\n",
        "[\n",
        "    (['At','Trent','Bridge',':'],['O','B-LOC','I-LOC ','O']),\n",
        "    ([...],[...]),\n",
        "    ...\n",
        "]\n",
        "```"
      ]
    },
    {
      "cell_type": "code",
      "execution_count": 5,
      "metadata": {
        "id": "prgzgtt8Jw4Y"
      },
      "outputs": [],
      "source": [
        "def read_data(filepath:str) -> DataType:\n",
        "    \"\"\"\n",
        "    Read data from a single file.\n",
        "    The function recieves a filepath\n",
        "    The funtion encodes every sentence using a pair of lists, one list contains the words and one list contains the tags.\n",
        "    :param filepath: path to the file\n",
        "    :return: data as a list of tuples\n",
        "    \"\"\"\n",
        "    data = []\n",
        "    words = []\n",
        "    tags = []\n",
        "\n",
        "    with open(filepath, 'r', encoding='utf-8') as f:\n",
        "        for line in f:\n",
        "            line = line.strip()\n",
        "            if line == \"\":\n",
        "                if words:\n",
        "                    data.append((words, tags))\n",
        "                    words = []\n",
        "                    tags = []\n",
        "            else:\n",
        "                parts = line.split()\n",
        "                if len(parts) >= 2:\n",
        "                    word = parts[0]\n",
        "                    tag = parts[-1]\n",
        "                    words.append(word)\n",
        "                    tags.append(tag)\n",
        "\n",
        "        # Add the final sentence if the file doesn't end with a newline\n",
        "        if words:\n",
        "            data.append((words, tags))\n",
        "\n",
        "    return data"
      ]
    },
    {
      "cell_type": "code",
      "execution_count": 6,
      "metadata": {
        "colab": {
          "base_uri": "https://localhost:8080/"
        },
        "id": "yURR0GmX2i8M",
        "outputId": "3d1a4449-c417-4bf4-f086-0c982fbb3c9f"
      },
      "outputs": [],
      "source": [
        "train = read_data(\"data/train.txt\")\n",
        "dev = read_data(\"data/dev.txt\")\n",
        "test = read_data(\"data/test.txt\")"
      ]
    },
    {
      "cell_type": "markdown",
      "metadata": {
        "id": "IuGwk6OwRWGS"
      },
      "source": [
        "## Step 2: Create Vocab\n",
        "\n",
        "The `Vocab` class will serve as a dictionary that maps words and tags into IDs. Ensure that you include special tokens to handle out-of-vocabulary words and padding.\n",
        "\n",
        "### Your Task\n",
        "1. **Define Special Tokens**: Define special tokens such as `PAD_TOKEN` and `UNK_TOKEN` and assign them unique IDs.\n",
        "2. **Initialize Dictionaries**: Populate the word and tag dictionaries based on the training set.\n",
        "\n",
        "*Note: You may change the `Vocab` class as needed.*"
      ]
    },
    {
      "cell_type": "code",
      "execution_count": 7,
      "metadata": {
        "id": "6rKIB5o_vQO8"
      },
      "outputs": [],
      "source": [
        "# Initinize ids for special tokens\n",
        "PAD_TOKEN = 0\n",
        "UNK_TOKEN = 1\n",
        "\n",
        "class Vocab:\n",
        "    def __init__(self, train: DataType):\n",
        "        \"\"\"\n",
        "        Initialize a Vocab instance.\n",
        "        :param train: train data\n",
        "        \"\"\"\n",
        "        self.word2id = {\"__unk__\": UNK_TOKEN, \"__pad__\": PAD_TOKEN}\n",
        "        self.id2word = {UNK_TOKEN: \"__unk__\", PAD_TOKEN: \"__pad__\"}\n",
        "        self.n_words = 2\n",
        "\n",
        "        self.tag2id = {}\n",
        "        self.id2tag = {}\n",
        "        self.n_tags = 0\n",
        "\n",
        "        for words, tags in train:\n",
        "            for word in words:\n",
        "                if word not in self.word2id:\n",
        "                    self.word2id[word] = self.n_words\n",
        "                    self.id2word[self.n_words] = word\n",
        "                    self.n_words += 1\n",
        "            for tag in tags:\n",
        "                if tag not in self.tag2id:\n",
        "                    self.tag2id[tag] = self.n_tags\n",
        "                    self.id2tag[self.n_tags] = tag\n",
        "                    self.n_tags += 1    \n",
        "\n",
        "    def __len__(self):\n",
        "        return self.n_words\n",
        "\n",
        "    def index_tags(self, tags: list[str]) -> list[int]:\n",
        "        \"\"\"\n",
        "        Convert tags to Ids.\n",
        "        :param tags: list of tags\n",
        "        :return: list of Ids\n",
        "        \"\"\"\n",
        "        tag_indexes = [self.tag2id[t] for t in tags]\n",
        "        return tag_indexes\n",
        "\n",
        "    def index_words(self, words: list[str]) -> list[int]:\n",
        "        \"\"\"\n",
        "        Convert words to Ids.\n",
        "        :param words: list of words\n",
        "        :return: list of Ids\n",
        "        \"\"\"\n",
        "        word_indexes = [self.word2id[w] if w in self.word2id else self.word2id[\"__unk__\"] for w in words]\n",
        "        return word_indexes"
      ]
    },
    {
      "cell_type": "code",
      "execution_count": 8,
      "metadata": {
        "colab": {
          "base_uri": "https://localhost:8080/"
        },
        "id": "0H2D2zSR4GQ9",
        "outputId": "9c16a220-07c5-40f0-e5f0-b7554d19dc1b"
      },
      "outputs": [],
      "source": [
        "vocab = Vocab(train)\n"
      ]
    },
    {
      "cell_type": "markdown",
      "metadata": {
        "id": "iDKYryfKfNdh"
      },
      "source": [
        "## Step 3: Prepare Data\n",
        "Write a function `prepare_data` that takes one of the [train, dev, test] and the `Vocab` instance, for converting each pair of (words, tags) to a pair of indexes. Additionally, the function should pad the sequences to the maximum length sequence **of the given split**.\n",
        "\n",
        "Note: Vocabulary is based only on the train set.\n",
        "\n",
        "### Your Task\n",
        "1. Convert each pair of (words, tags) to a pair of indexes using the Vocab instance.\n",
        "2. Pad the sequences to the maximum length of the sequences in the given split."
      ]
    },
    {
      "cell_type": "code",
      "execution_count": 9,
      "metadata": {
        "id": "noIY3zWKvhBd"
      },
      "outputs": [],
      "source": [
        "def prepare_data(data: DataType, vocab: Vocab):\n",
        "    data_sequences = []\n",
        "    PAD_WORD_ID = vocab.word2id[\"__pad__\"]\n",
        "    PAD_TAG_ID = vocab.tag2id.get(\"O\", 0)  # Default to \"O\" if no padding tag defined\n",
        "    \n",
        "    max_len = max(len(words) for words, _ in data)\n",
        "\n",
        "    for words, tags in data:\n",
        "        word_ids = vocab.index_words(words)\n",
        "        tag_ids = vocab.index_tags(tags)\n",
        "\n",
        "        # Padding\n",
        "        padding_len = max_len - len(words)\n",
        "        word_ids += [PAD_WORD_ID] * padding_len\n",
        "        tag_ids += [PAD_TAG_ID] * padding_len\n",
        "\n",
        "        data_sequences.append((word_ids, tag_ids))\n",
        "\n",
        "    return data_sequences    "
      ]
    },
    {
      "cell_type": "code",
      "execution_count": 10,
      "metadata": {
        "id": "Y4mryWuq6rox"
      },
      "outputs": [],
      "source": [
        "train_sequences = prepare_data(train, vocab)\n",
        "dev_sequences = prepare_data(dev, vocab)\n",
        "test_sequences = prepare_data(test, vocab)\n",
        "\n"
      ]
    },
    {
      "cell_type": "markdown",
      "metadata": {
        "id": "aSR-qJnIQGUJ"
      },
      "source": [
        "### Your Task\n",
        "Print the number of OOV in dev and test sets:"
      ]
    },
    {
      "cell_type": "code",
      "execution_count": 11,
      "metadata": {
        "id": "QaXaJe5wrGhl"
      },
      "outputs": [],
      "source": [
        "def count_oov(sequences) -> int:\n",
        "    \"\"\"\n",
        "    Count the number of OOV words.\n",
        "    :param sequences: list of sequences\n",
        "    :return: number of OOV words\n",
        "    \"\"\"\n",
        "    oov = 0\n",
        "\n",
        "    for word_ids, _ in sequences:\n",
        "        oov += sum(1 for wid in word_ids if wid == UNK_TOKEN)\n",
        "\n",
        "    return oov"
      ]
    },
    {
      "cell_type": "markdown",
      "metadata": {
        "id": "QxC7SyD0EaMF"
      },
      "source": [
        "## Step 4: Dataloaders\n",
        "Create dataloaders for each split in the dataset. They should return the samples as Tensors.\n",
        "\n",
        "**Hint** - you can create a Dataset to support this part.\n",
        "\n",
        "For the training set, use shuffling, and for the dev and test, not."
      ]
    },
    {
      "cell_type": "code",
      "execution_count": 12,
      "metadata": {
        "id": "vpMZ1C15t4Ra"
      },
      "outputs": [
        {
          "name": "stdout",
          "output_type": "stream",
          "text": [
            "torch.Size([16, 58])\n",
            "torch.Size([16, 58])\n"
          ]
        }
      ],
      "source": [
        "class SequenceDataset(Dataset):\n",
        "    def __init__(self, sequences):\n",
        "        \"\"\"\n",
        "        Dataset wrapping a list of (word_ids, tag_ids) pairs.\n",
        "        :param sequences: list of (word_ids, tag_ids)\n",
        "        \"\"\"\n",
        "        self.sequences = sequences\n",
        "\n",
        "    def __len__(self):\n",
        "        return len(self.sequences)\n",
        "\n",
        "    def __getitem__(self, idx):\n",
        "        word_ids, tag_ids = self.sequences[idx]\n",
        "        word_ids = th.tensor(word_ids, dtype=th.long)\n",
        "        tag_ids = th.tensor(tag_ids, dtype=th.long)\n",
        "        return word_ids, tag_ids\n",
        "\n",
        "def prepare_data_loader(sequences, batch_size: int, train: bool = True):\n",
        "    \"\"\"\n",
        "    Create a DataLoader from a list of sequences.\n",
        "    :param sequences: list of (word_ids, tag_ids)\n",
        "    :param batch_size: batch size\n",
        "    :param train: whether to shuffle the dataloader\n",
        "    :return: PyTorch DataLoader\n",
        "    \"\"\"\n",
        "    dataset = SequenceDataset(sequences)\n",
        "    dataloader = DataLoader(dataset, batch_size=batch_size, shuffle=train)\n",
        "    return dataloader\n",
        "\n",
        "\n",
        "data_loader_train = prepare_data_loader(train_sequences, batch_size=16)\n",
        "for batch in data_loader_train:\n",
        "    inputs, labels = batch\n",
        "    print(inputs.shape)\n",
        "    print(labels.shape)\n",
        "    break\n"
      ]
    },
    {
      "cell_type": "code",
      "execution_count": 13,
      "metadata": {
        "colab": {
          "base_uri": "https://localhost:8080/"
        },
        "id": "YWhK-O-suA93",
        "outputId": "cc7dfd7d-696f-4d63-8923-5a64ea851e4d"
      },
      "outputs": [],
      "source": [
        "BATCH_SIZE = 16\n",
        "dl_train = prepare_data_loader(train_sequences, batch_size=BATCH_SIZE)\n",
        "dl_dev = prepare_data_loader(dev_sequences, batch_size=BATCH_SIZE, train=False)\n",
        "dl_test = prepare_data_loader(test_sequences, batch_size=BATCH_SIZE, train=False)"
      ]
    },
    {
      "cell_type": "markdown",
      "metadata": {
        "id": "aUsgtdW869JH"
      },
      "source": [
        "# Part 2 - NER Model Training"
      ]
    },
    {
      "cell_type": "markdown",
      "metadata": {
        "id": "UccfiRRtiEet"
      },
      "source": [
        "## Step 1: Implement Model\n",
        "\n",
        "Write NERNet, a PyTorch Module for labeling words with NER tags.\n",
        "\n",
        "> `input_size`: the size of the vocabulary  \n",
        "`embedding_size`: the size of the embeddings  \n",
        "`hidden_size`: the LSTM hidden size  \n",
        "`output_size`: the number tags we are predicting for  \n",
        "`n_layers`: the number of layers we want to use in LSTM  \n",
        "`directions`: could 1 or 2, indicating unidirectional or bidirectional LSTM, respectively  \n",
        "\n",
        "<br>  \n",
        "\n",
        "The input for your forward function should be a single sentence tensor.\n",
        "\n",
        "*Note: the embeddings in this section are learned embedding. That means that you don't need to use pretrained embedding like the one used in the last excersie. You will use them in part 5.*\n",
        "\n",
        "*Note: You may change the NERNet class.*"
      ]
    },
    {
      "cell_type": "code",
      "execution_count": 14,
      "metadata": {},
      "outputs": [],
      "source": [
        "class NERNet(nn.Module):\n",
        "    def __init__(self, input_size: int, embedding_size: int, hidden_size: int, output_size: int, n_layers: int, directions: int):\n",
        "        \"\"\"\n",
        "        Initialize a NERNet instance.\n",
        "        :param input_size: the size of the vocabulary\n",
        "        :param embedding_size: the size of the embeddings\n",
        "        :param hidden_size: the LSTM hidden size\n",
        "        :param output_size: the number tags we are predicting for\n",
        "        :param directions: could be 1 or 2, indicating unidirectional or bidirectional LSTM, respectively\n",
        "        :param n_layers: the number of layers we want to use in LSTM\n",
        "        \"\"\"\n",
        "        super(NERNet, self).__init__()\n",
        "        # TO DO ----------------------------------------------------------------------\n",
        "        self.embedding = nn.Embedding(input_size, embedding_size,padding_idx=0)\n",
        "        self.lstm = nn.LSTM(embedding_size, hidden_size, num_layers=n_layers, bidirectional=directions == 2, batch_first=True)\n",
        "        self.fc = nn.Linear(hidden_size*directions, output_size)\n",
        "        self.softmax = nn.LogSoftmax(dim=2)\n",
        "        self.init_weights()\n",
        "\n",
        "    def init_weights(self):\n",
        "        self.embedding.weight.data.uniform_(-0.1, 0.1)\n",
        "        self.fc.weight.data.uniform_(-0.1, 0.1)\n",
        "        self.fc.bias.data.zero_()\n",
        "  \n",
        "\n",
        "        # TO DO ----------------------------------------------------------------------\n",
        "\n",
        "    def forward(self, input_sentence):\n",
        "        # input_sentence: (batch_size, seq_len)\n",
        "        embed = self.embedding(input_sentence)\n",
        "        lstm_out, _ = self.lstm(embed)\n",
        "        output = self.fc(lstm_out)\n",
        "        # Apply softmax across the output classes (dimension 2)\n",
        "        output = self.softmax(output)\n",
        "        return output"
      ]
    },
    {
      "cell_type": "code",
      "execution_count": 15,
      "metadata": {
        "colab": {
          "base_uri": "https://localhost:8080/"
        },
        "id": "0nrbHIei19s5",
        "outputId": "99ef66ba-8b8f-4109-b464-bb18b132824f"
      },
      "outputs": [
        {
          "data": {
            "text/plain": [
              "NERNet(\n",
              "  (embedding): Embedding(7163, 300, padding_idx=0)\n",
              "  (lstm): LSTM(300, 800, num_layers=2, batch_first=True)\n",
              "  (fc): Linear(in_features=800, out_features=7, bias=True)\n",
              "  (softmax): LogSoftmax(dim=2)\n",
              ")"
            ]
          },
          "execution_count": 15,
          "metadata": {},
          "output_type": "execute_result"
        }
      ],
      "source": [
        "model = NERNet(vocab.n_words, embedding_size=300, hidden_size=800, output_size=vocab.n_tags, n_layers=2, directions=1)\n",
        "model.to(DEVICE)\n"
      ]
    },
    {
      "cell_type": "markdown",
      "metadata": {
        "id": "dEGSQdeUkTP8"
      },
      "source": [
        "## Step 2: Training Loop\n",
        "\n",
        "Write a training loop, which takes a model (instance of NERNet), number of epochs to train on, and the train&dev datasets.  \n",
        "\n",
        "The function will return the `loss` and `accuracy` durring training.  \n",
        "(If you're using a different/additional metrics, return them too)\n",
        "\n",
        "The loss is always CrossEntropyLoss and the optimizer is always Adam.\n",
        "Make sure to use `tqdm` while iterating on `n_epochs`.\n"
      ]
    },
    {
      "cell_type": "code",
      "execution_count": 16,
      "metadata": {
        "id": "avkHfjT3k0HM"
      },
      "outputs": [],
      "source": [
        "\n",
        "\n",
        "def train_loop(model: NERNet, n_epochs: int, dataloader_train, dataloader_dev):\n",
        "    \"\"\"\n",
        "    Train a model.\n",
        "    :param model: model instance\n",
        "    :param n_epochs: number of epochs to train on\n",
        "    :param dataloader_train: train dataloader\n",
        "    :param dataloader_dev: dev dataloader\n",
        "    :return: loss and accuracy during training\n",
        "    \"\"\"\n",
        "    # Optimizer (ADAM is a fancy version of SGD)\n",
        "    optimizer = Adam(model.parameters(), lr=0.0001)\n",
        "    loss_fn = nn.CrossEntropyLoss(ignore_index=0)\n",
        "    # Record\n",
        "    metrics = {'loss': {'train': [], 'dev': []}, 'accuracy': {'train': [], 'dev': []}}\n",
        "\n",
        "    # Move model to device\n",
        "    model.to(DEVICE)\n",
        "\n",
        "    ## TO DO ----------------------------------------------------------------------\n",
        "    tqdm_epochs = tqdm(range(n_epochs), desc=\"Epochs\",colour=\"green\")\n",
        "    total_loss = 0\n",
        "    total_correct = 0\n",
        "    total_samples = 0\n",
        "    all_preds = []\n",
        "    all_labels = []\n",
        "    for epoch in tqdm_epochs:\n",
        "        for batch in dataloader_train:\n",
        "            inputs, labels = batch\n",
        "\n",
        "            inputs = inputs.to(DEVICE)\n",
        "            labels = labels.to(DEVICE)\n",
        "            optimizer.zero_grad()\t\n",
        "            outputs = model(inputs)\n",
        "            outputs_flat = outputs.view(-1, outputs.shape[2])\n",
        "            labels_flat = labels.view(-1) \n",
        "            loss = loss_fn(outputs_flat, labels_flat)\n",
        "            loss.backward()\n",
        "            optimizer.step()\n",
        "            total_loss += loss.item()\n",
        "            preds = outputs.argmax(dim=2)  # shape (B, T)\n",
        "            total_correct += (preds == labels).sum().item()\n",
        "            total_samples += labels.size(0)\n",
        "            all_preds.extend(outputs.argmax(dim=1).cpu().numpy())\n",
        "            all_labels.extend(labels.cpu().numpy())\n",
        "    # TO DO ----------------------------------------------------------------------\n",
        "    metrics['loss']['train'].append(total_loss / len(dataloader_train))\n",
        "    metrics['accuracy']['train'].append(total_correct / total_samples)\n",
        "    \n",
        "\n",
        "    return metrics"
      ]
    },
    {
      "cell_type": "code",
      "execution_count": 17,
      "metadata": {
        "colab": {
          "base_uri": "https://localhost:8080/"
        },
        "id": "2KC1nYSi18PV",
        "outputId": "e60e0f2f-e0d0-453a-e462-cc747297fe71"
      },
      "outputs": [
        {
          "name": "stderr",
          "output_type": "stream",
          "text": [
            "Epochs: 100%|\u001b[32m██████████\u001b[0m| 5/5 [00:22<00:00,  4.54s/it]\n"
          ]
        },
        {
          "data": {
            "text/plain": [
              "{'loss': {'train': [1.1342116217044267], 'dev': []},\n",
              " 'accuracy': {'train': [54.48845714285714], 'dev': []}}"
            ]
          },
          "execution_count": 17,
          "metadata": {},
          "output_type": "execute_result"
        }
      ],
      "source": [
        "metrics = train_loop(model, n_epochs=5, dataloader_train=dl_train, dataloader_dev=dl_dev)\n",
        "metrics"
      ]
    },
    {
      "cell_type": "markdown",
      "metadata": {
        "id": "T9C9su31_r7F"
      },
      "source": [
        "<br><br><br><br><br><br>"
      ]
    },
    {
      "cell_type": "markdown",
      "metadata": {
        "id": "OqSMEZDK9OPY"
      },
      "source": [
        "# Part 3 - Evaluation"
      ]
    },
    {
      "cell_type": "markdown",
      "metadata": {
        "id": "baN1c_B7lTjb"
      },
      "source": [
        "\n",
        "## Step 1: Evaluation Function\n",
        "\n",
        "Write an evaluation loop for a trained model using the dev and test datasets. This function will print the `Recall`, `Precision`, and `F1` scores and plot a `Confusion Matrix`.\n",
        "\n",
        "Perform this evaluation twice:\n",
        "1. For all labels (7 labels in total).\n",
        "2. For all labels except \"O\" (6 labels in total)."
      ]
    },
    {
      "cell_type": "markdown",
      "metadata": {
        "id": "K6MhtYgh7hDO"
      },
      "source": [
        "## Metrics and Display\n",
        "\n",
        "### Metrics\n",
        "- **Recall**: True Positive Rate (TPR), also known as Recall.\n",
        "- **Precision**: The opposite of False Positive Rate (FPR), also known as Precision.\n",
        "- **F1 Score**: The harmonic mean of Precision and Recall.\n",
        "\n",
        "*Note*: For all these metrics, use **weighted** averaging:\n",
        "Calculate metrics for each label, and find their average weighted by support. Refer to the [sklearn documentation](https://scikit-learn.org/stable/modules/generated/sklearn.metrics.precision_recall_fscore_support.html#sklearn.metrics.precision_recall_fscore_support) for more details.\n",
        "\n",
        "### Display\n",
        "1. Print the `Recall`, `Precision`, and `F1` scores in a tabulated format.\n",
        "2. Display a `Confusion Matrix` plot:\n",
        "    - Rows represent the predicted labels.\n",
        "    - Columns represent the true labels.\n",
        "    - Include a title for the plot, axis names, and the names of the tags on the X-axis."
      ]
    },
    {
      "cell_type": "code",
      "execution_count": 18,
      "metadata": {
        "id": "iyQAjGaqmd8U"
      },
      "outputs": [],
      "source": [
        "def evaluate(model: NERNet, title: str, dataloader: DataLoader, vocab: Vocab):\n",
        "    model.eval()\n",
        "    all_preds = []\n",
        "    all_labels = []\n",
        "    \n",
        "    with th.no_grad():\n",
        "        for batch in dataloader:\n",
        "            inputs, labels = batch\n",
        "            inputs = inputs.to(DEVICE)\n",
        "            labels = labels.to(DEVICE)\n",
        "            \n",
        "            outputs = model(inputs)\n",
        "            preds = outputs.argmax(dim=2)\n",
        "            # Remove padding tokens\n",
        "            non_pad_mask = inputs.cpu().numpy() != PAD_TOKEN\n",
        "\n",
        "            preds = preds[non_pad_mask]\n",
        "            labels = labels[non_pad_mask]\n",
        "            \n",
        "            all_preds.extend(preds.cpu().numpy().flatten())\n",
        "            all_labels.extend(labels.cpu().numpy().flatten())\n",
        "    \n",
        "    # Convert to numpy arrays\n",
        "    all_preds = np.array(all_preds).tolist()\n",
        "    all_labels = np.array(all_labels).tolist()\n",
        "    \n",
        "    # Calculate metrics for all labels\n",
        "    precision, recall, f1, _ = precision_recall_fscore_support(all_labels, all_preds, average='weighted')\n",
        "    \n",
        "    non_1_mask = [label != 1 for label in all_labels]\n",
        "    all_labels_wo_o = [label for label, mask in zip(all_labels, non_1_mask) if mask]\n",
        "    all_preds_wo_o = [pred for pred, mask in zip(all_preds, non_1_mask) if mask]\n",
        "    precision_wo_o, recall_wo_o, f1_wo_o, _ = precision_recall_fscore_support(all_labels_wo_o, all_preds_wo_o,average='weighted')\n",
        "    \n",
        "    \n",
        "    return {\n",
        "        'precision': precision,\n",
        "        'recall': recall,\n",
        "        'f1': f1,\n",
        "        'precision_wo_o': precision_wo_o,\n",
        "        'recall_wo_o': recall_wo_o,\n",
        "        'f1_wo_o': f1_wo_o\n",
        "    }"
      ]
    },
    {
      "cell_type": "markdown",
      "metadata": {
        "id": "trn5-50FyGoF"
      },
      "source": [
        "## Step 2: Train & Evaluate on Dev Set"
      ]
    },
    {
      "cell_type": "markdown",
      "metadata": {
        "id": "LQSXqWNOmqG4"
      },
      "source": [
        "Train and evaluate (on the dev set) a few models, all with `embedding_size=300` and `N_EPOCHS=5` (for fairness and computational reasons), and with the following hyper parameters (you may use that as captions for the models as well):\n",
        "\n",
        "- Model 1: (hidden_size: 500, n_layers: 1, directions: 1)\n",
        "- Model 2: (hidden_size: 500, n_layers: 2, directions: 1)\n",
        "- Model 3: (hidden_size: 500, n_layers: 3, directions: 1)\n",
        "- Model 4: (hidden_size: 500, n_layers: 1, directions: 2)\n",
        "- Model 5: (hidden_size: 500, n_layers: 2, directions: 2)\n",
        "- Model 6: (hidden_size: 500, n_layers: 3, directions: 2)\n",
        "- Model 7: (hidden_size: 800, n_layers: 1, directions: 2)\n",
        "- Model 8: (hidden_size: 800, n_layers: 2, directions: 2)\n",
        "- Model 9: (hidden_size: 800, n_layers: 3, directions: 2)\n",
        "\n",
        "\n"
      ]
    },
    {
      "cell_type": "code",
      "execution_count": 19,
      "metadata": {
        "id": "U3RcWmNAsoTj"
      },
      "outputs": [],
      "source": [
        "N_EPOCHS = 5\n",
        "EMB_DIM = 300"
      ]
    },
    {
      "cell_type": "markdown",
      "metadata": {
        "id": "OCaaeKV2CZF-"
      },
      "source": [
        "Here is an example (random numbers) of the display of the results):"
      ]
    },
    {
      "cell_type": "code",
      "execution_count": 20,
      "metadata": {
        "colab": {
          "base_uri": "https://localhost:8080/"
        },
        "id": "Im49dRJeCjdv",
        "outputId": "ab1ac65b-bd21-441a-9058-d4704d66daef"
      },
      "outputs": [
        {
          "name": "stdout",
          "output_type": "stream",
          "text": [
            "+----+-----------+---------------+------------+--------------+----------+-------------+--------+---------------+------------------+-----------+\n",
            "|    | N_MODEL   |   HIDDEN_SIZE |   N_LAYERS |   DIRECTIONS |   RECALL |   PERCISION |     F1 |   RECALL_WO_O |   PERCISION_WO_O |   F1_WO_O |\n",
            "|----+-----------+---------------+------------+--------------+----------+-------------+--------+---------------+------------------+-----------|\n",
            "|  0 | model_1   |        0.9507 |     0.7320 |       0.5987 |   0.1560 |      0.1560 | 0.0581 |        0.8662 |           0.6011 |    0.7081 |\n",
            "|  1 | model_2   |        0.9699 |     0.8324 |       0.2123 |   0.1818 |      0.1834 | 0.3042 |        0.5248 |           0.4319 |    0.2912 |\n",
            "|  2 | model_3   |        0.1395 |     0.2921 |       0.3664 |   0.4561 |      0.7852 | 0.1997 |        0.5142 |           0.5924 |    0.0465 |\n",
            "|  3 | model_4   |        0.1705 |     0.0651 |       0.9489 |   0.9656 |      0.8084 | 0.3046 |        0.0977 |           0.6842 |    0.4402 |\n",
            "|  4 | model_5   |        0.4952 |     0.0344 |       0.9093 |   0.2588 |      0.6625 | 0.3117 |        0.5201 |           0.5467 |    0.1849 |\n",
            "|  5 | model_6   |        0.7751 |     0.9395 |       0.8948 |   0.5979 |      0.9219 | 0.0885 |        0.1960 |           0.0452 |    0.3253 |\n",
            "|  6 | model_7   |        0.2713 |     0.8287 |       0.3568 |   0.2809 |      0.5427 | 0.1409 |        0.8022 |           0.0746 |    0.9869 |\n",
            "|  7 | model_8   |        0.1987 |     0.0055 |       0.8155 |   0.7069 |      0.7290 | 0.7713 |        0.0740 |           0.3585 |    0.1159 |\n",
            "|  8 | model_9   |        0.6233 |     0.3309 |       0.0636 |   0.3110 |      0.3252 | 0.7296 |        0.6376 |           0.8872 |    0.4722 |\n",
            "+----+-----------+---------------+------------+--------------+----------+-------------+--------+---------------+------------------+-----------+\n"
          ]
        }
      ],
      "source": [
        "# Example:\n",
        "results_acc = np.random.rand(9, 10)\n",
        "columns = ['N_MODEL','HIDDEN_SIZE','N_LAYERS','DIRECTIONS','RECALL','PERCISION','F1','RECALL_WO_O','PERCISION_WO_O','F1_WO_O']\n",
        "df = pd.DataFrame(results_acc, columns=columns)\n",
        "df.N_MODEL = [f'model_{n}' for n in range(1,10)]\n",
        "print(tabulate(df, headers='keys', tablefmt='psql',floatfmt=\".4f\"))"
      ]
    },
    {
      "cell_type": "code",
      "execution_count": 21,
      "metadata": {
        "colab": {
          "base_uri": "https://localhost:8080/",
          "height": 1000
        },
        "id": "MWJREQ236dzV",
        "outputId": "324df2e8-f677-4235-fb61-50724ddf0ef5"
      },
      "outputs": [],
      "source": [
        "# # Define models with their hyperparameters\n",
        "# models = {\n",
        "#     'Model1': {'embedding_size': EMB_DIM, 'hidden_size': 500, 'n_layers': 1, 'directions': 1},\n",
        "#     'Model2': {'embedding_size': EMB_DIM, 'hidden_size': 500, 'n_layers': 2, 'directions': 1},\n",
        "#     # 'Model3': {'embedding_size': EMB_DIM, 'hidden_size': 500, 'n_layers': 3, 'directions': 1},\n",
        "#     'Model4': {'embedding_size': EMB_DIM, 'hidden_size': 500, 'n_layers': 1, 'directions': 2},\n",
        "#     # 'Model5': {'embedding_size': EMB_DIM, 'hidden_size': 500, 'n_layers': 2, 'directions': 2},\n",
        "#     # 'Model6': {'embedding_size': EMB_DIM, 'hidden_size': 500, 'n_layers': 3, 'directions': 2},\n",
        "#     # 'Model7': {'embedding_size': EMB_DIM, 'hidden_size': 800, 'n_layers': 1, 'directions': 2},\n",
        "#     # 'Model8': {'embedding_size': EMB_DIM, 'hidden_size': 800, 'n_layers': 2, 'directions': 2},\n",
        "#     # 'Model9': {'embedding_size': EMB_DIM, 'hidden_size': 800, 'n_layers': 3, 'directions': 2},\n",
        "# }\n",
        "\n",
        "# # TO DO ----------------------------------------------------------------------\n",
        "# results_dev = []\n",
        "\n",
        "# for model_name, model_params in models.items():\n",
        "#     print(f\"\\n🚀 Training {model_name}\")\n",
        "#     model = NERNet(**model_params, input_size=vocab.n_words, output_size=vocab.n_tags)\n",
        "#     model.to(DEVICE)\n",
        "    \n",
        "#     train_loop(model, n_epochs=N_EPOCHS, dataloader_train=dl_train, dataloader_dev=dl_dev)\n",
        "#     eval_result = evaluate(model, model_name, dl_dev, vocab)\n",
        "\n",
        "#     # Store flat summary\n",
        "#     summary = {\n",
        "#         'N_MODEL': model_name,\n",
        "#         'HIDDEN_SIZE': model_params['hidden_size'],\n",
        "#         'N_LAYERS': model_params['n_layers'],\n",
        "#         'DIRECTIONS': model_params['directions'],\n",
        "#         'PRECISION': eval_result['precision'],\n",
        "#         'RECALL': eval_result['recall'],\n",
        "#         'F1': eval_result['f1'],\n",
        "#         'RECALL_WO_O': eval_result['recall_wo_o'],\n",
        "#         'PRECISION_WO_O': eval_result['precision_wo_o'],\n",
        "#         'F1_WO_O': eval_result['f1_wo_o'],\n",
        "#     }\n",
        "#     results_dev.append(summary)\n",
        "\n",
        "# # TO DO ----------------------------------------------------------------------\n",
        "\n",
        "# # Print results in tabulated format\n",
        "# print(tabulate(results_dev, headers='keys', tablefmt='psql', floatfmt=\".4f\"))"
      ]
    },
    {
      "cell_type": "markdown",
      "metadata": {
        "id": "U4o5joZgA1YE"
      },
      "source": [
        "## Step 3: Evaluate on Test Set\n",
        "Evaluate your models on the test set and save the results as a CSV. Add this file to your repo for submission."
      ]
    },
    {
      "cell_type": "code",
      "execution_count": 22,
      "metadata": {
        "colab": {
          "base_uri": "https://localhost:8080/",
          "height": 1000
        },
        "id": "gTNmBU6hycZl",
        "outputId": "927f1a50-7c13-4239-efa3-44010dc32eb1"
      },
      "outputs": [
        {
          "name": "stdout",
          "output_type": "stream",
          "text": [
            "\n",
            "🚀 Training Model1\n"
          ]
        },
        {
          "name": "stderr",
          "output_type": "stream",
          "text": [
            "Epochs: 100%|\u001b[32m██████████\u001b[0m| 5/5 [00:06<00:00,  1.30s/it]\n",
            "/Users/galdavidi/Documents/school/nlp/nlp-ex2/.venv/lib/python3.11/site-packages/sklearn/metrics/_classification.py:1706: UndefinedMetricWarning: Precision is ill-defined and being set to 0.0 in labels with no predicted samples. Use `zero_division` parameter to control this behavior.\n",
            "  _warn_prf(average, modifier, f\"{metric.capitalize()} is\", result.shape[0])\n",
            "/Users/galdavidi/Documents/school/nlp/nlp-ex2/.venv/lib/python3.11/site-packages/sklearn/metrics/_classification.py:1706: UndefinedMetricWarning: Precision is ill-defined and being set to 0.0 in labels with no predicted samples. Use `zero_division` parameter to control this behavior.\n",
            "  _warn_prf(average, modifier, f\"{metric.capitalize()} is\", result.shape[0])\n",
            "/Users/galdavidi/Documents/school/nlp/nlp-ex2/.venv/lib/python3.11/site-packages/sklearn/metrics/_classification.py:1706: UndefinedMetricWarning: Recall is ill-defined and being set to 0.0 in labels with no true samples. Use `zero_division` parameter to control this behavior.\n",
            "  _warn_prf(average, modifier, f\"{metric.capitalize()} is\", result.shape[0])\n"
          ]
        },
        {
          "name": "stdout",
          "output_type": "stream",
          "text": [
            "\n",
            "🚀 Training Model2\n"
          ]
        },
        {
          "name": "stderr",
          "output_type": "stream",
          "text": [
            "Epochs: 100%|\u001b[32m██████████\u001b[0m| 5/5 [00:11<00:00,  2.22s/it]\n",
            "/Users/galdavidi/Documents/school/nlp/nlp-ex2/.venv/lib/python3.11/site-packages/sklearn/metrics/_classification.py:1706: UndefinedMetricWarning: Precision is ill-defined and being set to 0.0 in labels with no predicted samples. Use `zero_division` parameter to control this behavior.\n",
            "  _warn_prf(average, modifier, f\"{metric.capitalize()} is\", result.shape[0])\n",
            "/Users/galdavidi/Documents/school/nlp/nlp-ex2/.venv/lib/python3.11/site-packages/sklearn/metrics/_classification.py:1706: UndefinedMetricWarning: Precision is ill-defined and being set to 0.0 in labels with no predicted samples. Use `zero_division` parameter to control this behavior.\n",
            "  _warn_prf(average, modifier, f\"{metric.capitalize()} is\", result.shape[0])\n",
            "/Users/galdavidi/Documents/school/nlp/nlp-ex2/.venv/lib/python3.11/site-packages/sklearn/metrics/_classification.py:1706: UndefinedMetricWarning: Recall is ill-defined and being set to 0.0 in labels with no true samples. Use `zero_division` parameter to control this behavior.\n",
            "  _warn_prf(average, modifier, f\"{metric.capitalize()} is\", result.shape[0])\n"
          ]
        },
        {
          "name": "stdout",
          "output_type": "stream",
          "text": [
            "\n",
            "🚀 Training Model3\n"
          ]
        },
        {
          "name": "stderr",
          "output_type": "stream",
          "text": [
            "Epochs: 100%|\u001b[32m██████████\u001b[0m| 5/5 [00:15<00:00,  3.08s/it]\n",
            "/Users/galdavidi/Documents/school/nlp/nlp-ex2/.venv/lib/python3.11/site-packages/sklearn/metrics/_classification.py:1706: UndefinedMetricWarning: Precision is ill-defined and being set to 0.0 in labels with no predicted samples. Use `zero_division` parameter to control this behavior.\n",
            "  _warn_prf(average, modifier, f\"{metric.capitalize()} is\", result.shape[0])\n",
            "/Users/galdavidi/Documents/school/nlp/nlp-ex2/.venv/lib/python3.11/site-packages/sklearn/metrics/_classification.py:1706: UndefinedMetricWarning: Precision is ill-defined and being set to 0.0 in labels with no predicted samples. Use `zero_division` parameter to control this behavior.\n",
            "  _warn_prf(average, modifier, f\"{metric.capitalize()} is\", result.shape[0])\n",
            "/Users/galdavidi/Documents/school/nlp/nlp-ex2/.venv/lib/python3.11/site-packages/sklearn/metrics/_classification.py:1706: UndefinedMetricWarning: Recall is ill-defined and being set to 0.0 in labels with no true samples. Use `zero_division` parameter to control this behavior.\n",
            "  _warn_prf(average, modifier, f\"{metric.capitalize()} is\", result.shape[0])\n"
          ]
        },
        {
          "name": "stdout",
          "output_type": "stream",
          "text": [
            "\n",
            "🚀 Training Model4\n"
          ]
        },
        {
          "name": "stderr",
          "output_type": "stream",
          "text": [
            "Epochs: 100%|\u001b[32m██████████\u001b[0m| 5/5 [00:11<00:00,  2.35s/it]\n",
            "/Users/galdavidi/Documents/school/nlp/nlp-ex2/.venv/lib/python3.11/site-packages/sklearn/metrics/_classification.py:1706: UndefinedMetricWarning: Precision is ill-defined and being set to 0.0 in labels with no predicted samples. Use `zero_division` parameter to control this behavior.\n",
            "  _warn_prf(average, modifier, f\"{metric.capitalize()} is\", result.shape[0])\n",
            "/Users/galdavidi/Documents/school/nlp/nlp-ex2/.venv/lib/python3.11/site-packages/sklearn/metrics/_classification.py:1706: UndefinedMetricWarning: Precision is ill-defined and being set to 0.0 in labels with no predicted samples. Use `zero_division` parameter to control this behavior.\n",
            "  _warn_prf(average, modifier, f\"{metric.capitalize()} is\", result.shape[0])\n",
            "/Users/galdavidi/Documents/school/nlp/nlp-ex2/.venv/lib/python3.11/site-packages/sklearn/metrics/_classification.py:1706: UndefinedMetricWarning: Recall is ill-defined and being set to 0.0 in labels with no true samples. Use `zero_division` parameter to control this behavior.\n",
            "  _warn_prf(average, modifier, f\"{metric.capitalize()} is\", result.shape[0])\n"
          ]
        },
        {
          "name": "stdout",
          "output_type": "stream",
          "text": [
            "\n",
            "🚀 Training Model5\n"
          ]
        },
        {
          "name": "stderr",
          "output_type": "stream",
          "text": [
            "Epochs: 100%|\u001b[32m██████████\u001b[0m| 5/5 [00:23<00:00,  4.73s/it]\n",
            "/Users/galdavidi/Documents/school/nlp/nlp-ex2/.venv/lib/python3.11/site-packages/sklearn/metrics/_classification.py:1706: UndefinedMetricWarning: Precision is ill-defined and being set to 0.0 in labels with no predicted samples. Use `zero_division` parameter to control this behavior.\n",
            "  _warn_prf(average, modifier, f\"{metric.capitalize()} is\", result.shape[0])\n",
            "/Users/galdavidi/Documents/school/nlp/nlp-ex2/.venv/lib/python3.11/site-packages/sklearn/metrics/_classification.py:1706: UndefinedMetricWarning: Precision is ill-defined and being set to 0.0 in labels with no predicted samples. Use `zero_division` parameter to control this behavior.\n",
            "  _warn_prf(average, modifier, f\"{metric.capitalize()} is\", result.shape[0])\n",
            "/Users/galdavidi/Documents/school/nlp/nlp-ex2/.venv/lib/python3.11/site-packages/sklearn/metrics/_classification.py:1706: UndefinedMetricWarning: Recall is ill-defined and being set to 0.0 in labels with no true samples. Use `zero_division` parameter to control this behavior.\n",
            "  _warn_prf(average, modifier, f\"{metric.capitalize()} is\", result.shape[0])\n"
          ]
        },
        {
          "name": "stdout",
          "output_type": "stream",
          "text": [
            "\n",
            "🚀 Training Model6\n"
          ]
        },
        {
          "name": "stderr",
          "output_type": "stream",
          "text": [
            "Epochs: 100%|\u001b[32m██████████\u001b[0m| 5/5 [00:35<00:00,  7.12s/it]\n",
            "/Users/galdavidi/Documents/school/nlp/nlp-ex2/.venv/lib/python3.11/site-packages/sklearn/metrics/_classification.py:1706: UndefinedMetricWarning: Precision is ill-defined and being set to 0.0 in labels with no predicted samples. Use `zero_division` parameter to control this behavior.\n",
            "  _warn_prf(average, modifier, f\"{metric.capitalize()} is\", result.shape[0])\n",
            "/Users/galdavidi/Documents/school/nlp/nlp-ex2/.venv/lib/python3.11/site-packages/sklearn/metrics/_classification.py:1706: UndefinedMetricWarning: Precision is ill-defined and being set to 0.0 in labels with no predicted samples. Use `zero_division` parameter to control this behavior.\n",
            "  _warn_prf(average, modifier, f\"{metric.capitalize()} is\", result.shape[0])\n",
            "/Users/galdavidi/Documents/school/nlp/nlp-ex2/.venv/lib/python3.11/site-packages/sklearn/metrics/_classification.py:1706: UndefinedMetricWarning: Recall is ill-defined and being set to 0.0 in labels with no true samples. Use `zero_division` parameter to control this behavior.\n",
            "  _warn_prf(average, modifier, f\"{metric.capitalize()} is\", result.shape[0])\n"
          ]
        },
        {
          "name": "stdout",
          "output_type": "stream",
          "text": [
            "\n",
            "🚀 Training Model7\n"
          ]
        },
        {
          "name": "stderr",
          "output_type": "stream",
          "text": [
            "Epochs: 100%|\u001b[32m██████████\u001b[0m| 5/5 [00:22<00:00,  4.51s/it]\n",
            "/Users/galdavidi/Documents/school/nlp/nlp-ex2/.venv/lib/python3.11/site-packages/sklearn/metrics/_classification.py:1706: UndefinedMetricWarning: Precision is ill-defined and being set to 0.0 in labels with no predicted samples. Use `zero_division` parameter to control this behavior.\n",
            "  _warn_prf(average, modifier, f\"{metric.capitalize()} is\", result.shape[0])\n",
            "/Users/galdavidi/Documents/school/nlp/nlp-ex2/.venv/lib/python3.11/site-packages/sklearn/metrics/_classification.py:1706: UndefinedMetricWarning: Precision is ill-defined and being set to 0.0 in labels with no predicted samples. Use `zero_division` parameter to control this behavior.\n",
            "  _warn_prf(average, modifier, f\"{metric.capitalize()} is\", result.shape[0])\n",
            "/Users/galdavidi/Documents/school/nlp/nlp-ex2/.venv/lib/python3.11/site-packages/sklearn/metrics/_classification.py:1706: UndefinedMetricWarning: Recall is ill-defined and being set to 0.0 in labels with no true samples. Use `zero_division` parameter to control this behavior.\n",
            "  _warn_prf(average, modifier, f\"{metric.capitalize()} is\", result.shape[0])\n"
          ]
        },
        {
          "name": "stdout",
          "output_type": "stream",
          "text": [
            "\n",
            "🚀 Training Model8\n"
          ]
        },
        {
          "name": "stderr",
          "output_type": "stream",
          "text": [
            "Epochs: 100%|\u001b[32m██████████\u001b[0m| 5/5 [00:50<00:00, 10.16s/it]\n",
            "/Users/galdavidi/Documents/school/nlp/nlp-ex2/.venv/lib/python3.11/site-packages/sklearn/metrics/_classification.py:1706: UndefinedMetricWarning: Precision is ill-defined and being set to 0.0 in labels with no predicted samples. Use `zero_division` parameter to control this behavior.\n",
            "  _warn_prf(average, modifier, f\"{metric.capitalize()} is\", result.shape[0])\n",
            "/Users/galdavidi/Documents/school/nlp/nlp-ex2/.venv/lib/python3.11/site-packages/sklearn/metrics/_classification.py:1706: UndefinedMetricWarning: Precision is ill-defined and being set to 0.0 in labels with no predicted samples. Use `zero_division` parameter to control this behavior.\n",
            "  _warn_prf(average, modifier, f\"{metric.capitalize()} is\", result.shape[0])\n",
            "/Users/galdavidi/Documents/school/nlp/nlp-ex2/.venv/lib/python3.11/site-packages/sklearn/metrics/_classification.py:1706: UndefinedMetricWarning: Recall is ill-defined and being set to 0.0 in labels with no true samples. Use `zero_division` parameter to control this behavior.\n",
            "  _warn_prf(average, modifier, f\"{metric.capitalize()} is\", result.shape[0])\n"
          ]
        },
        {
          "name": "stdout",
          "output_type": "stream",
          "text": [
            "\n",
            "🚀 Training Model9\n"
          ]
        },
        {
          "name": "stderr",
          "output_type": "stream",
          "text": [
            "Epochs: 100%|\u001b[32m██████████\u001b[0m| 5/5 [01:19<00:00, 15.82s/it]\n"
          ]
        },
        {
          "name": "stdout",
          "output_type": "stream",
          "text": [
            "+----+-----------+---------------+------------+--------------+----------+-------------+--------+---------------+------------------+-----------+\n",
            "|    | N_MODEL   |   HIDDEN_SIZE |   N_LAYERS |   DIRECTIONS |   RECALL |   PERCISION |     F1 |   RECALL_WO_O |   PERCISION_WO_O |   F1_WO_O |\n",
            "|----+-----------+---------------+------------+--------------+----------+-------------+--------+---------------+------------------+-----------|\n",
            "|  0 | Model1    |           500 |          1 |            1 |   0.7972 |      0.6728 | 0.7080 |        0.0030 |           0.2158 |    0.0059 |\n",
            "|  1 | Model2    |           500 |          2 |            1 |   0.7967 |      0.6347 | 0.7065 |        0.0000 |           0.0000 |    0.0000 |\n",
            "|  2 | Model3    |           500 |          3 |            1 |   0.7967 |      0.6347 | 0.7065 |        0.0000 |           0.0000 |    0.0000 |\n",
            "|  3 | Model4    |           500 |          1 |            2 |   0.8021 |      0.7067 | 0.7197 |        0.0268 |           0.3276 |    0.0485 |\n",
            "|  4 | Model5    |           500 |          2 |            2 |   0.8046 |      0.7044 | 0.7338 |        0.0591 |           0.3124 |    0.0993 |\n",
            "|  5 | Model6    |           500 |          3 |            2 |   0.8013 |      0.6988 | 0.7336 |        0.0621 |           0.2950 |    0.1014 |\n",
            "|  6 | Model7    |           800 |          1 |            2 |   0.8405 |      0.7701 | 0.7918 |        0.2220 |           0.4717 |    0.3014 |\n",
            "|  7 | Model8    |           800 |          2 |            2 |   0.8527 |      0.7949 | 0.8125 |        0.2822 |           0.5129 |    0.3582 |\n",
            "|  8 | Model9    |           800 |          3 |            2 |   0.8612 |      0.8078 | 0.8302 |        0.3586 |           0.4767 |    0.4018 |\n",
            "+----+-----------+---------------+------------+--------------+----------+-------------+--------+---------------+------------------+-----------+\n"
          ]
        },
        {
          "name": "stderr",
          "output_type": "stream",
          "text": [
            "/Users/galdavidi/Documents/school/nlp/nlp-ex2/.venv/lib/python3.11/site-packages/sklearn/metrics/_classification.py:1706: UndefinedMetricWarning: Precision is ill-defined and being set to 0.0 in labels with no predicted samples. Use `zero_division` parameter to control this behavior.\n",
            "  _warn_prf(average, modifier, f\"{metric.capitalize()} is\", result.shape[0])\n",
            "/Users/galdavidi/Documents/school/nlp/nlp-ex2/.venv/lib/python3.11/site-packages/sklearn/metrics/_classification.py:1706: UndefinedMetricWarning: Precision is ill-defined and being set to 0.0 in labels with no predicted samples. Use `zero_division` parameter to control this behavior.\n",
            "  _warn_prf(average, modifier, f\"{metric.capitalize()} is\", result.shape[0])\n",
            "/Users/galdavidi/Documents/school/nlp/nlp-ex2/.venv/lib/python3.11/site-packages/sklearn/metrics/_classification.py:1706: UndefinedMetricWarning: Recall is ill-defined and being set to 0.0 in labels with no true samples. Use `zero_division` parameter to control this behavior.\n",
            "  _warn_prf(average, modifier, f\"{metric.capitalize()} is\", result.shape[0])\n"
          ]
        }
      ],
      "source": [
        "results = pd.DataFrame(columns=columns)\n",
        "file_name = \"NER_results.csv\"\n",
        "# TO DO ----------------------------------------------------------------------\n",
        "models = {\n",
        "    'Model1': {'embedding_size': EMB_DIM, 'hidden_size': 500, 'n_layers': 1, 'directions': 1},\n",
        "    'Model2': {'embedding_size': EMB_DIM, 'hidden_size': 500, 'n_layers': 2, 'directions': 1},\n",
        "    'Model3': {'embedding_size': EMB_DIM, 'hidden_size': 500, 'n_layers': 3, 'directions': 1},\n",
        "    'Model4': {'embedding_size': EMB_DIM, 'hidden_size': 500, 'n_layers': 1, 'directions': 2},\n",
        "    'Model5': {'embedding_size': EMB_DIM, 'hidden_size': 500, 'n_layers': 2, 'directions': 2},\n",
        "    'Model6': {'embedding_size': EMB_DIM, 'hidden_size': 500, 'n_layers': 3, 'directions': 2},\n",
        "    'Model7': {'embedding_size': EMB_DIM, 'hidden_size': 800, 'n_layers': 1, 'directions': 2},\n",
        "    'Model8': {'embedding_size': EMB_DIM, 'hidden_size': 800, 'n_layers': 2, 'directions': 2},\n",
        "    'Model9': {'embedding_size': EMB_DIM, 'hidden_size': 800, 'n_layers': 3, 'directions': 2},\n",
        "}\n",
        "\n",
        "# TO DO ----------------------------------------------------------------------\n",
        "results_test = []\n",
        "\n",
        "for model_name, model_params in models.items():\n",
        "    print(f\"\\n🚀 Training {model_name}\")\n",
        "    model = NERNet(**model_params, input_size=vocab.n_words, output_size=vocab.n_tags)\n",
        "    model.to(DEVICE)\n",
        "    \n",
        "    train_loop(model, n_epochs=N_EPOCHS, dataloader_train=dl_train,dataloader_dev=dl_dev)\n",
        "    eval_result = evaluate(model, model_name, dl_test, vocab)\n",
        "\n",
        "    # Store flat summary\n",
        "    summary = {\n",
        "        'N_MODEL': model_name,\n",
        "        'HIDDEN_SIZE': model_params['hidden_size'],\n",
        "        'N_LAYERS': model_params['n_layers'],\n",
        "        'DIRECTIONS': model_params['directions'],\n",
        "        'PERCISION': eval_result['precision'],\n",
        "        'RECALL': eval_result['recall'],\n",
        "        'F1': eval_result['f1'],\n",
        "        'RECALL_WO_O': eval_result['recall_wo_o'],\n",
        "        'PERCISION_WO_O': eval_result['precision_wo_o'],\n",
        "        'F1_WO_O': eval_result['f1_wo_o'],\n",
        "    }\n",
        "    results_test.append(summary)\n",
        "# TO DO ----------------------------------------------------------------------\n",
        "df = pd.DataFrame(results_test, columns=columns)\n",
        "df.to_csv(file_name, index=False)\n",
        "print(tabulate(df, headers='keys', tablefmt='psql',floatfmt=\".4f\"))\n"
      ]
    },
    {
      "cell_type": "markdown",
      "metadata": {
        "id": "8Y4U4eHmShw8"
      },
      "source": [
        "## Step 4 - best model\n",
        "Decide which model performs the best, write its configuration, train it for 5 more epochs and evaluate it on the test set."
      ]
    },
    {
      "cell_type": "code",
      "execution_count": 23,
      "metadata": {
        "colab": {
          "base_uri": "https://localhost:8080/",
          "height": 1000
        },
        "id": "M3TnKYqmSvds",
        "outputId": "96a3fd41-c10c-466c-b685-a37896f68c8a"
      },
      "outputs": [
        {
          "name": "stderr",
          "output_type": "stream",
          "text": [
            "Epochs: 100%|\u001b[32m██████████\u001b[0m| 10/10 [01:44<00:00, 10.41s/it]\n",
            "/Users/galdavidi/Documents/school/nlp/nlp-ex2/.venv/lib/python3.11/site-packages/sklearn/metrics/_classification.py:1706: UndefinedMetricWarning: Precision is ill-defined and being set to 0.0 in labels with no predicted samples. Use `zero_division` parameter to control this behavior.\n",
            "  _warn_prf(average, modifier, f\"{metric.capitalize()} is\", result.shape[0])\n",
            "/Users/galdavidi/Documents/school/nlp/nlp-ex2/.venv/lib/python3.11/site-packages/sklearn/metrics/_classification.py:1706: UndefinedMetricWarning: Precision is ill-defined and being set to 0.0 in labels with no predicted samples. Use `zero_division` parameter to control this behavior.\n",
            "  _warn_prf(average, modifier, f\"{metric.capitalize()} is\", result.shape[0])\n",
            "/Users/galdavidi/Documents/school/nlp/nlp-ex2/.venv/lib/python3.11/site-packages/sklearn/metrics/_classification.py:1706: UndefinedMetricWarning: Recall is ill-defined and being set to 0.0 in labels with no true samples. Use `zero_division` parameter to control this behavior.\n",
            "  _warn_prf(average, modifier, f\"{metric.capitalize()} is\", result.shape[0])\n"
          ]
        }
      ],
      "source": [
        "best_model_cfg = {'embedding_size':EMB_DIM, 'hidden_size': 800, 'n_layers': 2, 'directions': 2}\n",
        "# TO DO ----------------------------------------------------------------------\n",
        "model = NERNet(**best_model_cfg, input_size=vocab.n_words, output_size=vocab.n_tags)\n",
        "model.to(DEVICE)\n",
        "train_loop(model, n_epochs=10, dataloader_train=dl_train, dataloader_dev=dl_dev)\n",
        "eval_result = evaluate(model, \"best_model\", dl_test, vocab)\n",
        "# TO DO ----------------------------------------------------------------------"
      ]
    },
    {
      "cell_type": "markdown",
      "metadata": {
        "id": "rsCfk8caB3iU"
      },
      "source": [
        "<br><br><br><br><br>"
      ]
    },
    {
      "cell_type": "markdown",
      "metadata": {
        "id": "nF_jrCkpCVUD"
      },
      "source": [
        "# Part 4 - Pretrained Embeddings"
      ]
    },
    {
      "cell_type": "markdown",
      "metadata": {
        "id": "UM74r0_8nk5s"
      },
      "source": [
        "\n",
        "\n",
        "To prepare for this task, please read [this discussion](https://discuss.pytorch.org/t/can-we-use-pre-trained-word-embeddings-for-weight-initialization-in-nn-embedding/1222).\n",
        "\n",
        "**TIP**: Ensure that the vectors are aligned with the IDs in your vocabulary. In other words, make sure that the word with ID 0 corresponds to the first vector in the GloVe matrix used to initialize `nn.Embedding`.\n",
        "\n"
      ]
    },
    {
      "cell_type": "markdown",
      "metadata": {
        "id": "A6rrSb-bFoTa"
      },
      "source": [
        "## Step 1: Get Data"
      ]
    },
    {
      "cell_type": "markdown",
      "metadata": {
        "id": "dscQwqxvBP5-"
      },
      "source": [
        "\n",
        "\n",
        "Download the GloVe embeddings from [this link](https://nlp.stanford.edu/projects/glove/). Use the 300-dimensional vectors from `glove.6B.zip`.\n",
        "\n"
      ]
    },
    {
      "cell_type": "code",
      "execution_count": 24,
      "metadata": {
        "colab": {
          "base_uri": "https://localhost:8080/"
        },
        "id": "gbY3bBiH_9E8",
        "outputId": "60134955-2398-4cce-d3bd-e67a784a13cb"
      },
      "outputs": [],
      "source": [
        "# TO DO ----------------------------------------------------------------------\n",
        "\n",
        "# TO DO ----------------------------------------------------------------------"
      ]
    },
    {
      "cell_type": "markdown",
      "metadata": {
        "id": "eBLEK9R3Fxye"
      },
      "source": [
        "## Step 2: Inject Embeddings"
      ]
    },
    {
      "cell_type": "markdown",
      "metadata": {
        "id": "xH8ybhqY_8US"
      },
      "source": [
        "Then intialize the `nn.Embedding` module in your `NERNet` with these embeddings, so that you can start your training with pre-trained vectors."
      ]
    },
    {
      "cell_type": "code",
      "execution_count": 25,
      "metadata": {
        "id": "OXSEIjfe9DSy"
      },
      "outputs": [],
      "source": [
        "def get_emb_matrix(filepath: str, vocab: Vocab) -> np.ndarray:\n",
        "    emb_matrix = np.zeros((len(vocab.word2id), 300))\n",
        "    # TO DO ----------------------------------------------------------------------\n",
        "\n",
        "    # TO DO ----------------------------------------------------------------------\n",
        "    return emb_matrix"
      ]
    },
    {
      "cell_type": "code",
      "execution_count": 26,
      "metadata": {
        "id": "I56mqREnVRey"
      },
      "outputs": [],
      "source": [
        "def initialize_from_pretrained_emb(model: NERNet, emb_matrix: np.ndarray):\n",
        "    \"\"\"\n",
        "    Inject the pretrained embeddings into the model.\n",
        "    :param model: model instance\n",
        "    :param emb_matrix: pretrained embeddings\n",
        "    \"\"\"\n",
        "    # TO DO ----------------------------------------------------------------------\n",
        "\n",
        "    # TO DO ----------------------------------------------------------------------"
      ]
    },
    {
      "cell_type": "code",
      "execution_count": 27,
      "metadata": {
        "id": "lf0byP9y_9jG"
      },
      "outputs": [
        {
          "ename": "NameError",
          "evalue": "name 'VOCAB_SIZE' is not defined",
          "output_type": "error",
          "traceback": [
            "\u001b[31m---------------------------------------------------------------------------\u001b[39m",
            "\u001b[31mNameError\u001b[39m                                 Traceback (most recent call last)",
            "\u001b[36mCell\u001b[39m\u001b[36m \u001b[39m\u001b[32mIn[27]\u001b[39m\u001b[32m, line 4\u001b[39m\n\u001b[32m      2\u001b[39m emb_file = \u001b[33m'\u001b[39m\u001b[33mglove.6B.300d.txt\u001b[39m\u001b[33m'\u001b[39m\n\u001b[32m      3\u001b[39m emb_matrix = get_emb_matrix(emb_file, vocab)\n\u001b[32m----> \u001b[39m\u001b[32m4\u001b[39m ner_glove = NERNet(input_size=\u001b[43mVOCAB_SIZE\u001b[49m, embedding_size=EMB_DIM, hidden_size=\u001b[32m500\u001b[39m, output_size=NUM_TAGS, n_layers=\u001b[32m1\u001b[39m, directions=\u001b[32m1\u001b[39m)\n\u001b[32m      5\u001b[39m initialize_from_pretrained_emb(ner_glove, emb_matrix)\n",
            "\u001b[31mNameError\u001b[39m: name 'VOCAB_SIZE' is not defined"
          ]
        }
      ],
      "source": [
        "# Read embeddings and inject them to a model\n",
        "emb_file = 'glove.6B.300d.txt'\n",
        "emb_matrix = get_emb_matrix(emb_file, vocab)\n",
        "ner_glove = NERNet(input_size=VOCAB_SIZE, embedding_size=EMB_DIM, hidden_size=500, output_size=NUM_TAGS, n_layers=1, directions=1)\n",
        "initialize_from_pretrained_emb(ner_glove, emb_matrix)"
      ]
    },
    {
      "cell_type": "markdown",
      "metadata": {
        "id": "JElogtlHF4DN"
      },
      "source": [
        "## Step 3: Evaluate on Test Set"
      ]
    },
    {
      "cell_type": "markdown",
      "metadata": {
        "id": "Obm_WN4_ALmM"
      },
      "source": [
        "Same as the evaluation process before, please display:\n",
        "\n",
        "1. Print a `RECALL-PERCISION-F1` scores in a tabulate format.\n",
        "2. Display a `confusion matrix` plot: where the predicted labels are the rows, and the true labels are the columns.\n",
        "\n",
        "Make sure to use the title for the plot, axis names, and the names of the tags on the X-axis.\n",
        "\n",
        "Make sure to download and upload this CSV as well."
      ]
    },
    {
      "cell_type": "code",
      "execution_count": null,
      "metadata": {
        "id": "c7Xw3h6mAhRw"
      },
      "outputs": [],
      "source": [
        "results = pd.DataFrame(columns=columns)\n",
        "file_name = \"NER_results_glove.csv\"\n",
        "# TO DO ----------------------------------------------------------------------\n",
        "\n",
        "# TO DO ----------------------------------------------------------------------\n",
        "print(tabulate(results, headers='keys', tablefmt='psql',floatfmt=\".4f\"))"
      ]
    },
    {
      "cell_type": "markdown",
      "metadata": {
        "id": "c5XrhAdNXShg"
      },
      "source": [
        "## Step 4 - best model\n",
        "Decide which model performs the best, write its configuration, train it for 5 more epochs and evaluate it on the test set."
      ]
    },
    {
      "cell_type": "code",
      "execution_count": null,
      "metadata": {
        "id": "QHI_ECNwXR-7"
      },
      "outputs": [],
      "source": [
        "best_model_glove_cfg = {'embedding_size':EMB_DIM, 'hidden_size': -1, 'n_layers': -1, 'directions': -1}\n",
        "# TO DO ----------------------------------------------------------------------\n",
        "\n",
        "# TO DO ----------------------------------------------------------------------"
      ]
    },
    {
      "cell_type": "markdown",
      "metadata": {
        "id": "z5vt-crDKzwA"
      },
      "source": [
        "# Part 5 - Error Analysis"
      ]
    },
    {
      "cell_type": "markdown",
      "metadata": {
        "id": "su5BqB2nKz6K"
      },
      "source": [
        "In this part, you'll analyze the errors made by your best model to understand its strengths and weaknesses."
      ]
    },
    {
      "cell_type": "markdown",
      "metadata": {
        "id": "s0YbktMuK0P1"
      },
      "source": [
        "## Step 1: Extract Predictions\n",
        "\n",
        "First, let's extract predictions from your best model on the test set:"
      ]
    },
    {
      "cell_type": "code",
      "execution_count": null,
      "metadata": {
        "id": "kP4tEV8HK-Bt"
      },
      "outputs": [],
      "source": [
        "def get_predictions(model, dataloader, vocab, PAD_TOKEN, DEVICE):\n",
        "    \"\"\"\n",
        "    Get predictions from the model on a dataloader.\n",
        "\n",
        "    Returns:\n",
        "        - true_tags_list: List of lists of true tag strings\n",
        "        - pred_tags_list: List of lists of predicted tag strings\n",
        "        - words_list: List of lists of words\n",
        "    \"\"\"\n",
        "    import torch\n",
        "\n",
        "    model.eval()\n",
        "    true_tags_list = []\n",
        "    pred_tags_list = []\n",
        "    words_list = []\n",
        "\n",
        "    with torch.no_grad():\n",
        "        # Handle different dataloader output formats\n",
        "        for batch in dataloader:\n",
        "            # Unpack based on actual dataloader output\n",
        "            if len(batch) == 3:  # (input_ids, casing_features, labels)\n",
        "                input_ids, casing_features, labels = batch\n",
        "                # Move tensors to device\n",
        "                input_ids = input_ids.to(DEVICE)\n",
        "                casing_features = casing_features.to(DEVICE)\n",
        "                labels = labels.to(DEVICE)\n",
        "\n",
        "                # Get model predictions\n",
        "                outputs = model(input_ids, casing_features)\n",
        "            else:  # (input_ids, labels)\n",
        "                input_ids, labels = batch\n",
        "                # Move tensors to device\n",
        "                input_ids = input_ids.to(DEVICE)\n",
        "                labels = labels.to(DEVICE)\n",
        "\n",
        "                # Get model predictions\n",
        "                outputs = model(input_ids)\n",
        "\n",
        "            _, predicted = torch.max(outputs, 2)\n",
        "\n",
        "            # Process each sequence in the batch\n",
        "            for i in range(input_ids.size(0)):\n",
        "                # Get sequence length (ignoring padding)\n",
        "                seq_len = (input_ids[i] != PAD_TOKEN).sum().item()\n",
        "\n",
        "                # Convert ids to tag strings and words\n",
        "                true_tags = [vocab.id2tag[tag.item()] for tag in labels[i][:seq_len]]\n",
        "                pred_tags = [vocab.id2tag[tag.item()] for tag in predicted[i][:seq_len]]\n",
        "                words = [vocab.id2word[word.item()] for word in input_ids[i][:seq_len]]\n",
        "\n",
        "                true_tags_list.append(true_tags)\n",
        "                pred_tags_list.append(pred_tags)\n",
        "                words_list.append(words)\n",
        "\n",
        "    return true_tags_list, pred_tags_list, words_list"
      ]
    },
    {
      "cell_type": "markdown",
      "metadata": {
        "id": "Aclr0JGILAcQ"
      },
      "source": [
        "## Step 2: Implement Simple Error Analysis\n",
        "\n",
        "Now, implement a function to analyze the errors in predictions:"
      ]
    },
    {
      "cell_type": "code",
      "execution_count": null,
      "metadata": {
        "id": "IZZqT0vELC_A"
      },
      "outputs": [],
      "source": [
        "def simple_analyze_errors(true_tags, pred_tags, words):\n",
        "    \"\"\"\n",
        "    Analyze errors in NER predictions.\n",
        "\n",
        "    Args:\n",
        "        true_tags: List of true tag sequences\n",
        "        pred_tags: List of predicted tag sequences\n",
        "        words: List of word sequences\n",
        "\n",
        "    Returns:\n",
        "        dict: Error statistics and examples\n",
        "    \"\"\"\n",
        "    # TODO: Implement error analysis\n",
        "    # 1. Initialize error categories\n",
        "    # 2. Process each sequence to identify errors\n",
        "    # 3. Categorize errors and collect examples\n",
        "    # 4. Return statistics and examples\n",
        "\n",
        "    # Placeholder\n",
        "    return {\n",
        "        'total_entities': 0,\n",
        "        'correct_entities': 0,\n",
        "        'accuracy': 0.0,\n",
        "        'error_counts': {},\n",
        "        'error_examples': {}\n",
        "    }"
      ]
    },
    {
      "cell_type": "markdown",
      "metadata": {
        "id": "26q-EgUULFat"
      },
      "source": [
        "## Step 3: Helper Functions\n",
        "\n",
        "Implement these helper functions to extract entities and check for overlapping spans:"
      ]
    },
    {
      "cell_type": "code",
      "execution_count": null,
      "metadata": {
        "id": "iIcVbJPXLI5C"
      },
      "outputs": [],
      "source": [
        "def get_entities_simple(tags):\n",
        "    \"\"\"\n",
        "    Extract entities from a sequence of tags.\n",
        "    Returns list of (start_idx, end_idx, entity_type) tuples.\n",
        "    \"\"\"\n",
        "    # TODO: Implement entity extraction\n",
        "    return []\n",
        "\n",
        "def has_overlap(start1, end1, start2, end2):\n",
        "    \"\"\"Check if two spans overlap\"\"\"\n",
        "    # TODO: Implement overlap checking\n",
        "    return False"
      ]
    },
    {
      "cell_type": "markdown",
      "metadata": {
        "id": "BhJmRicNLLYa"
      },
      "source": [
        "## Step 4: Visualization and Analysis\n",
        "\n",
        "Create a function to display the error analysis results:"
      ]
    },
    {
      "cell_type": "code",
      "execution_count": null,
      "metadata": {
        "id": "HeyN_NRWLN9j"
      },
      "outputs": [],
      "source": [
        "def print_error_analysis(analysis):\n",
        "    \"\"\"Print a summary of the error analysis results\"\"\"\n",
        "    # TODO: Implement printing function to show:\n",
        "    # 1. Basic statistics (total entities, correct entities, accuracy)\n",
        "    # 2. Error counts by category\n",
        "    # 3. Examples of each error type\n",
        "    # 4. Suggestions for improvement based on findings\n",
        "    pass"
      ]
    },
    {
      "cell_type": "markdown",
      "metadata": {
        "id": "XFDfxsPhLV98"
      },
      "source": [
        "## Step 5: Improvement Suggestions\n",
        "\n",
        "Based on your error analysis, suggest at least three specific improvements to your model. Consider:\n",
        "\n",
        "1. What types of errors are most common?\n",
        "2. Are there patterns in the errors (e.g., specific entity types, contexts)?\n",
        "3. What techniques might address these specific error types?\n",
        "\n",
        "Write your suggestions in 3-5 sentences for each improvement."
      ]
    },
    {
      "cell_type": "code",
      "execution_count": null,
      "metadata": {
        "id": "grl9rhhsLWp2"
      },
      "outputs": [],
      "source": [
        "# Example usage\n",
        "if __name__ == \"__main__\":\n",
        "    # Sample data for testing\n",
        "    true_tags = [\n",
        "        ['O', 'B-PER', 'I-PER', 'O', 'B-LOC', 'I-LOC', 'O'],\n",
        "        ['B-ORG', 'I-ORG', 'O', 'B-PER', 'O']\n",
        "    ]\n",
        "\n",
        "    pred_tags = [\n",
        "        ['O', 'B-PER', 'O', 'O', 'B-ORG', 'I-ORG', 'O'],\n",
        "        ['B-ORG', 'I-ORG', 'I-ORG', 'B-PER', 'O']\n",
        "    ]\n",
        "\n",
        "    words = [\n",
        "        ['The', 'John', 'Smith', 'visited', 'New', 'York', 'yesterday'],\n",
        "        ['Google', 'Inc', 'hired', 'Alice', 'recently']\n",
        "    ]\n",
        "\n",
        "    # Run the error analysis\n",
        "    analysis = simple_analyze_errors(true_tags_list, pred_tags_list, words_list)\n",
        "    print_error_analysis(analysis)\n",
        "\n",
        "    # TODO: Write your improvement suggestions here"
      ]
    },
    {
      "cell_type": "markdown",
      "metadata": {
        "id": "8cUiLd_gCRO_"
      },
      "source": [
        "# Testing\n",
        "Copy the content of the **tests.py** file from the repo and paste below. This will create the results.json file and download it to your machine."
      ]
    },
    {
      "cell_type": "code",
      "execution_count": null,
      "metadata": {
        "id": "UMVrbY0SCRja"
      },
      "outputs": [],
      "source": [
        "####################\n",
        "# PLACE TESTS HERE #\n",
        "train_ds = read_data(\"data/train.txt\")\n",
        "dev_ds = read_data(\"data/dev.txt\")\n",
        "test_ds = read_data(\"data/test.txt\")\n",
        "def test_read_data():\n",
        "    result = {\n",
        "        'lengths': (len(train_ds), len(dev_ds), len(test_ds)),\n",
        "    }\n",
        "    return result\n",
        "\n",
        "vocab = Vocab(train_ds)\n",
        "def test_vocab():\n",
        "    sent = vocab.index_words([\"I\", \"am\", \"Spongebob\"])\n",
        "    return {\n",
        "        'length': vocab.n_words,\n",
        "        'tag2id_length': len(vocab.tag2id),\n",
        "        \"Spongebob\": sent[2]\n",
        "    }\n",
        "\n",
        "train_sequences = prepare_data(train_ds, vocab)\n",
        "dev_sequences = prepare_data(dev_ds, vocab)\n",
        "test_sequences = prepare_data(test_ds, vocab)\n",
        "\n",
        "def test_count_oov():\n",
        "    return {\n",
        "        'dev_oov': count_oov(dev_sequences),\n",
        "        'test_oov': count_oov(test_sequences)\n",
        "    }\n",
        "\n",
        "BATCH_SIZE = 16\n",
        "dl_train = prepare_data_loader(train_sequences, batch_size=BATCH_SIZE)\n",
        "dl_dev = prepare_data_loader(dev_sequences, batch_size=BATCH_SIZE, train=False)\n",
        "dl_test = prepare_data_loader(test_sequences, batch_size=BATCH_SIZE, train=False)\n",
        "\n",
        "def test_prepare_data_loader():\n",
        "    return {\n",
        "        'lengths': (len(dl_train), len(dl_dev), len(dl_test))\n",
        "    }\n",
        "\n",
        "\n",
        "def test_NERNet():\n",
        "    # Extract best model configuration\n",
        "    hidden_size = best_model_cfg['hidden_size']\n",
        "    n_layers = best_model_cfg['n_layers']\n",
        "    directions = best_model_cfg['directions']\n",
        "\n",
        "\n",
        "    # Create model\n",
        "    best_model = NERNet(vocab.n_words, embedding_size=300, hidden_size=hidden_size, output_size=vocab.n_tags, n_layers=n_layers, directions=directions)\n",
        "    best_model.to(DEVICE)\n",
        "\n",
        "    # Train model and evaluate\n",
        "    _ = train_loop(best_model, n_epochs=10, dataloader_train=dl_train, dataloader_dev=dl_dev)\n",
        "    results = evaluate(best_model, title=\"\", dataloader=dl_test, vocab=vocab)\n",
        "\n",
        "    return {\n",
        "        'f1': results['F1'],\n",
        "        'f1_wo_o': results['F1_WO_O'],\n",
        "    }\n",
        "\n",
        "def test_glove():\n",
        "    # Get embeddings\n",
        "    emb_file = 'glove.6B.300d.txt'\n",
        "    emb_matrix = get_emb_matrix(emb_file, vocab)\n",
        "\n",
        "    # Extract best model configuration\n",
        "    hidden_size = best_model_glove_cfg['hidden_size']\n",
        "    n_layers = best_model_glove_cfg['n_layers']\n",
        "    directions = best_model_glove_cfg['directions']\n",
        "\n",
        "    # Create model\n",
        "    best_model = NERNet(vocab.n_words, embedding_size=300, hidden_size=hidden_size, output_size=vocab.n_tags, n_layers=n_layers, directions=directions)\n",
        "    best_model.to(DEVICE)\n",
        "    initialize_from_pretrained_emb(ner_glove, emb_matrix)\n",
        "\n",
        "    # Train model and evaluate\n",
        "    _ = train_loop(best_model, n_epochs=10, dataloader_train=dl_train, dataloader_dev=dl_dev)\n",
        "    results = evaluate(best_model, title=\"\", dataloader=dl_test, vocab=vocab)\n",
        "\n",
        "    return {\n",
        "        'f1': results['F1'],\n",
        "        'f1_wo_o': results['F1_WO_O'],\n",
        "    }\n",
        "\n",
        "TESTS = [\n",
        "    test_read_data,\n",
        "    test_vocab,\n",
        "    test_count_oov,\n",
        "    test_prepare_data_loader,\n",
        "    test_NERNet,\n",
        "    test_glove\n",
        "]\n",
        "\n",
        "# Run tests and save results\n",
        "res = {}\n",
        "for test in TESTS:\n",
        "    try:\n",
        "        cur_res = test()\n",
        "        res.update({test.__name__: cur_res})\n",
        "    except Exception as e:\n",
        "        res.update({test.__name__: repr(e)})\n",
        "\n",
        "with open('results.json', 'w') as f:\n",
        "    json.dump(res, f, indent=2)\n",
        "\n",
        "# Download the results.json file\n",
        "files.download('results.json')\n",
        "\n",
        "####################\n"
      ]
    }
  ],
  "metadata": {
    "accelerator": "GPU",
    "colab": {
      "provenance": []
    },
    "kernelspec": {
      "display_name": "nlp-ex2",
      "language": "python",
      "name": "python3"
    },
    "language_info": {
      "codemirror_mode": {
        "name": "ipython",
        "version": 3
      },
      "file_extension": ".py",
      "mimetype": "text/x-python",
      "name": "python",
      "nbconvert_exporter": "python",
      "pygments_lexer": "ipython3",
      "version": "3.12.4"
    }
  },
  "nbformat": 4,
  "nbformat_minor": 0
}
